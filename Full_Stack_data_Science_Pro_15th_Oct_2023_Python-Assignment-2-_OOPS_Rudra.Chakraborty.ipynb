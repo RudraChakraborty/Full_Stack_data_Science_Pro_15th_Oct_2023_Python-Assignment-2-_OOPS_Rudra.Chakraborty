{
 "cells": [
  {
   "cell_type": "markdown",
   "metadata": {},
   "source": [
    "# Constructor:"
   ]
  },
  {
   "cell_type": "markdown",
   "metadata": {},
   "source": [
    "1. What is a constructor in Python? Explain its purpose and usage."
   ]
  },
  {
   "cell_type": "code",
   "execution_count": 2,
   "metadata": {},
   "outputs": [
    {
     "name": "stdout",
     "output_type": "stream",
     "text": [
      "Rudra\n",
      "25\n",
      "Hello, my name is Rudra and I am 25 years old.\n"
     ]
    }
   ],
   "source": [
    "class Person:\n",
    "    def __init__(self, name, age):\n",
    "        self.name = name\n",
    "        self.age = age\n",
    "    def greet(self):\n",
    "        return f\"Hello, my name is {self.name} and I am {self.age} years old.\"\n",
    "person1 = Person(\"Rudra\", 25)\n",
    "print(person1.name)\n",
    "print(person1.age)\n",
    "print(person1.greet())"
   ]
  },
  {
   "cell_type": "code",
   "execution_count": 1,
   "metadata": {},
   "outputs": [
    {
     "name": "stdout",
     "output_type": "stream",
     "text": [
      "Rudra\n",
      "25\n"
     ]
    }
   ],
   "source": [
    "class Person:\n",
    "    def __init__(self, name=\"Rudra\", age=25):\n",
    "        self.name = name\n",
    "        self.age = age\n",
    "person2 = Person()\n",
    "print(person2.name)\n",
    "print(person2.age)"
   ]
  },
  {
   "cell_type": "markdown",
   "metadata": {},
   "source": [
    "2. Differentiate between a parameterless constructor and a parameterized constructor in Python."
   ]
  },
  {
   "cell_type": "code",
   "execution_count": null,
   "metadata": {},
   "outputs": [],
   "source": [
    "class Person:\n",
    "    def __init__(self):\n",
    "        self.name = \"Unknown\"\n",
    "        self.age = 0\n",
    "    def display(self):\n",
    "        print(f\"Name: {self.name}, Age: {self.age}\")\n",
    "person1 = Person()\n",
    "person1.display()"
   ]
  },
  {
   "cell_type": "code",
   "execution_count": 5,
   "metadata": {},
   "outputs": [
    {
     "name": "stdout",
     "output_type": "stream",
     "text": [
      "Name: Rudra, Age: 25\n"
     ]
    }
   ],
   "source": [
    "class Person:\n",
    "    def __init__(self, name, age):\n",
    "        self.name = name\n",
    "        self.age = age\n",
    "    def display(self):\n",
    "        print(f\"Name: {self.name}, Age: {self.age}\")\n",
    "person2 = Person(\"Rudra\", 25)\n",
    "person2.display()"
   ]
  },
  {
   "cell_type": "markdown",
   "metadata": {},
   "source": [
    "3. How do you define a constructor in a Python class? Provide an example."
   ]
  },
  {
   "cell_type": "code",
   "execution_count": 2,
   "metadata": {},
   "outputs": [
    {
     "name": "stdout",
     "output_type": "stream",
     "text": [
      "Car Make: BMW\n",
      "Car Model: Z4\n",
      "Car Year: 2024\n"
     ]
    }
   ],
   "source": [
    "class Car:\n",
    "    def __init__(self, make, model, year):\n",
    "        self.make = make\n",
    "        self.model = model\n",
    "        self.year = year\n",
    "\n",
    "    def display_info(self):\n",
    "        print(f\"Car Make: {self.make}\")\n",
    "        print(f\"Car Model: {self.model}\")\n",
    "        print(f\"Car Year: {self.year}\")\n",
    "my_car = Car(\"BMW\", \"Z4\", 2024)\n",
    "my_car.display_info()"
   ]
  },
  {
   "cell_type": "markdown",
   "metadata": {},
   "source": [
    "4. Explain the `__init__` method in Python and its role in constructors."
   ]
  },
  {
   "cell_type": "code",
   "execution_count": 4,
   "metadata": {},
   "outputs": [
    {
     "name": "stdout",
     "output_type": "stream",
     "text": [
      "This animal is a Dog named Doodle.\n"
     ]
    }
   ],
   "source": [
    "class Animal:\n",
    "    def __init__(self, name, species):\n",
    "        self.name = name\n",
    "        self.species = species\n",
    "    def describe(self):\n",
    "        print(f\"This animal is a {self.species} named {self.name}.\")\n",
    "my_pet = Animal(\"Doodle\", \"Dog\")\n",
    "my_pet.describe()"
   ]
  },
  {
   "cell_type": "markdown",
   "metadata": {},
   "source": [
    "5. In a class named `Person`, create a constructor that initializes the `name` and `age` attributes. Provide an example of creating an object of this class."
   ]
  },
  {
   "cell_type": "code",
   "execution_count": 5,
   "metadata": {},
   "outputs": [
    {
     "name": "stdout",
     "output_type": "stream",
     "text": [
      "Name: Rudra, Age: 25\n"
     ]
    }
   ],
   "source": [
    "class Person:\n",
    "    def __init__(self,name,age):\n",
    "        self.name=name\n",
    "        self.age=age\n",
    "    def display(self):\n",
    "        print(f\"Hi, my name is {self.name} and I am {self.age} years old.\")\n",
    "person2 = Person(\"Rudra\", 25)\n",
    "person2.display()"
   ]
  },
  {
   "cell_type": "markdown",
   "metadata": {},
   "source": [
    "6. How can you call a constructor explicitly in Python? Give an example."
   ]
  },
  {
   "cell_type": "code",
   "execution_count": 7,
   "metadata": {},
   "outputs": [
    {
     "name": "stdout",
     "output_type": "stream",
     "text": [
      "Name: Rudra, Age: 25\n"
     ]
    }
   ],
   "source": [
    "class Person:\n",
    "    def __init__(self, name, age):\n",
    "        self.name = name\n",
    "        self.age = age\n",
    "    def introduce(self):\n",
    "        print(f\"Hi, my name is {self.name} and I am {self.age} years old.\")\n",
    "person1 = Person.__init__(Person, \"Rudra\", 25)\n",
    "print(f\"Name: {Person.name}, Age: {Person.age}\")\n"
   ]
  },
  {
   "cell_type": "markdown",
   "metadata": {},
   "source": [
    "7. What is the significance of the `self` parameter in Python constructors? Explain with an example."
   ]
  },
  {
   "cell_type": "code",
   "execution_count": 1,
   "metadata": {},
   "outputs": [
    {
     "name": "stdout",
     "output_type": "stream",
     "text": [
      "This car is a Toyota Corolla.\n",
      "This car is a Honda Civic.\n"
     ]
    }
   ],
   "source": [
    "class Car:\n",
    "    def __init__(self, brand, model):\n",
    "        self.brand = brand  \n",
    "        self.model = model  \n",
    "    def display_info(self):\n",
    "        print(f\"This car is a {self.brand} {self.model}.\")\n",
    "car1 = Car(\"Toyota\", \"Corolla\")\n",
    "car2 = Car(\"Honda\", \"Civic\")\n",
    "car1.display_info()\n",
    "car2.display_info()"
   ]
  },
  {
   "cell_type": "markdown",
   "metadata": {},
   "source": [
    "8. Discuss the concept of default constructors in Python. When are they used?"
   ]
  },
  {
   "cell_type": "code",
   "execution_count": 5,
   "metadata": {},
   "outputs": [
    {
     "name": "stdout",
     "output_type": "stream",
     "text": [
      "<__main__.Dog object at 0x0000025A0EF10230>\n"
     ]
    }
   ],
   "source": [
    "class Dog:\n",
    "    pass\n",
    "d = Dog()\n",
    "print(d)"
   ]
  },
  {
   "cell_type": "code",
   "execution_count": 7,
   "metadata": {},
   "outputs": [
    {
     "name": "stdout",
     "output_type": "stream",
     "text": [
      "Buddy\n"
     ]
    }
   ],
   "source": [
    "class Dog:\n",
    "    def __init__(self, name, breed):\n",
    "        self.name = name\n",
    "        self.breed = breed\n",
    "e = Dog(\"Buddy\", \"Golden Retriever\")\n",
    "print(e.name) \n"
   ]
  },
  {
   "cell_type": "markdown",
   "metadata": {},
   "source": [
    "9. Create a Python class called `Rectangle` with a constructor that initializes the `width` and `height` \n",
    "attributes. Provide a method to calculate the area of the rectangle."
   ]
  },
  {
   "cell_type": "code",
   "execution_count": 10,
   "metadata": {},
   "outputs": [
    {
     "name": "stdout",
     "output_type": "stream",
     "text": [
      "Width: 50\n",
      "Height: 100\n",
      "Area of the rectangle: 5000\n"
     ]
    }
   ],
   "source": [
    "class Rectangle:\n",
    "    def __init__(self, width, height):\n",
    "        self.width = width\n",
    "        self.height = height\n",
    "    def calculate_area(self):\n",
    "        return self.width * self.height\n",
    "width=int(input(\"Enter the width\"))\n",
    "height=int(input(\"Enter the height\"))\n",
    "rect = Rectangle(width, height)\n",
    "print(f\"Width: {rect.width}\")\n",
    "print(f\"Height: {rect.height}\")\n",
    "print(f\"Area of the rectangle: {rect.calculate_area()}\")"
   ]
  },
  {
   "cell_type": "markdown",
   "metadata": {},
   "source": [
    "10. How can you have multiple constructors in a Python class? Explain with an example."
   ]
  },
  {
   "cell_type": "code",
   "execution_count": 13,
   "metadata": {},
   "outputs": [
    {
     "name": "stdout",
     "output_type": "stream",
     "text": [
      "rect1 area: 0\n",
      "rect2 area: 0\n",
      "rect3 area: 3125\n"
     ]
    }
   ],
   "source": [
    "class Rectangle:\n",
    "    def __init__(self, width=0, height=0):\n",
    "        self.width = width\n",
    "        self.height = height\n",
    "    def calculate_area(self):\n",
    "        return self.width * self.height\n",
    "width=int(input(\"Enter the width\"))\n",
    "height=int(input(\"Enter the height\"))\n",
    "rect1 = Rectangle()\n",
    "rect2 = Rectangle(width)\n",
    "rect3 = Rectangle(width, height)\n",
    "print(f\"rect1 area: {rect1.calculate_area()}\")\n",
    "print(f\"rect2 area: {rect2.calculate_area()}\")\n",
    "print(f\"rect3 area: {rect3.calculate_area()}\")"
   ]
  },
  {
   "cell_type": "code",
   "execution_count": 14,
   "metadata": {},
   "outputs": [
    {
     "name": "stdout",
     "output_type": "stream",
     "text": [
      "rect1 area: 50\n",
      "square area: 16\n",
      "zero_rect area: 0\n"
     ]
    }
   ],
   "source": [
    "class Rectangle:\n",
    "    def __init__(self, width, height):\n",
    "        self.width = width\n",
    "        self.height = height\n",
    "    def calculate_area(self):\n",
    "        return self.width * self.height\n",
    "    @classmethod\n",
    "    def from_square(cls, side_length):\n",
    "        return cls(side_length, side_length)\n",
    "    @classmethod\n",
    "    def zero_rectangle(cls):\n",
    "        return cls(0, 0)\n",
    "\n",
    "rect1 = Rectangle(5, 10) \n",
    "square = Rectangle.from_square(4)\n",
    "zero_rect = Rectangle.zero_rectangle()\n",
    "\n",
    "print(f\"rect1 area: {rect1.calculate_area()}\")\n",
    "print(f\"square area: {square.calculate_area()}\")\n",
    "print(f\"zero_rect area: {zero_rect.calculate_area()}\")\n"
   ]
  },
  {
   "cell_type": "markdown",
   "metadata": {},
   "source": [
    "11. What is method overloading, and how is it related to constructors in Python?"
   ]
  },
  {
   "cell_type": "code",
   "execution_count": 3,
   "metadata": {},
   "outputs": [
    {
     "name": "stdout",
     "output_type": "stream",
     "text": [
      "Rudra 25\n",
      "Aakash 0\n",
      "Unknown 0\n"
     ]
    }
   ],
   "source": [
    "class Person:\n",
    "    def __init__(self,*args):\n",
    "        if len(args)==2:\n",
    "            self.name=args[0]\n",
    "            self.age=args[1]\n",
    "        elif len(args)==1:\n",
    "            self.name=args[0]\n",
    "            self.age=0\n",
    "        else:\n",
    "            self.name=\"Unknown\"\n",
    "            self.age=0\n",
    "person1=Person(\"Rudra\",25)\n",
    "person2=Person(\"Aakash\")\n",
    "person3=Person()\n",
    "\n",
    "print(person1.name,person1.age)\n",
    "print(person2.name,person2.age)\n",
    "print(person3.name,person3.age)"
   ]
  },
  {
   "cell_type": "markdown",
   "metadata": {},
   "source": [
    "12. Explain the use of the `super()` function in Python constructors. Provide an example."
   ]
  },
  {
   "cell_type": "code",
   "execution_count": 4,
   "metadata": {},
   "outputs": [
    {
     "name": "stdout",
     "output_type": "stream",
     "text": [
      "Name: Buddy, Breed: Labrador, Species: Dog, Sound: Bark\n",
      "The Dog goes 'Bark'\n"
     ]
    }
   ],
   "source": [
    "class Animal:\n",
    "    def __init__(self,species,sound):\n",
    "        self.species=species\n",
    "        self.sound=sound\n",
    "    def make_sound(self):\n",
    "        print(f\"The {self.species} goes '{self.sound}'\")\n",
    "class Dog(Animal):\n",
    "    def __init__(self, breed, name, species=\"Dog\", sound=\"Bark\"):\n",
    "        super().__init__(species, sound)\n",
    "        self.breed = breed\n",
    "        self.name = name\n",
    "    def display_info(self):\n",
    "        print(f\"Name: {self.name}, Breed: {self.breed}, Species: {self.species}, Sound: {self.sound}\")\n",
    "dog = Dog(breed=\"Labrador\", name=\"Buddy\")\n",
    "dog.display_info()\n",
    "dog.make_sound()"
   ]
  },
  {
   "cell_type": "markdown",
   "metadata": {},
   "source": [
    "13. Create a class called `Book` with a constructor that initializes the `title`, `author`, and `published_year` \n",
    "attributes. Provide a method to display book details."
   ]
  },
  {
   "cell_type": "code",
   "execution_count": 6,
   "metadata": {},
   "outputs": [
    {
     "name": "stdout",
     "output_type": "stream",
     "text": [
      "Title: To Kill a Mockingbird\n",
      "Author: Harper Lee\n",
      "Published Year: 1960\n"
     ]
    }
   ],
   "source": [
    "class Book:\n",
    "    def __init__(self,title, author, published_year):\n",
    "        self.title=title\n",
    "        self.author=author\n",
    "        self.published_year=published_year\n",
    "    def display_details(self):\n",
    "        print(f\"Title: {self.title}\")\n",
    "        print(f\"Author: {self.author}\")\n",
    "        print(f\"Published Year: {self.published_year}\")\n",
    "book1=Book(\"To Kill a Mockingbird\", \"Harper Lee\", 1960)\n",
    "book1.display_details()"
   ]
  },
  {
   "cell_type": "markdown",
   "metadata": {},
   "source": [
    "14. Discuss the differences between constructors and regular methods in Python classes."
   ]
  },
  {
   "cell_type": "code",
   "execution_count": 7,
   "metadata": {},
   "outputs": [
    {
     "name": "stdout",
     "output_type": "stream",
     "text": [
      "Width: 5, Height: 10\n",
      "Area: 50\n"
     ]
    }
   ],
   "source": [
    "class Rectangle:\n",
    "    def __init__(self, width, height):\n",
    "        self.width = width\n",
    "        self.height = height\n",
    "    def calculate_area(self):\n",
    "        return self.width * self.height\n",
    "    def display_details(self):\n",
    "        print(f\"Width: {self.width}, Height: {self.height}\")\n",
    "rect = Rectangle(5, 10)\n",
    "area = rect.calculate_area()\n",
    "rect.display_details()\n",
    "print(f\"Area: {area}\")"
   ]
  },
  {
   "cell_type": "markdown",
   "metadata": {},
   "source": [
    "15. Explain the role of the `self` parameter in instance variable initialization within a constructor."
   ]
  },
  {
   "cell_type": "code",
   "execution_count": 8,
   "metadata": {},
   "outputs": [
    {
     "name": "stdout",
     "output_type": "stream",
     "text": [
      "Name: Alice, Age: 30\n",
      "Name: Bob, Age: 25\n"
     ]
    }
   ],
   "source": [
    "class Person:\n",
    "    def __init__(self, name, age):\n",
    "        self.name = name\n",
    "        self.age = age\n",
    "    def display_info(self):\n",
    "        print(f\"Name: {self.name}, Age: {self.age}\")\n",
    "person1 = Person(\"Alice\", 30)\n",
    "person2 = Person(\"Bob\", 25)\n",
    "person1.display_info()\n",
    "person2.display_info()\n"
   ]
  },
  {
   "cell_type": "markdown",
   "metadata": {},
   "source": [
    "16. How do you prevent a class from having multiple instances by using constructors in Python? Provide an \n",
    "example."
   ]
  },
  {
   "cell_type": "code",
   "execution_count": 9,
   "metadata": {},
   "outputs": [
    {
     "name": "stdout",
     "output_type": "stream",
     "text": [
      "True\n",
      "42\n",
      "42\n"
     ]
    }
   ],
   "source": [
    "class Singleton:\n",
    "    _instance= None\n",
    "    def __new__(cls):\n",
    "        if cls._instance is None:\n",
    "             cls._instance = super(Singleton, cls).__new__(cls)\n",
    "        return cls._instance\n",
    "    def __init__(self):\n",
    "        self.value = 42\n",
    "obj1 = Singleton()\n",
    "obj2 = Singleton()\n",
    "print(obj1 is obj2)\n",
    "print(obj1.value)\n",
    "print(obj2.value) "
   ]
  },
  {
   "cell_type": "markdown",
   "metadata": {},
   "source": [
    "17. Create a Python class called `Student` with a constructor that takes a list of subjects as a parameter and \n",
    "initializes the `subjects` attribute."
   ]
  },
  {
   "cell_type": "code",
   "execution_count": 11,
   "metadata": {},
   "outputs": [
    {
     "name": "stdout",
     "output_type": "stream",
     "text": [
      "Subjects enrolled:\n",
      "- Economics\n",
      "- Mathmetics\n",
      "- Statistics\n"
     ]
    }
   ],
   "source": [
    "class Student:\n",
    "    def __init__(self, subjects):\n",
    "        self.subjects = subjects\n",
    "    def display_subjects(self):\n",
    "        print(\"Subjects enrolled:\")\n",
    "        for subject in self.subjects:\n",
    "            print(f\"- {subject}\")\n",
    "student1 = Student([\"Economics\", \"Mathmetics\", \"Statistics\"])\n",
    "student1.display_subjects()"
   ]
  },
  {
   "cell_type": "markdown",
   "metadata": {},
   "source": [
    "18. What is the purpose of the `__del__` method in Python classes, and how does it relate to constructors?"
   ]
  },
  {
   "cell_type": "code",
   "execution_count": 12,
   "metadata": {},
   "outputs": [
    {
     "name": "stdout",
     "output_type": "stream",
     "text": [
      "Object Object1 created.\n",
      "Object Object1 is being destroyed.\n"
     ]
    }
   ],
   "source": [
    "class MyClass:\n",
    "    def __init__(self, name):\n",
    "        self.name = name\n",
    "        print(f\"Object {self.name} created.\")\n",
    "    def __del__(self):\n",
    "        print(f\"Object {self.name} is being destroyed.\")\n",
    "obj1 = MyClass(\"Object1\")\n",
    "del obj1"
   ]
  },
  {
   "cell_type": "markdown",
   "metadata": {},
   "source": [
    "19. Explain the use of constructor chaining in Python. Provide a practical example."
   ]
  },
  {
   "cell_type": "code",
   "execution_count": 13,
   "metadata": {},
   "outputs": [
    {
     "name": "stdout",
     "output_type": "stream",
     "text": [
      "Person Constructor: Name = Rudra, Age = 25\n",
      "Student Constructor: Student ID = S645328\n"
     ]
    }
   ],
   "source": [
    "class Person:\n",
    "    def __init__(self, name, age):\n",
    "        self.name = name\n",
    "        self.age = age\n",
    "        print(f\"Person Constructor: Name = {self.name}, Age = {self.age}\")\n",
    "\n",
    "class Student(Person):\n",
    "    def __init__(self, name, age, student_id):\n",
    "        super().__init__(name, age)\n",
    "        self.student_id = student_id\n",
    "        print(f\"Student Constructor: Student ID = {self.student_id}\")\n",
    "student1 = Student(\"Rudra\", 25, \"S645328\")\n"
   ]
  },
  {
   "cell_type": "markdown",
   "metadata": {},
   "source": [
    "20. Create a Python class called `Car` with a default constructor that initializes the `make` and `model` \n",
    "attributes. Provide a method to display car information."
   ]
  },
  {
   "cell_type": "code",
   "execution_count": 14,
   "metadata": {},
   "outputs": [
    {
     "name": "stdout",
     "output_type": "stream",
     "text": [
      "Car Make: BMW, Model: M4\n"
     ]
    }
   ],
   "source": [
    "class Car:\n",
    "    def __init__(self, make=\"Unknown\", model=\"Unknown\"):\n",
    "        \"\"\"Default constructor that initializes make and model.\"\"\"\n",
    "        self.make = make\n",
    "        self.model = model\n",
    "\n",
    "    def display_info(self):\n",
    "        \"\"\"Method to display car information.\"\"\"\n",
    "        print(f\"Car Make: {self.make}, Model: {self.model}\")\n",
    "my_car = Car(\"BMW\", \"M4\")\n",
    "my_car.display_info()"
   ]
  },
  {
   "cell_type": "markdown",
   "metadata": {},
   "source": [
    "# Inheritance:"
   ]
  },
  {
   "cell_type": "markdown",
   "metadata": {},
   "source": [
    "1. What is inheritance in Python? Explain its significance in object-oriented programming."
   ]
  },
  {
   "cell_type": "code",
   "execution_count": 1,
   "metadata": {},
   "outputs": [
    {
     "name": "stdout",
     "output_type": "stream",
     "text": [
      "Child name is Rudra and age is 25\n"
     ]
    }
   ],
   "source": [
    "class Parent:\n",
    "    def __init__(self,name):\n",
    "        self.name=name\n",
    "    def display(self):\n",
    "        print(f\"Parent name is {self.name}\")\n",
    "class Child(Parent):\n",
    "    def __init__(self,name,age):\n",
    "        super().__init__(name)\n",
    "        self.age=age\n",
    "    def display(self):\n",
    "        print(f\"Child name is {self.name} and age is {self.age}\")\n",
    "child = Child(\"Rudra\", 25)\n",
    "child.display()"
   ]
  },
  {
   "cell_type": "markdown",
   "metadata": {},
   "source": [
    "2. Differentiate between single inheritance and multiple inheritance in Python. Provide examples for each."
   ]
  },
  {
   "cell_type": "code",
   "execution_count": 8,
   "metadata": {},
   "outputs": [
    {
     "name": "stdout",
     "output_type": "stream",
     "text": [
      "Buddy, barks.\n"
     ]
    }
   ],
   "source": [
    "#Single Inheritance\n",
    "class Animal:\n",
    "    def __init__(self,name):\n",
    "        self.name=name\n",
    "    def speak(self):\n",
    "        return f\"{self.name}\"\n",
    "class Dog(Animal):\n",
    "    def speak(self):\n",
    "        return f\"{self.name}, barks.\"\n",
    "dog = Dog(\"Buddy\")\n",
    "print(dog.speak())"
   ]
  },
  {
   "cell_type": "code",
   "execution_count": 9,
   "metadata": {},
   "outputs": [
    {
     "name": "stdout",
     "output_type": "stream",
     "text": [
      "Engine starts.\n",
      "Wheels start rolling.\n",
      "Car is driving.\n"
     ]
    }
   ],
   "source": [
    "#Multiple Inheritance\n",
    "class Engine:\n",
    "    def start(self):\n",
    "        return \"Engine starts.\"\n",
    "class Wheels:\n",
    "    def roll(self):\n",
    "        return \"Wheels start rolling.\"\n",
    "class Car(Engine, Wheels):\n",
    "    def drive(self):\n",
    "        return \"Car is driving.\"\n",
    "car = Car()\n",
    "print(car.start())\n",
    "print(car.roll())\n",
    "print(car.drive())"
   ]
  },
  {
   "cell_type": "markdown",
   "metadata": {},
   "source": [
    "3. Create a Python class called `Vehicle` with attributes `color` and `speed`. Then, create a child class called \n",
    "`Car` that inherits from `Vehicle` and adds a `brand` attribute. Provide an example of creating a `Car` object."
   ]
  },
  {
   "cell_type": "code",
   "execution_count": 12,
   "metadata": {},
   "outputs": [
    {
     "name": "stdout",
     "output_type": "stream",
     "text": [
      "This is a Lamborgini car. This vechile is Red and move at 220 km/h\n"
     ]
    }
   ],
   "source": [
    "class Vechile:\n",
    "    def __init__(self,color,speed):\n",
    "        self.color=color\n",
    "        self.speed=speed\n",
    "    def description(self):\n",
    "        return f\"This vechile is {self.color} and move at {self.speed} km/h\"\n",
    "class Car(Vechile):\n",
    "    def __init__(self,color,speed,brand):\n",
    "        super().__init__(color,speed)\n",
    "        self.brand=brand\n",
    "    def car_info(self):\n",
    "        return f\"This is a {self.brand} car. {self.description()}\"\n",
    "my_car = Car(\"Red\", 220, \"Lamborgini\")\n",
    "print(my_car.car_info())\n"
   ]
  },
  {
   "cell_type": "markdown",
   "metadata": {},
   "source": [
    "4. Explain the concept of method overriding in inheritance. Provide a practical example."
   ]
  },
  {
   "cell_type": "code",
   "execution_count": 13,
   "metadata": {},
   "outputs": [
    {
     "name": "stdout",
     "output_type": "stream",
     "text": [
      "Buddy barks.\n",
      "Whiskers meows.\n"
     ]
    }
   ],
   "source": [
    "class Animal:\n",
    "    def __init__(self,name):\n",
    "        self.name=name\n",
    "    def sound(self):\n",
    "        return f\"{self.name} make a sound.\"\n",
    "class Dog(Animal):\n",
    "    def sound(self):\n",
    "        return f\"{self.name} barks.\"\n",
    "class Cat(Animal):\n",
    "    def sound(self):\n",
    "        return f\"{self.name} meows.\"\n",
    "dog = Dog(\"Buddy\")\n",
    "cat = Cat(\"Whiskers\")\n",
    "print(dog.sound())\n",
    "print(cat.sound())"
   ]
  },
  {
   "cell_type": "markdown",
   "metadata": {},
   "source": [
    "5. How can you access the methods and attributes of a parent class from a child class in Python? Give an \n",
    "example."
   ]
  },
  {
   "cell_type": "code",
   "execution_count": 7,
   "metadata": {},
   "outputs": [],
   "source": [
    "#Constructor Chaining: When a child class needs to call the parent class’s constructor to inherit its properties or initialize certain attributes, super() is used to invoke the parent class’s constructor without having to reference the parent class by name.\n",
    "\n",
    "#Method Overriding: If a child class overrides a method of the parent class but still wants to invoke the parent’s version of the method, super() allows this while keeping the code clean and avoiding hardcoding the parent class name.\n",
    "\n",
    "#Multiple Inheritance: In complex inheritance hierarchies, such as multiple inheritance, super() ensures that methods are called in the correct order according to Python’s Method Resolution Order (MRO), preventing issues like calling the same method multiple times from different parent classes.\n",
    "\n",
    "#Code Maintenance: Using super() makes your code more flexible. If the class hierarchy changes or if class names are modified, super() ensures the method calls still function correctly without requiring you to manually update every method call.\n",
    "\n"
   ]
  },
  {
   "cell_type": "code",
   "execution_count": 4,
   "metadata": {},
   "outputs": [
    {
     "name": "stdout",
     "output_type": "stream",
     "text": [
      "Name: Rudra, Age: 25 Student id: S12345\n"
     ]
    }
   ],
   "source": [
    "class Person:\n",
    "    def __init__(self,name,age):\n",
    "        self.name=name\n",
    "        self.age=age\n",
    "    def show_info(self):\n",
    "        return f\"Name: {self.name}, Age: {self.age}\"\n",
    "class Student(Person):\n",
    "    def __init__(self, name, age,student_id):\n",
    "        super().__init__(name, age)\n",
    "        self.student_id=student_id\n",
    "    def show_info(self):\n",
    "        return super().show_info()+f\" Student id: {self.student_id}\"\n",
    "student = Student(\"Rudra\", 25, \"S12345\")\n",
    "print(student.show_info())"
   ]
  },
  {
   "cell_type": "markdown",
   "metadata": {},
   "source": [
    "6. Discuss the use of the `super()` function in Python inheritance. When and why is it used? Provide an \n",
    "example."
   ]
  },
  {
   "cell_type": "code",
   "execution_count": 5,
   "metadata": {},
   "outputs": [
    {
     "name": "stdout",
     "output_type": "stream",
     "text": [
      "Buddy makes a sound. Specifically, Buddy barks.\n"
     ]
    }
   ],
   "source": [
    "class Animal:\n",
    "    def __init__(self, name):\n",
    "        self.name = name\n",
    "\n",
    "    def sound(self):\n",
    "        return f\"{self.name} makes a sound.\"\n",
    "class Dog(Animal):\n",
    "    def __init__(self, name, breed):\n",
    "        super().__init__(name)\n",
    "        self.breed = breed\n",
    "    def sound(self):\n",
    "        return super().sound() + f\" Specifically, {self.name} barks.\"\n",
    "dog = Dog(\"Buddy\", \"Labrador\")\n",
    "print(dog.sound())"
   ]
  },
  {
   "cell_type": "code",
   "execution_count": 6,
   "metadata": {},
   "outputs": [
    {
     "name": "stdout",
     "output_type": "stream",
     "text": [
      "Engine with 150 HP starts. 4 wheels start rolling. Car is driving.\n"
     ]
    }
   ],
   "source": [
    "class Engine:\n",
    "    def __init__(self, horsepower):\n",
    "        self.horsepower = horsepower\n",
    "    def start(self):\n",
    "        return f\"Engine with {self.horsepower} HP starts.\"\n",
    "class Wheels:\n",
    "    def __init__(self, wheels):\n",
    "        self.wheels = wheels\n",
    "    def roll(self):\n",
    "        return f\"{self.wheels} wheels start rolling.\"\n",
    "class Car(Engine, Wheels):\n",
    "    def __init__(self, horsepower, wheels):\n",
    "        super().__init__(horsepower)\n",
    "        Wheels.__init__(self, wheels)\n",
    "    def drive(self):\n",
    "        return f\"{self.start()} {self.roll()} Car is driving.\"\n",
    "car = Car(150, 4)\n",
    "print(car.drive())"
   ]
  },
  {
   "cell_type": "markdown",
   "metadata": {},
   "source": [
    "7. Create a Python class called `Animal` with a method `speak()`. Then, create child classes `Dog` and `Cat` that inherit from `Animal` and override the `speak()` method. Provide an example of using these classes."
   ]
  },
  {
   "cell_type": "code",
   "execution_count": 8,
   "metadata": {},
   "outputs": [
    {
     "name": "stdout",
     "output_type": "stream",
     "text": [
      "Dog barks.\n",
      "Cat meows.\n"
     ]
    }
   ],
   "source": [
    "class Animal:\n",
    "    def speak(self):\n",
    "        return \"Animal makes a sound.\"\n",
    "class Dog(Animal):\n",
    "    def speak(self):\n",
    "        return \"Dog barks.\"\n",
    "class Cat(Animal):\n",
    "    def speak(self):\n",
    "        return \"Cat meows.\"\n",
    "dog = Dog()\n",
    "cat = Cat()\n",
    "print(dog.speak())\n",
    "print(cat.speak())"
   ]
  },
  {
   "cell_type": "markdown",
   "metadata": {},
   "source": [
    "8. Explain the role of the `isinstance()` function in Python and how it relates to inheritance."
   ]
  },
  {
   "cell_type": "code",
   "execution_count": 9,
   "metadata": {},
   "outputs": [
    {
     "name": "stdout",
     "output_type": "stream",
     "text": [
      "True\n",
      "True\n",
      "True\n",
      "False\n"
     ]
    }
   ],
   "source": [
    "class Animal:\n",
    "    pass\n",
    "class Dog(Animal):\n",
    "    pass\n",
    "class Cat(Animal):\n",
    "    pass\n",
    "dog = Dog()\n",
    "cat = Cat()\n",
    "print(isinstance(dog, Animal))\n",
    "print(isinstance(cat, Animal))\n",
    "print(isinstance(dog, Dog))\n",
    "print(isinstance(dog, Cat))\n"
   ]
  },
  {
   "cell_type": "markdown",
   "metadata": {},
   "source": [
    "9. What is the purpose of the `issubclass()` function in Python? Provide an example."
   ]
  },
  {
   "cell_type": "code",
   "execution_count": 1,
   "metadata": {},
   "outputs": [
    {
     "name": "stdout",
     "output_type": "stream",
     "text": [
      "True\n",
      "True\n",
      "False\n"
     ]
    }
   ],
   "source": [
    "class Animal:\n",
    "    pass\n",
    "class Dog(Animal):\n",
    "    pass\n",
    "class Cat(Animal):\n",
    "    pass\n",
    "print(issubclass(Dog, Animal))\n",
    "print(issubclass(Cat, Animal))\n",
    "print(issubclass(Animal, Dog))"
   ]
  },
  {
   "cell_type": "code",
   "execution_count": 2,
   "metadata": {},
   "outputs": [
    {
     "name": "stdout",
     "output_type": "stream",
     "text": [
      "True\n",
      "True\n",
      "True\n"
     ]
    }
   ],
   "source": [
    "class Vehicle:\n",
    "    pass\n",
    "class Engine:\n",
    "    pass\n",
    "class Car(Vehicle, Engine):\n",
    "    pass\n",
    "print(issubclass(Car, Vehicle))\n",
    "print(issubclass(Car, Engine))\n",
    "print(issubclass(Car, object))"
   ]
  },
  {
   "cell_type": "markdown",
   "metadata": {},
   "source": [
    "10. Discuss the concept of constructor inheritance in Python. How are constructors inherited in child classes?"
   ]
  },
  {
   "cell_type": "code",
   "execution_count": 3,
   "metadata": {},
   "outputs": [
    {
     "name": "stdout",
     "output_type": "stream",
     "text": [
      "Animal's name is Buddy and it's a Labrador.\n"
     ]
    }
   ],
   "source": [
    "class Animal:\n",
    "    def __init__(self, name):\n",
    "        self.name = name\n",
    "    def show_info(self):\n",
    "        return f\"Animal's name is {self.name}\"\n",
    "class Dog(Animal):\n",
    "    def __init__(self, name, breed):\n",
    "        super().__init__(name)\n",
    "        self.breed = breed\n",
    "    def show_info(self):\n",
    "        return f\"{super().show_info()} and it's a {self.breed}.\"\n",
    "dog = Dog(\"Buddy\", \"Labrador\")\n",
    "print(dog.show_info())\n"
   ]
  },
  {
   "cell_type": "markdown",
   "metadata": {},
   "source": [
    "11. Create a Python class called `Shape` with a method `area()` that calculates the area of a shape. Then, create child classes `Circle` and `Rectangle` that inherit from `Shape` and implement the `area()` method \n",
    "accordingly. Provide an example."
   ]
  },
  {
   "cell_type": "code",
   "execution_count": 4,
   "metadata": {},
   "outputs": [
    {
     "name": "stdout",
     "output_type": "stream",
     "text": [
      "Whiskers\n"
     ]
    }
   ],
   "source": [
    "class Animal:\n",
    "    def __init__(self, name):\n",
    "        self.name = name\n",
    "class Cat(Animal):\n",
    "    pass\n",
    "cat = Cat(\"Whiskers\")\n",
    "print(cat.name)"
   ]
  },
  {
   "cell_type": "code",
   "execution_count": 5,
   "metadata": {},
   "outputs": [
    {
     "name": "stdout",
     "output_type": "stream",
     "text": [
      "Car has 150 horsepower and 4 wheels.\n"
     ]
    }
   ],
   "source": [
    "class Engine:\n",
    "    def __init__(self, horsepower):\n",
    "        self.horsepower = horsepower\n",
    "class Vehicle:\n",
    "    def __init__(self, wheels):\n",
    "        self.wheels = wheels\n",
    "class Car(Engine, Vehicle):\n",
    "    def __init__(self, horsepower, wheels):\n",
    "        super().__init__(horsepower)\n",
    "        Vehicle.__init__(self, wheels)\n",
    "car = Car(150, 4)\n",
    "print(f\"Car has {car.horsepower} horsepower and {car.wheels} wheels.\")\n"
   ]
  },
  {
   "cell_type": "markdown",
   "metadata": {},
   "source": [
    "12. Explain the use of abstract base classes (ABCs) in Python and how they relate to inheritance. Provide an \n",
    "example using the `abc` module.\n"
   ]
  },
  {
   "cell_type": "code",
   "execution_count": 6,
   "metadata": {},
   "outputs": [
    {
     "name": "stdout",
     "output_type": "stream",
     "text": [
      "Area of the circle: 78.54\n",
      "Area of the rectangle: 24\n"
     ]
    }
   ],
   "source": [
    "import math\n",
    "class Shape:\n",
    "    def area(self):\n",
    "        raise NotImplementedError(\"Subclasses must implement this method\")\n",
    "class Circle(Shape):\n",
    "    def __init__(self, radius):\n",
    "        self.radius = radius\n",
    "    def area(self):\n",
    "        return math.pi * (self.radius ** 2)\n",
    "class Rectangle(Shape):\n",
    "    def __init__(self, length, width):\n",
    "        self.length = length\n",
    "        self.width = width\n",
    "    def area(self):\n",
    "        return self.length * self.width\n",
    "circle = Circle(5)\n",
    "rectangle = Rectangle(4, 6)\n",
    "print(f\"Area of the circle: {circle.area():.2f}\")\n",
    "print(f\"Area of the rectangle: {rectangle.area()}\")\n"
   ]
  },
  {
   "cell_type": "markdown",
   "metadata": {},
   "source": [
    "13. How can you prevent a child class from modifying certain attributes or methods inherited from a parent \n",
    "class in Python?"
   ]
  },
  {
   "cell_type": "code",
   "execution_count": 7,
   "metadata": {},
   "outputs": [
    {
     "name": "stdout",
     "output_type": "stream",
     "text": [
      "Circle - Area: 78.54, Perimeter: 31.42\n",
      "Rectangle - Area: 24, Perimeter: 20\n"
     ]
    }
   ],
   "source": [
    "from abc import ABC, abstractmethod\n",
    "class Shape(ABC):\n",
    "    @abstractmethod\n",
    "    def area(self):\n",
    "        pass\n",
    "    @abstractmethod\n",
    "    def perimeter(self):\n",
    "        pass\n",
    "class Circle(Shape):\n",
    "    def __init__(self, radius):\n",
    "        self.radius = radius\n",
    "    def area(self):\n",
    "        return 3.14159 * (self.radius ** 2)\n",
    "    def perimeter(self):\n",
    "        return 2 * 3.14159 * self.radius\n",
    "class Rectangle(Shape):\n",
    "    def __init__(self, length, width):\n",
    "        self.length = length\n",
    "        self.width = width\n",
    "    def area(self):\n",
    "        return self.length * self.width\n",
    "    def perimeter(self):\n",
    "        return 2 * (self.length + self.width)\n",
    "circle = Circle(5)\n",
    "rectangle = Rectangle(4, 6)\n",
    "print(f\"Circle - Area: {circle.area():.2f}, Perimeter: {circle.perimeter():.2f}\")\n",
    "print(f\"Rectangle - Area: {rectangle.area()}, Perimeter: {rectangle.perimeter()}\")"
   ]
  },
  {
   "cell_type": "code",
   "execution_count": 8,
   "metadata": {},
   "outputs": [
    {
     "name": "stdout",
     "output_type": "stream",
     "text": [
      "Modified\n"
     ]
    }
   ],
   "source": [
    "class Parent:\n",
    "    def __init__(self):\n",
    "        self._protected_attr = \"I should not be modified!\"\n",
    "        self.__private_attr = \"I am more restricted.\"\n",
    "    def _protected_method(self):\n",
    "        print(\"This is a protected method.\")\n",
    "    def __private_method(self):\n",
    "        print(\"This is a private method.\")\n",
    "class Child(Parent):\n",
    "    def try_modify(self):\n",
    "        self._protected_attr = \"Modified\"\n",
    "child = Child()\n",
    "child.try_modify()\n",
    "print(child._protected_attr)"
   ]
  },
  {
   "cell_type": "code",
   "execution_count": 9,
   "metadata": {},
   "outputs": [
    {
     "name": "stdout",
     "output_type": "stream",
     "text": [
      "50\n",
      "100\n"
     ]
    }
   ],
   "source": [
    "class Parent:\n",
    "    def __init__(self, value):\n",
    "        self._value = value\n",
    "    @property\n",
    "    def value(self):\n",
    "        return self._value\n",
    "class Child(Parent):\n",
    "    def try_modify(self):\n",
    "        pass\n",
    "parent = Parent(50)\n",
    "child = Child(100)\n",
    "print(parent.value)\n",
    "print(child.value)\n"
   ]
  },
  {
   "cell_type": "code",
   "execution_count": 10,
   "metadata": {},
   "outputs": [
    {
     "name": "stdout",
     "output_type": "stream",
     "text": [
      "This method cannot be overridden.\n"
     ]
    }
   ],
   "source": [
    "from typing import final\n",
    "class Parent:\n",
    "    @final\n",
    "    def final_method(self):\n",
    "        print(\"This method cannot be overridden.\")\n",
    "class Child(Parent):\n",
    "    pass\n",
    "parent = Parent()\n",
    "parent.final_method()"
   ]
  },
  {
   "cell_type": "code",
   "execution_count": 11,
   "metadata": {},
   "outputs": [
    {
     "name": "stdout",
     "output_type": "stream",
     "text": [
      "Updated Parent Name\n"
     ]
    }
   ],
   "source": [
    "class Parent:\n",
    "    def __init__(self, name):\n",
    "        self._name = name\n",
    "    def set_name(self, name):\n",
    "        if isinstance(self, Parent):\n",
    "            self._name = name\n",
    "        else:\n",
    "            raise PermissionError(\"Cannot modify this attribute in child class.\")\n",
    "class Child(Parent):\n",
    "    def modify_name(self):\n",
    "        self.set_name(\"New Name\")\n",
    "parent = Parent(\"Parent Name\")\n",
    "parent.set_name(\"Updated Parent Name\")\n",
    "print(parent._name)\n",
    "child = Child(\"Child Name\")"
   ]
  },
  {
   "cell_type": "markdown",
   "metadata": {},
   "source": [
    "14. Create a Python class called `Employee` with attributes `name` and `salary`. Then, create a child class \n",
    "`Manager` that inherits from `Employee` and adds an attribute `department`. Provide an example."
   ]
  },
  {
   "cell_type": "code",
   "execution_count": 12,
   "metadata": {},
   "outputs": [
    {
     "name": "stdout",
     "output_type": "stream",
     "text": [
      "Name: Rudra, Salary: 50000\n",
      "Name: Bob, Salary: 70000, Department: IT\n"
     ]
    }
   ],
   "source": [
    "class Employee:\n",
    "    def __init__(self, name, salary):\n",
    "        self.name = name\n",
    "        self.salary = salary\n",
    "    def display_info(self):\n",
    "        return f\"Name: {self.name}, Salary: {self.salary}\"\n",
    "class Manager(Employee):\n",
    "    def __init__(self, name, salary, department):\n",
    "        super().__init__(name, salary)\n",
    "        self.department = department\n",
    "    def display_info(self):\n",
    "        return f\"Name: {self.name}, Salary: {self.salary}, Department: {self.department}\"\n",
    "employee = Employee(\"Rudra\", 50000)\n",
    "manager = Manager(\"Bob\", 70000, \"IT\")\n",
    "print(employee.display_info())\n",
    "print(manager.display_info())\n"
   ]
  },
  {
   "cell_type": "markdown",
   "metadata": {},
   "source": [
    "15. Discuss the concept of method overloading in Python inheritance. How does it differ from method \n",
    "overriding?\n"
   ]
  },
  {
   "cell_type": "code",
   "execution_count": 13,
   "metadata": {},
   "outputs": [
    {
     "name": "stdout",
     "output_type": "stream",
     "text": [
      "Display with 2 arguments: 5, 10\n"
     ]
    }
   ],
   "source": [
    "class Example:\n",
    "    def display(self, a):\n",
    "        print(f\"Display with 1 argument: {a}\")\n",
    "    def display(self, a, b):\n",
    "        print(f\"Display with 2 arguments: {a}, {b}\")\n",
    "ex = Example()\n",
    "ex.display(5, 10)\n"
   ]
  },
  {
   "cell_type": "code",
   "execution_count": null,
   "metadata": {},
   "outputs": [],
   "source": [
    "class Example:\n",
    "    def display(self, a, b=None):\n",
    "        if b is not None:\n",
    "            print(f\"Display with 2 arguments: {a}, {b}\")\n",
    "        else:\n",
    "            print(f\"Display with 1 argument: {a}\")\n",
    "ex = Example()\n",
    "ex.display(5)\n",
    "ex.display(5, 10)"
   ]
  },
  {
   "cell_type": "code",
   "execution_count": 14,
   "metadata": {},
   "outputs": [
    {
     "name": "stdout",
     "output_type": "stream",
     "text": [
      "Hello from Parent\n",
      "Hello from Child\n"
     ]
    }
   ],
   "source": [
    "class Parent:\n",
    "    def greet(self):\n",
    "        print(\"Hello from Parent\")\n",
    "class Child(Parent):\n",
    "    def greet(self):\n",
    "        print(\"Hello from Child\")\n",
    "parent = Parent()\n",
    "child = Child()\n",
    "parent.greet()\n",
    "child.greet()\n"
   ]
  },
  {
   "cell_type": "markdown",
   "metadata": {},
   "source": [
    "16. Explain the purpose of the `__init__()` method in Python inheritance and how it is utilized in child classes."
   ]
  },
  {
   "cell_type": "code",
   "execution_count": 17,
   "metadata": {},
   "outputs": [
    {
     "name": "stdout",
     "output_type": "stream",
     "text": [
      "Name: Bob, Salary: 80000, Department: IT\n"
     ]
    }
   ],
   "source": [
    "class Employee:\n",
    "    def __init__(self, name, salary):\n",
    "        self.name = name\n",
    "        self.salary = salary\n",
    "    def display_info(self):\n",
    "        return f\"Name: {self.name}, Salary: {self.salary}\"\n",
    "class Manager(Employee):\n",
    "    def __init__(self, name, salary, department):\n",
    "        super().__init__(name, salary)\n",
    "        self.department = department\n",
    "    def display_info(self):\n",
    "        parent_info = super().display_info()\n",
    "        return f\"{parent_info}, Department: {self.department}\"\n",
    "manager = Manager(\"Bob\", 80000, \"IT\")\n",
    "print(manager.display_info())"
   ]
  },
  {
   "cell_type": "code",
   "execution_count": 19,
   "metadata": {},
   "outputs": [
    {
     "name": "stdout",
     "output_type": "stream",
     "text": [
      "Name: Rudra, Stipend: 1500\n"
     ]
    }
   ],
   "source": [
    "class Employee:\n",
    "    def __init__(self, name, salary):\n",
    "        self.name = name\n",
    "        self.salary = salary\n",
    "\n",
    "class Intern(Employee):\n",
    "    def __init__(self, name, stipend):\n",
    "        self.name = name\n",
    "        self.stipend = stipend\n",
    "intern = Intern(\"Rudra\", 1500)\n",
    "print(f\"Name: {intern.name}, Stipend: {intern.stipend}\")\n"
   ]
  },
  {
   "cell_type": "markdown",
   "metadata": {},
   "source": [
    "17. Create a Python class called `Bird` with a method `fly()`. Then, create child classes `Eagle` and `Sparrow` that inherit from `Bird` and implement the `fly()` method differently. Provide an example of using these \n",
    "classes."
   ]
  },
  {
   "cell_type": "code",
   "execution_count": 20,
   "metadata": {},
   "outputs": [
    {
     "name": "stdout",
     "output_type": "stream",
     "text": [
      "Eagle is soaring high in the sky!\n",
      "Sparrow is flying low and fast!\n"
     ]
    }
   ],
   "source": [
    "class Bird:\n",
    "    def fly(self):\n",
    "        raise NotImplementedError(\"This method should be overridden by subclasses\")\n",
    "class Eagle(Bird):\n",
    "    def fly(self):\n",
    "        return \"Eagle is soaring high in the sky!\"\n",
    "class Sparrow(Bird):\n",
    "    def fly(self):\n",
    "        return \"Sparrow is flying low and fast!\"\n",
    "eagle = Eagle()\n",
    "sparrow = Sparrow()\n",
    "print(eagle.fly())\n",
    "print(sparrow.fly())\n"
   ]
  },
  {
   "cell_type": "markdown",
   "metadata": {},
   "source": [
    "18. What is the \"diamond problem\" in multiple inheritance, and how does Python address it?"
   ]
  },
  {
   "cell_type": "code",
   "execution_count": 21,
   "metadata": {},
   "outputs": [
    {
     "name": "stdout",
     "output_type": "stream",
     "text": [
      "Method from class D\n",
      "Method from class B\n",
      "Method from class C\n",
      "Method from class A\n",
      "(<class '__main__.D'>, <class '__main__.B'>, <class '__main__.C'>, <class '__main__.A'>, <class 'object'>)\n"
     ]
    }
   ],
   "source": [
    "class A:\n",
    "    def show(self):\n",
    "        print(\"Method from class A\")\n",
    "class B(A):\n",
    "    def show(self):\n",
    "        print(\"Method from class B\")\n",
    "        super().show()  \n",
    "class C(A):\n",
    "    def show(self):\n",
    "        print(\"Method from class C\")\n",
    "        super().show()\n",
    "class D(B, C):\n",
    "    def show(self):\n",
    "        print(\"Method from class D\")\n",
    "        super().show()\n",
    "d = D()\n",
    "d.show()\n",
    "print(D.__mro__)\n"
   ]
  },
  {
   "cell_type": "markdown",
   "metadata": {},
   "source": [
    "19. Discuss the concept of \"is-a\" and \"has-a\" relationships in inheritance, and provide examples of each."
   ]
  },
  {
   "cell_type": "code",
   "execution_count": 22,
   "metadata": {},
   "outputs": [
    {
     "name": "stdout",
     "output_type": "stream",
     "text": [
      "The Toyota is driving at 120 km/h\n",
      "Refueling the gasoline car\n"
     ]
    }
   ],
   "source": [
    "class Vehicle:\n",
    "    def __init__(self, brand, speed):\n",
    "        self.brand = brand\n",
    "        self.speed = speed\n",
    "    def drive(self):\n",
    "        return f\"The {self.brand} is driving at {self.speed} km/h\"\n",
    "class Car(Vehicle):\n",
    "    def __init__(self, brand, speed, fuel_type):\n",
    "        super().__init__(brand, speed)\n",
    "        self.fuel_type = fuel_type\n",
    "    def refuel(self):\n",
    "        return f\"Refueling the {self.fuel_type} car\"\n",
    "my_car = Car(\"Toyota\", 120, \"gasoline\")\n",
    "print(my_car.drive())\n",
    "print(my_car.refuel())\n"
   ]
  },
  {
   "cell_type": "code",
   "execution_count": 1,
   "metadata": {},
   "outputs": [
    {
     "name": "stdout",
     "output_type": "stream",
     "text": [
      "The engine with 150 horsepower is starting.\n",
      "The Toyota is driving at 120 km/h.\n"
     ]
    }
   ],
   "source": [
    "class Engine:\n",
    "    def __init__(self, horsepower):\n",
    "        self.horsepower = horsepower\n",
    "    def start(self):\n",
    "        return f\"The engine with {self.horsepower} horsepower is starting.\"\n",
    "class Car:\n",
    "    def __init__(self, brand, speed, engine):\n",
    "        self.brand = brand\n",
    "        self.speed = speed\n",
    "        self.engine = engine\n",
    "    def drive(self):\n",
    "        return f\"The {self.brand} is driving at {self.speed} km/h.\"\n",
    "    def start_engine(self):\n",
    "        return self.engine.start()\n",
    "my_engine = Engine(150)\n",
    "my_car = Car(\"Toyota\", 120, my_engine)\n",
    "print(my_car.start_engine())\n",
    "print(my_car.drive())"
   ]
  },
  {
   "cell_type": "markdown",
   "metadata": {},
   "source": [
    "20. Create a Python class hierarchy for a university system. Start with a base class `Person` and create child \n",
    "classes `Student` and `Professor`, each with their own attributes and methods. Provide an example of using \n",
    "these classes in a university context."
   ]
  },
  {
   "cell_type": "code",
   "execution_count": 4,
   "metadata": {},
   "outputs": [
    {
     "name": "stdout",
     "output_type": "stream",
     "text": [
      "Hello, my name is Alice and I am 20 years old.\n",
      "Alice is studying Computer Science.\n",
      "Student ID: S12345, Major: Computer Science\n",
      "Hello, my name is Dr. Smith and I am 45 years old.\n",
      "Professor Dr. Smith is teaching in the Mathematics department.\n",
      "Employee ID: P9876, Department: Mathematics\n"
     ]
    }
   ],
   "source": [
    "class Person:\n",
    "    def __init__(self, name, age):\n",
    "        self.name = name\n",
    "        self.age = age\n",
    "    def introduce(self):\n",
    "        return f\"Hello, my name is {self.name} and I am {self.age} years old.\"\n",
    "class Student(Person):\n",
    "    def __init__(self, name, age, student_id, major):\n",
    "        super().__init__(name, age)\n",
    "        self.student_id = student_id\n",
    "        self.major = major\n",
    "    def study(self):\n",
    "        return f\"{self.name} is studying {self.major}.\"\n",
    "    def get_student_info(self):\n",
    "        return f\"Student ID: {self.student_id}, Major: {self.major}\"\n",
    "class Professor(Person):\n",
    "    def __init__(self, name, age, employee_id, department):\n",
    "        super().__init__(name, age)\n",
    "        self.employee_id = employee_id\n",
    "        self.department = department\n",
    "    def teach(self):\n",
    "        return f\"Professor {self.name} is teaching in the {self.department} department.\"\n",
    "    def get_professor_info(self):\n",
    "        return f\"Employee ID: {self.employee_id}, Department: {self.department}\"\n",
    "student = Student(\"Alice\", 20, \"S12345\", \"Computer Science\")\n",
    "professor = Professor(\"Dr. Smith\", 45, \"P9876\", \"Mathematics\")\n",
    "print(student.introduce())\n",
    "print(student.study())\n",
    "print(student.get_student_info())\n",
    "print(professor.introduce())\n",
    "print(professor.teach())\n",
    "print(professor.get_professor_info())  \n"
   ]
  },
  {
   "cell_type": "markdown",
   "metadata": {
    "vscode": {
     "languageId": "bat"
    }
   },
   "source": [
    "# Encapsulation:"
   ]
  },
  {
   "cell_type": "markdown",
   "metadata": {},
   "source": [
    "1. Explain the concept of encapsulation in Python. What is its role in object-oriented programming?"
   ]
  },
  {
   "cell_type": "code",
   "execution_count": 5,
   "metadata": {},
   "outputs": [
    {
     "name": "stdout",
     "output_type": "stream",
     "text": [
      "Rudra\n",
      "5000\n",
      "6000\n",
      "Employee: Rudra, Salary: 6000\n"
     ]
    }
   ],
   "source": [
    "class Employee:\n",
    "    def __init__(self,name,salary):\n",
    "        self.name=name\n",
    "        self.__salary=salary\n",
    "    def get_salary(self):\n",
    "        return self.__salary\n",
    "    def set_salary(self,salary):\n",
    "        if salary>0:\n",
    "            self.__salary=salary\n",
    "        else:\n",
    "            print(\"Invalid salary amount!\")\n",
    "    def display_employee(self):\n",
    "        return f\"Employee: {self.name}, Salary: {self.__salary}\"\n",
    "emp = Employee(\"Rudra\", 5000)\n",
    "print(emp.name)\n",
    "print(emp.get_salary())\n",
    "emp.set_salary(6000)\n",
    "print(emp.get_salary())\n",
    "print(emp.display_employee())"
   ]
  },
  {
   "cell_type": "markdown",
   "metadata": {},
   "source": [
    "2. Describe the key principles of encapsulation, including access control and data hiding."
   ]
  },
  {
   "cell_type": "code",
   "execution_count": 9,
   "metadata": {},
   "outputs": [
    {
     "name": "stdout",
     "output_type": "stream",
     "text": [
      "Rudra\n"
     ]
    }
   ],
   "source": [
    "class Employee:\n",
    "    def __init__(self, name):\n",
    "        self.name = name\n",
    "emp = Employee(\"Rudra\")\n",
    "print(emp.name)"
   ]
  },
  {
   "cell_type": "code",
   "execution_count": 6,
   "metadata": {},
   "outputs": [
    {
     "name": "stdout",
     "output_type": "stream",
     "text": [
      "5000\n"
     ]
    }
   ],
   "source": [
    "class Employee:\n",
    "    def __init__(self, name, _salary):\n",
    "        self.name = name\n",
    "        self._salary = _salary\n",
    "emp = Employee(\"Rudra\", 5000)\n",
    "print(emp._salary)"
   ]
  },
  {
   "cell_type": "code",
   "execution_count": 7,
   "metadata": {},
   "outputs": [
    {
     "name": "stdout",
     "output_type": "stream",
     "text": [
      "6000\n"
     ]
    }
   ],
   "source": [
    "class Employee:\n",
    "    def __init__(self, name, salary):\n",
    "        self.name = name\n",
    "        self.__salary = salary\n",
    "    def get_salary(self):\n",
    "        return self.__salary\n",
    "emp = Employee(\"Rudra\", 6000)\n",
    "print(emp.get_salary())\n"
   ]
  },
  {
   "cell_type": "code",
   "execution_count": 10,
   "metadata": {},
   "outputs": [
    {
     "name": "stdout",
     "output_type": "stream",
     "text": [
      "1000\n",
      "Deposited 500. New balance: 1500\n"
     ]
    }
   ],
   "source": [
    "class BankAccount:\n",
    "    def __init__(self, account_number, balance):\n",
    "        self.account_number = account_number\n",
    "        self.__balance = balance\n",
    "    def get_balance(self):\n",
    "        return self.__balance\n",
    "    def deposit(self, amount):\n",
    "        if amount > 0:\n",
    "            self.__balance += amount\n",
    "            print(f\"Deposited {amount}. New balance: {self.__balance}\")\n",
    "        else:\n",
    "            print(\"Invalid amount. Cannot deposit negative or zero.\")\n",
    "account = BankAccount(\"123456789\", 1000)\n",
    "print(account.get_balance())\n",
    "account.deposit(500)"
   ]
  },
  {
   "cell_type": "markdown",
   "metadata": {},
   "source": [
    "3. How can you achieve encapsulation in Python classes? Provide an example."
   ]
  },
  {
   "cell_type": "code",
   "execution_count": 11,
   "metadata": {},
   "outputs": [
    {
     "name": "stdout",
     "output_type": "stream",
     "text": [
      "123456789\n",
      "1000\n",
      "Deposited 500. New balance: 1500\n",
      "Withdrew 300. Remaining balance: 1200\n"
     ]
    }
   ],
   "source": [
    "class BankAccount:\n",
    "    def __init__(self, account_number, balance):\n",
    "        self.account_number = account_number\n",
    "        self.__balance = balance\n",
    "    def get_balance(self):\n",
    "        return self.__balance\n",
    "    def deposit(self, amount):\n",
    "        if amount > 0:\n",
    "            self.__balance += amount\n",
    "            print(f\"Deposited {amount}. New balance: {self.__balance}\")\n",
    "        else:\n",
    "            print(\"Invalid deposit amount!\")\n",
    "    def withdraw(self, amount):\n",
    "        if 0 < amount <= self.__balance:\n",
    "            self.__balance -= amount\n",
    "            print(f\"Withdrew {amount}. Remaining balance: {self.__balance}\")\n",
    "        else:\n",
    "            print(\"Insufficient funds or invalid amount!\")\n",
    "account = BankAccount(\"123456789\", 1000)\n",
    "print(account.account_number)\n",
    "print(account.get_balance())\n",
    "account.deposit(500)\n",
    "account.withdraw(300)"
   ]
  },
  {
   "cell_type": "markdown",
   "metadata": {},
   "source": [
    "4. Discuss the difference between public, private, and protected access modifiers in Python."
   ]
  },
  {
   "cell_type": "code",
   "execution_count": 12,
   "metadata": {},
   "outputs": [
    {
     "name": "stdout",
     "output_type": "stream",
     "text": [
      "Alice\n",
      "Name: Alice, Salary: 5000\n"
     ]
    }
   ],
   "source": [
    "class Employee:\n",
    "    def __init__(self, name, salary):\n",
    "        self.name = name\n",
    "        self.salary = salary\n",
    "    def get_details(self):\n",
    "        return f\"Name: {self.name}, Salary: {self.salary}\"\n",
    "emp = Employee(\"Alice\", 5000)\n",
    "print(emp.name)\n",
    "print(emp.get_details())\n"
   ]
  },
  {
   "cell_type": "code",
   "execution_count": 13,
   "metadata": {},
   "outputs": [
    {
     "name": "stdout",
     "output_type": "stream",
     "text": [
      "Bob\n",
      "Name: Bob, Salary: 6000\n"
     ]
    }
   ],
   "source": [
    "class Employee:\n",
    "    def __init__(self, name, salary):\n",
    "        self._name = name\n",
    "        self._salary = salary\n",
    "    def _get_details(self):\n",
    "        return f\"Name: {self._name}, Salary: {self._salary}\"\n",
    "emp = Employee(\"Bob\", 6000)\n",
    "print(emp._name)\n",
    "print(emp._get_details())"
   ]
  },
  {
   "cell_type": "code",
   "execution_count": 15,
   "metadata": {},
   "outputs": [
    {
     "name": "stdout",
     "output_type": "stream",
     "text": [
      "Name: David, Salary: 8000\n"
     ]
    }
   ],
   "source": [
    "class Employee:\n",
    "    def __init__(self, name, salary):\n",
    "        self.__name = name\n",
    "        self.__salary = salary\n",
    "\n",
    "    def __get_details(self):\n",
    "        return f\"Name: {self.__name}, Salary: {self.__salary}\"\n",
    "    def access_details(self):\n",
    "        return self.__get_details()\n",
    "emp = Employee(\"David\", 8000)\n",
    "print(emp.access_details())"
   ]
  },
  {
   "cell_type": "markdown",
   "metadata": {},
   "source": [
    "5. Create a Python class called `Person` with a private attribute `__name`. Provide methods to get and set the \n",
    "name attribute."
   ]
  },
  {
   "cell_type": "code",
   "execution_count": 17,
   "metadata": {},
   "outputs": [
    {
     "name": "stdout",
     "output_type": "stream",
     "text": [
      "Rudra\n",
      "Jonny\n",
      "Invalid name. Please provide a non-empty string.\n"
     ]
    }
   ],
   "source": [
    "class Person:\n",
    "    def __init__(self, name):\n",
    "        self.__name = name \n",
    "    def get_name(self):\n",
    "        return self.__name\n",
    "    def set_name(self, name):\n",
    "        if isinstance(name, str) and name.strip():\n",
    "            self.__name = name\n",
    "        else:\n",
    "            print(\"Invalid name. Please provide a non-empty string.\")\n",
    "person = Person(\"Rudra\")\n",
    "print(person.get_name())\n",
    "person.set_name(\"Jonny\")\n",
    "print(person.get_name())\n",
    "person.set_name(\"\")"
   ]
  },
  {
   "cell_type": "markdown",
   "metadata": {},
   "source": [
    "6. Explain the purpose of getter and setter methods in encapsulation. Provide examples."
   ]
  },
  {
   "cell_type": "code",
   "execution_count": 18,
   "metadata": {},
   "outputs": [
    {
     "name": "stdout",
     "output_type": "stream",
     "text": [
      "30\n",
      "35\n",
      "Invalid age. Please provide a valid age between 0 and 120.\n"
     ]
    }
   ],
   "source": [
    "class Person:\n",
    "    def __init__(self, age):\n",
    "        self.__age = age\n",
    "    def get_age(self):\n",
    "        return self.__age\n",
    "    def set_age(self, age):\n",
    "        if isinstance(age, int) and 0 <= age <= 120:\n",
    "            self.__age = age\n",
    "        else:\n",
    "            print(\"Invalid age. Please provide a valid age between 0 and 120.\")\n",
    "person = Person(30)\n",
    "print(person.get_age())\n",
    "person.set_age(35)\n",
    "print(person.get_age())\n",
    "person.set_age(-5) \n"
   ]
  },
  {
   "cell_type": "markdown",
   "metadata": {},
   "source": [
    "7. What is name mangling in Python, and how does it affect encapsulation?"
   ]
  },
  {
   "cell_type": "code",
   "execution_count": 20,
   "metadata": {},
   "outputs": [
    {
     "name": "stdout",
     "output_type": "stream",
     "text": [
      "Rudra\n"
     ]
    }
   ],
   "source": [
    "class Person:\n",
    "    def __init__(self, name, age):\n",
    "        self.__name = name\n",
    "        self.__age = age\n",
    "    def display_info(self):\n",
    "        print(f\"Name: {self.__name}, Age: {self.__age}\")\n",
    "person = Person(\"Rudra\", 30)\n",
    "print(person._Person__name)"
   ]
  },
  {
   "cell_type": "code",
   "execution_count": 21,
   "metadata": {},
   "outputs": [
    {
     "name": "stdout",
     "output_type": "stream",
     "text": [
      "Rudra\n",
      "S12345\n"
     ]
    }
   ],
   "source": [
    "class Person:\n",
    "    def __init__(self, name, age):\n",
    "        self.__name = name\n",
    "    def display_info(self):\n",
    "        print(f\"Name: {self.__name}\")\n",
    "class Student(Person):\n",
    "    def __init__(self, name, age, student_id):\n",
    "        super().__init__(name, age)\n",
    "        self.__name = student_id  \n",
    "student = Student(\"Rudra\", 25, \"S12345\")\n",
    "print(student._Person__name)\n",
    "print(student._Student__name)\n"
   ]
  },
  {
   "cell_type": "markdown",
   "metadata": {},
   "source": [
    "8. Create a Python class called `BankAccount` with private attributes for the account balance (`__balance`) and account number (`__account_number`). Provide methods for depositing and withdrawing money."
   ]
  },
  {
   "cell_type": "code",
   "execution_count": 24,
   "metadata": {},
   "outputs": [
    {
     "name": "stdout",
     "output_type": "stream",
     "text": [
      "Account Number: 123456789\n",
      "Initial Balance: INR 1000\n",
      "Deposited INR 500. New balance: INR 1500\n",
      "Withdrew INR 200. Remaining balance: INR 1300\n",
      "Insufficient balance.\n",
      "Final Balance: INR 1300\n"
     ]
    }
   ],
   "source": [
    "class BankAccount:\n",
    "    def __init__(self, account_number, initial_balance=0):\n",
    "        self.__account_number = account_number\n",
    "        self.__balance = initial_balance\n",
    "    def deposit(self, amount):\n",
    "        if amount > 0:\n",
    "            self.__balance += amount\n",
    "            print(f\"Deposited INR {amount}. New balance: INR {self.__balance}\")\n",
    "        else:\n",
    "            print(\"Deposit amount must be positive.\")\n",
    "    def withdraw(self, amount):\n",
    "        if amount > 0:\n",
    "            if amount <= self.__balance:\n",
    "                self.__balance -= amount\n",
    "                print(f\"Withdrew INR {amount}. Remaining balance: INR {self.__balance}\")\n",
    "            else:\n",
    "                print(\"Insufficient balance.\")\n",
    "        else:\n",
    "            print(\"Withdrawal amount must be positive.\")\n",
    "    def get_balance(self):\n",
    "        return self.__balance\n",
    "    def get_account_number(self):\n",
    "        return self.__account_number\n",
    "account = BankAccount(\"123456789\", 1000)\n",
    "print(f\"Account Number: {account.get_account_number()}\")\n",
    "print(f\"Initial Balance: INR {account.get_balance()}\")\n",
    "account.deposit(500)\n",
    "account.withdraw(200)\n",
    "account.withdraw(1500)\n",
    "print(f\"Final Balance: INR {account.get_balance()}\")\n"
   ]
  },
  {
   "cell_type": "markdown",
   "metadata": {},
   "source": [
    "9. Discuss the advantages of encapsulation in terms of code maintainability and security."
   ]
  },
  {
   "cell_type": "markdown",
   "metadata": {},
   "source": [
    "Advantages\t                How It Helps\n",
    "Code Maintainability   :\tModular code design makes future changes easier to implement and manage.\n",
    "Security\t           :    Protects sensitive data by preventing unauthorized access or modification.\n",
    "Data Integrity\t       :    Ensures that only valid data is assigned through controlled access mechanisms.\n",
    "Flexibility for Changes:    Internal details can be modified without affecting external code.\n",
    "Code Reusability\t   :    Encapsulated classes can be reused in other parts of the program.\n",
    "Separation of Concerns :    Keeps code organized by separating internal data from external functionality."
   ]
  },
  {
   "cell_type": "markdown",
   "metadata": {},
   "source": [
    "10. How can you access private attributes in Python? Provide an example demonstrating the use of name \n",
    "mangling."
   ]
  },
  {
   "cell_type": "code",
   "execution_count": 25,
   "metadata": {},
   "outputs": [
    {
     "name": "stdout",
     "output_type": "stream",
     "text": [
      "Toyota\n",
      "Corolla\n",
      "2020\n",
      "Toyota Corolla, Year: 2020\n"
     ]
    }
   ],
   "source": [
    "class Car:\n",
    "    def __init__(self, brand, model, year):\n",
    "        self.__brand = brand\n",
    "        self.__model = model\n",
    "        self.__year = year\n",
    "    def get_car_info(self):\n",
    "        return f\"{self.__brand} {self.__model}, Year: {self.__year}\"\n",
    "my_car = Car(\"Toyota\", \"Corolla\", 2020)\n",
    "print(my_car._Car__brand)\n",
    "print(my_car._Car__model)\n",
    "print(my_car._Car__year)\n",
    "print(my_car.get_car_info())"
   ]
  },
  {
   "cell_type": "markdown",
   "metadata": {},
   "source": [
    "11. Create a Python class hierarchy for a school system, including classes for students, teachers, and courses, \n",
    "and implement encapsulation principles to protect sensitive information."
   ]
  },
  {
   "cell_type": "code",
   "execution_count": 26,
   "metadata": {},
   "outputs": [
    {
     "name": "stdout",
     "output_type": "stream",
     "text": [
      "Course Name: Mathematics\n",
      "Teacher: Alice Smith\n",
      "Student Name: John Doe\n",
      "Student ID: S2002\n",
      "Grades: {'Mathematics': [95], 'Science': [88]}\n"
     ]
    }
   ],
   "source": [
    "class Person:\n",
    "    def __init__(self, name, age):\n",
    "        self.__name = name\n",
    "        self.__age = age\n",
    "    def get_name(self):\n",
    "        return self.__name\n",
    "    def get_age(self):\n",
    "        return self.__age\n",
    "class Student(Person):\n",
    "    def __init__(self, name, age, student_id):\n",
    "        super().__init__(name, age)\n",
    "        self.__student_id = student_id\n",
    "        self.__grades = {}\n",
    "    def add_grade(self, course, grade):\n",
    "        if course not in self.__grades:\n",
    "            self.__grades[course] = []\n",
    "        self.__grades[course].append(grade)\n",
    "    def get_grades(self):\n",
    "        return self.__grades\n",
    "    def get_student_id(self):\n",
    "        return self.__student_id\n",
    "class Teacher(Person):\n",
    "    def __init__(self, name, age, employee_id):\n",
    "        super().__init__(name, age)\n",
    "        self.__employee_id = employee_id\n",
    "    def get_employee_id(self):\n",
    "        return self.__employee_id\n",
    "class Course:\n",
    "    def __init__(self, course_name, teacher):\n",
    "        self.course_name = course_name\n",
    "        self.__teacher = teacher\n",
    "    def get_teacher(self):\n",
    "        return self.__teacher.get_name()\n",
    "teacher = Teacher(\"Alice Smith\", 30, \"T1001\")\n",
    "student = Student(\"John Doe\", 20, \"S2002\")\n",
    "student.add_grade(\"Mathematics\", 95)\n",
    "student.add_grade(\"Science\", 88)\n",
    "course = Course(\"Mathematics\", teacher)\n",
    "print(f\"Course Name: {course.course_name}\")\n",
    "print(f\"Teacher: {course.get_teacher()}\")\n",
    "print(f\"Student Name: {student.get_name()}\")\n",
    "print(f\"Student ID: {student.get_student_id()}\")\n",
    "print(f\"Grades: {student.get_grades()}\")\n"
   ]
  },
  {
   "cell_type": "markdown",
   "metadata": {},
   "source": [
    "12. Explain the concept of property decorators in Python and how they relate to encapsulation."
   ]
  },
  {
   "cell_type": "code",
   "execution_count": 27,
   "metadata": {},
   "outputs": [
    {
     "name": "stdout",
     "output_type": "stream",
     "text": [
      "Employee Name: Rudra\n",
      "Employee Salary: 50000\n",
      "Updated Salary: 55000\n",
      "Salary cannot be negative.\n"
     ]
    }
   ],
   "source": [
    "class Employee:\n",
    "    def __init__(self, name, salary):\n",
    "        self.__name = name\n",
    "        self.__salary = salary\n",
    "    @property\n",
    "    def name(self):\n",
    "        return self.__name\n",
    "    @property\n",
    "    def salary(self):\n",
    "        return self.__salary\n",
    "    @salary.setter\n",
    "    def salary(self, new_salary):\n",
    "        if new_salary < 0:\n",
    "            raise ValueError(\"Salary cannot be negative.\")\n",
    "        self.__salary = new_salary \n",
    "employee = Employee(\"Rudra\", 50000)\n",
    "print(f\"Employee Name: {employee.name}\")\n",
    "print(f\"Employee Salary: {employee.salary}\")\n",
    "employee.salary = 55000\n",
    "print(f\"Updated Salary: {employee.salary}\")\n",
    "try:\n",
    "    employee.salary = -1000\n",
    "except ValueError as e:\n",
    "    print(e)"
   ]
  },
  {
   "cell_type": "markdown",
   "metadata": {},
   "source": [
    "13. What is data hiding, and why is it important in encapsulation? Provide examples."
   ]
  },
  {
   "cell_type": "code",
   "execution_count": 28,
   "metadata": {},
   "outputs": [
    {
     "name": "stdout",
     "output_type": "stream",
     "text": [
      "Current Balance: $1000\n",
      "Deposited: $500. New Balance: $1500\n",
      "Withdrew: $200. New Balance: $1300\n",
      "Invalid withdrawal amount.\n"
     ]
    }
   ],
   "source": [
    "class BankAccount:\n",
    "    def __init__(self, account_number, balance):\n",
    "        self.__account_number = account_number\n",
    "        self.__balance = balance \n",
    "    def deposit(self, amount):\n",
    "        if amount > 0:\n",
    "            self.__balance += amount\n",
    "            print(f\"Deposited: ${amount}. New Balance: ${self.__balance}\")\n",
    "        else:\n",
    "            print(\"Deposit amount must be positive.\")\n",
    "    def withdraw(self, amount):\n",
    "        if 0 < amount <= self.__balance:\n",
    "            self.__balance -= amount \n",
    "            print(f\"Withdrew: ${amount}. New Balance: ${self.__balance}\")\n",
    "        else:\n",
    "            print(\"Invalid withdrawal amount.\")\n",
    "    def get_balance(self):\n",
    "        return self.__balance \n",
    "account = BankAccount(\"123456789\", 1000)\n",
    "print(f\"Current Balance: ${account.get_balance()}\")  \n",
    "account.deposit(500)  \n",
    "account.withdraw(200)\n",
    "account.withdraw(2000)"
   ]
  },
  {
   "cell_type": "markdown",
   "metadata": {},
   "source": [
    "14. Create a Python class called `Employee` with private attributes for salary (`__salary`) and employee ID (`__employee_id`). Provide a method to calculate yearly bonuses."
   ]
  },
  {
   "cell_type": "code",
   "execution_count": 31,
   "metadata": {},
   "outputs": [
    {
     "name": "stdout",
     "output_type": "stream",
     "text": [
      "Employee ID: E12345\n",
      "Salary: INR 60000\n",
      "Yearly Bonus (10%): INR 6000.00\n"
     ]
    }
   ],
   "source": [
    "class Employee:\n",
    "    def __init__(self, employee_id, salary):\n",
    "        self.__employee_id = employee_id  \n",
    "        self.__salary = salary\n",
    "    def calculate_bonus(self, percentage):\n",
    "        \"\"\"\n",
    "        Calculate the yearly bonus based on a percentage of the salary.\n",
    "        \n",
    "        :param percentage: The percentage of the salary to be given as a bonus.\n",
    "        :return: The calculated bonus amount.\n",
    "        \"\"\"\n",
    "        if percentage < 0:\n",
    "            raise ValueError(\"Percentage cannot be negative.\")\n",
    "        bonus = self.__salary * (percentage / 100)\n",
    "        return bonus\n",
    "    def get_employee_id(self):\n",
    "        return self.__employee_id \n",
    "    def get_salary(self):\n",
    "        return self.__salary \n",
    "employee = Employee(\"E12345\", 60000)\n",
    "try:\n",
    "    bonus_percentage = 10\n",
    "    bonus = employee.calculate_bonus(bonus_percentage)\n",
    "    print(f\"Employee ID: {employee.get_employee_id()}\")\n",
    "    print(f\"Salary: INR {employee.get_salary()}\")\n",
    "    print(f\"Yearly Bonus (10%): INR {bonus:.2f}\")\n",
    "except ValueError as e:\n",
    "    print(e)\n"
   ]
  },
  {
   "cell_type": "code",
   "execution_count": 32,
   "metadata": {},
   "outputs": [
    {
     "name": "stdout",
     "output_type": "stream",
     "text": [
      "20\n",
      "21\n",
      "Age cannot be negative.\n"
     ]
    }
   ],
   "source": [
    "class Student:\n",
    "    def __init__(self, name, age):\n",
    "        self.__name = name\n",
    "        self.__age = age\n",
    "\n",
    "    def get_name(self):\n",
    "        return self.__name\n",
    "\n",
    "    def get_age(self):\n",
    "        return self.__age\n",
    "\n",
    "    def set_age(self, new_age):\n",
    "        if new_age < 0:\n",
    "            raise ValueError(\"Age cannot be negative.\")\n",
    "        self.__age = new_age\n",
    "student = Student(\"Alice\", 20)\n",
    "print(student.get_age())  \n",
    "student.set_age(21)\n",
    "print(student.get_age())\n",
    "try:\n",
    "    student.set_age(-1)\n",
    "except ValueError as e:\n",
    "    print(e)  # Output: Age cannot be negative."
   ]
  },
  {
   "cell_type": "markdown",
   "metadata": {},
   "source": [
    "15. Discuss the use of accessors and mutators in encapsulation. How do they help maintain control over \n",
    "attribute access?"
   ]
  },
  {
   "cell_type": "code",
   "execution_count": 33,
   "metadata": {},
   "outputs": [],
   "source": [
    "class Age:\n",
    "    def __init__(self,age):\n",
    "        self.age=age\n",
    "    def get_age(self):\n",
    "        return self.__age\n",
    "    def set_age(self,new_age):\n",
    "        if new_age < 0:\n",
    "            raise ValueError(\"Age can not be negative\")\n",
    "        self.__age=new_age"
   ]
  },
  {
   "cell_type": "code",
   "execution_count": 34,
   "metadata": {},
   "outputs": [],
   "source": [
    "class Circle:\n",
    "    def __init__(self, radius):\n",
    "        self.__radius = radius\n",
    "    def get_radius(self):\n",
    "        return self.__radius"
   ]
  },
  {
   "cell_type": "code",
   "execution_count": 35,
   "metadata": {},
   "outputs": [
    {
     "name": "stdout",
     "output_type": "stream",
     "text": [
      "Initial Balance: INR 1000\n",
      "Balance after deposit: INR 1500\n",
      "Balance after withdrawal: INR 1300\n",
      "Deposit amount must be positive.\n"
     ]
    }
   ],
   "source": [
    "class BankAccount:\n",
    "    def __init__(self, account_number, balance):\n",
    "        self.__account_number = account_number\n",
    "        self.__balance = balance \n",
    "    def get_balance(self):\n",
    "        return self.__balance\n",
    "    def deposit(self, amount):\n",
    "        if amount <= 0:\n",
    "            raise ValueError(\"Deposit amount must be positive.\")\n",
    "        self.__balance += amount\n",
    "    def withdraw(self, amount):\n",
    "        if amount <= 0:\n",
    "            raise ValueError(\"Withdrawal amount must be positive.\")\n",
    "        if amount > self.__balance:\n",
    "            raise ValueError(\"Insufficient funds.\")\n",
    "        self.__balance -= amount\n",
    "account = BankAccount(\"123456789\", 1000)\n",
    "print(f\"Initial Balance: INR {account.get_balance()}\") \n",
    "account.deposit(500)\n",
    "print(f\"Balance after deposit: INR {account.get_balance()}\")  \n",
    "account.withdraw(200)\n",
    "print(f\"Balance after withdrawal: INR {account.get_balance()}\")\n",
    "try:\n",
    "    account.deposit(-100)\n",
    "except ValueError as e:\n",
    "    print(e)"
   ]
  },
  {
   "cell_type": "markdown",
   "metadata": {},
   "source": [
    "16. What are the potential drawbacks or disadvantages of using encapsulation in Python?"
   ]
  },
  {
   "cell_type": "markdown",
   "metadata": {},
   "source": [
    "1. Increased Complexity\n",
    "Code Overhead: Encapsulation often requires additional code in the form of accessors (getters) and mutators (setters), which can make classes more complex and harder to read, especially for simple use cases where direct access to attributes might suffice.\n",
    "\n",
    "Learning Curve: Developers who are not familiar with encapsulation might find it more difficult to understand how to interact with encapsulated classes, leading to confusion.\n",
    "\n",
    "2. Performance Overhead\n",
    "Method Calls: Accessing attributes through methods incurs a slight performance overhead compared to direct access. While this is usually negligible, it can become a concern in performance-critical applications where speed is paramount.\n",
    "\n",
    "Redundant Method Calls: In some cases, encapsulation might lead to unnecessary method calls, especially if accessors and mutators are overly complex or if they do not provide significant validation or processing.\n",
    "\n",
    "3. Limited Flexibility\n",
    "Rigid Structure: Encapsulation can lead to a rigid structure where changing the internal representation of a class requires changes to the accessors and mutators, potentially affecting a larger codebase.\n",
    "\n",
    "Inconvenient for Simple Structures: In cases where classes are simple data holders (like Data Transfer Objects), the overhead of encapsulation may be unwarranted, as direct access might be simpler and more efficient.\n",
    "\n",
    "4. False Sense of Security\n",
    "Python’s Dynamic Nature: Python does not enforce true access control as strictly as some other languages (like Java or C++). The convention of using underscores for private attributes (e.g., __attribute) relies on name mangling rather than strict enforcement. This can lead to situations where developers bypass encapsulation inadvertently.\n",
    "\n",
    "Accessing Private Members: Developers can still access private attributes using name mangling (e.g., _ClassName__attribute), which undermines the intended purpose of encapsulation.\n",
    "\n",
    "5. Difficulty in Subclassing\n",
    "Overriding and Inheritance: When using encapsulation, especially with private attributes, it can become difficult to subclass and extend classes. Subclasses may not have direct access to private attributes of the parent class, which can lead to complications in design and implementation.\n",
    "6. Debugging Challenges\n",
    "Limited Visibility: Since encapsulated attributes are not directly accessible, debugging issues related to those attributes can be more challenging. Developers may need to rely on logs or specific methods to inspect the internal state, making it harder to diagnose problems.\n",
    "Conclusion\n",
    "While encapsulation is a powerful concept that promotes data protection and code organization, it is important to be aware of its potential drawbacks. Developers should weigh the benefits against these challenges when designing classes and decide on the appropriate level of encapsulation based on the specific requirements of the project. In many cases, a balanced approach that incorporates encapsulation where necessary while allowing for flexibility and simplicity can lead to more maintainable and effective code.\n"
   ]
  },
  {
   "cell_type": "markdown",
   "metadata": {},
   "source": [
    "17. Create a Python class for a library system that encapsulates book information, including titles, authors, \n",
    "and availability status."
   ]
  },
  {
   "cell_type": "code",
   "execution_count": 40,
   "metadata": {},
   "outputs": [
    {
     "name": "stdout",
     "output_type": "stream",
     "text": [
      "Title: 1984, Author: George Orwell, Available: True\n",
      "You have checked out '1984'.\n",
      "'1984' is currently not available.\n",
      "You have returned '1984'.\n",
      "'1984' was not checked out.\n"
     ]
    }
   ],
   "source": [
    "class Book:\n",
    "    def __init__(self, title, author):\n",
    "        self.__title = title\n",
    "        self.__author = author\n",
    "        self.__is_available = True \n",
    "\n",
    "    def get_title(self):\n",
    "        return self.__title\n",
    "    def get_author(self):\n",
    "        return self.__author \n",
    "    def is_available(self):\n",
    "        return self.__is_available\n",
    "    def check_out(self):\n",
    "        \"\"\"Check out the book if it is available.\"\"\"\n",
    "        if self.__is_available:\n",
    "            self.__is_available = False \n",
    "            return f\"You have checked out '{self.__title}'.\"\n",
    "        else:\n",
    "            return f\"'{self.__title}' is currently not available.\"\n",
    "    def return_book(self):\n",
    "        \"\"\"Return the book and make it available again.\"\"\"\n",
    "        if not self.__is_available:\n",
    "            self.__is_available = True\n",
    "            return f\"You have returned '{self.__title}'.\"\n",
    "        else:\n",
    "            return f\"'{self.__title}' was not checked out.\"\n",
    "book1 = Book(\"1984\", \"George Orwell\")\n",
    "book2 = Book(\"To Kill a Mockingbird\", \"Harper Lee\")\n",
    "print(f\"Title: {book1.get_title()}, Author: {book1.get_author()}, Available: {book1.is_available()}\")  \n",
    "print(book1.check_out()) \n",
    "print(book1.check_out())\n",
    "print(book1.return_book())\n",
    "print(book1.return_book())\n"
   ]
  },
  {
   "cell_type": "markdown",
   "metadata": {},
   "source": [
    "18. Explain how encapsulation enhances code reusability and modularity in Python programs."
   ]
  },
  {
   "cell_type": "code",
   "execution_count": 41,
   "metadata": {},
   "outputs": [],
   "source": [
    "class Car:\n",
    "    def __init__(self, make, model):\n",
    "        self.__make = make \n",
    "        self.__model = model\n",
    "        self.__speed = 0\n",
    "    def accelerate(self, increment):\n",
    "        self.__speed += increment\n",
    "        return f\"Speed is now {self.__speed} km/h.\"\n",
    "    def brake(self, decrement):\n",
    "        self.__speed = max(0, self.__speed - decrement)\n",
    "        return f\"Speed is now {self.__speed} km/h.\""
   ]
  },
  {
   "cell_type": "code",
   "execution_count": 42,
   "metadata": {},
   "outputs": [
    {
     "name": "stdout",
     "output_type": "stream",
     "text": [
      "Car: Toyota Corolla, Color: Red\n"
     ]
    }
   ],
   "source": [
    "class Vehicle:\n",
    "    def __init__(self, color):\n",
    "        self.__color = color  \n",
    "    def get_color(self):\n",
    "        return self.__color  \n",
    "class Car(Vehicle):\n",
    "    def __init__(self, color, make, model):\n",
    "        super().__init__(color)\n",
    "        self.__make = make\n",
    "        self.__model = model\n",
    "    def car_details(self):\n",
    "        return f\"Car: {self.__make} {self.__model}, Color: {self.get_color()}\"\n",
    "my_car = Car(\"Red\", \"Toyota\", \"Corolla\")\n",
    "print(my_car.car_details())"
   ]
  },
  {
   "cell_type": "code",
   "execution_count": 43,
   "metadata": {},
   "outputs": [],
   "source": [
    "class BankAccount:\n",
    "    def __init__(self, account_number, balance):\n",
    "        self.__account_number = account_number   \n",
    "        self.__balance = balance                \n",
    "    def deposit(self, amount):\n",
    "        self.__balance += amount               \n",
    "        return f\"New balance: ${self.__balance}\"\n",
    "    def get_balance(self):\n",
    "        return self.__balance\n"
   ]
  },
  {
   "cell_type": "code",
   "execution_count": 44,
   "metadata": {},
   "outputs": [
    {
     "name": "stdout",
     "output_type": "stream",
     "text": [
      "George Orwell\n"
     ]
    }
   ],
   "source": [
    "class Library:\n",
    "    def __init__(self):\n",
    "        self.__books = {} \n",
    "    def add_book(self, title, author):\n",
    "        self.__books[title] = author\n",
    "    def get_author(self, title):\n",
    "        return self.__books.get(title, \"Book not found\")\n",
    "library = Library()\n",
    "library.add_book(\"1984\", \"George Orwell\")\n",
    "print(library.get_author(\"1984\")) "
   ]
  },
  {
   "cell_type": "markdown",
   "metadata": {},
   "source": [
    "19. Describe the concept of information hiding in encapsulation. Why is it essential in software development?"
   ]
  },
  {
   "cell_type": "code",
   "execution_count": 46,
   "metadata": {},
   "outputs": [
    {
     "name": "stdout",
     "output_type": "stream",
     "text": [
      "1000\n",
      "Deposited INR 200. New balance: INR 1200\n"
     ]
    }
   ],
   "source": [
    "class BankAccount:\n",
    "    def __init__(self, account_number, balance):\n",
    "        self.__account_number = account_number\n",
    "        self.__balance = balance    \n",
    "    def deposit(self, amount):\n",
    "        \"\"\"Public method to add money to the account.\"\"\"\n",
    "        if amount > 0:\n",
    "            self.__balance += amount\n",
    "            return f\"Deposited INR {amount}. New balance: INR {self.__balance}\"\n",
    "        else:\n",
    "            return \"Deposit amount must be positive.\"\n",
    "    def get_balance(self):\n",
    "        \"\"\"Public method to retrieve the current balance.\"\"\"\n",
    "        return self.__balance\n",
    "account = BankAccount(\"123456789\", 1000)\n",
    "print(account.get_balance())\n",
    "print(account.deposit(200))"
   ]
  },
  {
   "cell_type": "markdown",
   "metadata": {},
   "source": [
    "20. Create a Python class called `Customer` with private attributes for customer details like name, address, \n",
    "and contact information. Implement encapsulation to ensure data integrity and security."
   ]
  },
  {
   "cell_type": "code",
   "execution_count": 51,
   "metadata": {},
   "outputs": [
    {
     "name": "stdout",
     "output_type": "stream",
     "text": [
      "Customer Name: Rudra\n",
      "Customer Address: 55 Gariahut Rd\n",
      "Customer Contact: rudra@example.com\n",
      "Updated Customer Name: Bob\n",
      "Updated Customer Address: 16 J L N Road\n",
      "Updated Customer Contact: bob@example.com\n"
     ]
    }
   ],
   "source": [
    "class customer:\n",
    "    def __init__(self,name,address,contact_info):\n",
    "        self.__name=name\n",
    "        self.__address=address\n",
    "        self.__contact_info=contact_info\n",
    "    def get_name(self):\n",
    "        return self.__name\n",
    "    def set_name(self,name):\n",
    "        if isinstance(name,str) and len(name)>0:\n",
    "            self.__name=name\n",
    "        else:\n",
    "            print(\"Invalid name. It must be a non-empty string.\")\n",
    "    def get_address(self):\n",
    "        return self.__address\n",
    "    def set_address(self,address):\n",
    "        if isinstance(address,str) and len(address)>0:\n",
    "            self.__address=address\n",
    "        else:\n",
    "            print(\"Invalid name. It must be a non-empty string.\")\n",
    "    def get_contact_info(self):\n",
    "        return self.__contact_info\n",
    "    def set_name(self,name):\n",
    "        if isinstance(name,str) and len(name)>0:\n",
    "            self.__name=name\n",
    "        else:\n",
    "            print(\"Invalid name. It must be a non-empty string.\")\n",
    "    def set_contact_info(self,contact_info):\n",
    "        if isinstance(contact_info,str) and len(contact_info)>0:\n",
    "            self.__contact_info=contact_info\n",
    "        else:\n",
    "            print(\"Invalid name. It must be a non-empty string.\")\n",
    "customer = customer(\"Rudra\", \"55 Gariahut Rd\", \"rudra@example.com\")\n",
    "print(\"Customer Name:\", customer.get_name())\n",
    "print(\"Customer Address:\", customer.get_address())\n",
    "print(\"Customer Contact:\", customer.get_contact_info())\n",
    "customer.set_name(\"Bob\")\n",
    "customer.set_address(\"16 J L N Road\")\n",
    "customer.set_contact_info(\"bob@example.com\")\n",
    "print(\"Updated Customer Name:\", customer.get_name())\n",
    "print(\"Updated Customer Address:\", customer.get_address())\n",
    "print(\"Updated Customer Contact:\", customer.get_contact_info()) "
   ]
  },
  {
   "cell_type": "markdown",
   "metadata": {},
   "source": [
    "# Polymorphism:"
   ]
  },
  {
   "cell_type": "markdown",
   "metadata": {},
   "source": [
    "1. What is polymorphism in Python? Explain how it is related to object-oriented programming."
   ]
  },
  {
   "cell_type": "code",
   "execution_count": 52,
   "metadata": {},
   "outputs": [
    {
     "name": "stdout",
     "output_type": "stream",
     "text": [
      "Woof!\n",
      "Meow!\n"
     ]
    }
   ],
   "source": [
    "class Animal:\n",
    "    def speak(self):\n",
    "        raise NotImplementedError(\"Subclasses must implement this method\")\n",
    "class Dog(Animal):\n",
    "    def speak(self):\n",
    "        return \"Woof!\"\n",
    "class Cat(Animal):\n",
    "    def speak(self):\n",
    "        return \"Meow!\"\n",
    "def make_animal_speak(animal):\n",
    "    print(animal.speak())\n",
    "dog = Dog()\n",
    "cat = Cat()\n",
    "make_animal_speak(dog)\n",
    "make_animal_speak(cat)\n"
   ]
  },
  {
   "cell_type": "markdown",
   "metadata": {},
   "source": [
    "2. Describe the difference between compile-time polymorphism and runtime polymorphism in Python."
   ]
  },
  {
   "cell_type": "code",
   "execution_count": 54,
   "metadata": {},
   "outputs": [
    {
     "name": "stdout",
     "output_type": "stream",
     "text": [
      "15\n",
      "30\n"
     ]
    }
   ],
   "source": [
    "#compile-time polymorphism\n",
    "\n",
    "def add(a, b=0, c=0):\n",
    "    return a + b + c\n",
    "print(add(5, 10))\n",
    "print(add(5, 10, 15))\n"
   ]
  },
  {
   "cell_type": "code",
   "execution_count": 55,
   "metadata": {},
   "outputs": [
    {
     "name": "stdout",
     "output_type": "stream",
     "text": [
      "Bark\n",
      "Meow\n"
     ]
    }
   ],
   "source": [
    "class Animal:\n",
    "    def sound(self):\n",
    "        return \"Some generic animal sound\"\n",
    "class Dog(Animal):\n",
    "    def sound(self):\n",
    "        return \"Bark\"\n",
    "class Cat(Animal):\n",
    "    def sound(self):\n",
    "        return \"Meow\"\n",
    "def make_sound(animal):\n",
    "    print(animal.sound())\n",
    "dog = Dog()\n",
    "cat = Cat()\n",
    "make_sound(dog)\n",
    "make_sound(cat)"
   ]
  },
  {
   "cell_type": "markdown",
   "metadata": {},
   "source": [
    "3. Create a Python class hierarchy for shapes (e.g., circle, square, triangle) and demonstrate polymorphism \n",
    " through a common method, such as `calculate_area()`."
   ]
  },
  {
   "cell_type": "code",
   "execution_count": 56,
   "metadata": {},
   "outputs": [
    {
     "name": "stdout",
     "output_type": "stream",
     "text": [
      "The area is: 78.53981633974483\n",
      "The area is: 16\n",
      "The area is: 24.0\n"
     ]
    }
   ],
   "source": [
    "import math\n",
    "class Shape:\n",
    "    def calculate_area(self):\n",
    "        raise NotImplementedError(\"Subclasses must implement this method\")\n",
    "class Circle(Shape):\n",
    "    def __init__(self, radius):\n",
    "        self.radius = radius\n",
    "    def calculate_area(self):\n",
    "        return math.pi * self.radius ** 2\n",
    "class Square(Shape):\n",
    "    def __init__(self, side_length):\n",
    "        self.side_length = side_length\n",
    "    def calculate_area(self):\n",
    "        return self.side_length ** 2\n",
    "class Triangle(Shape):\n",
    "    def __init__(self, base, height):\n",
    "        self.base = base\n",
    "        self.height = height\n",
    "    def calculate_area(self):\n",
    "        return 0.5 * self.base * self.height\n",
    "def print_area(shape):\n",
    "    print(f\"The area is: {shape.calculate_area()}\")\n",
    "circle = Circle(5)\n",
    "square = Square(4)\n",
    "triangle = Triangle(6, 8)\n",
    "print_area(circle)\n",
    "print_area(square)\n",
    "print_area(triangle)"
   ]
  },
  {
   "cell_type": "markdown",
   "metadata": {},
   "source": [
    "4. Explain the concept of method overriding in polymorphism. Provide an example."
   ]
  },
  {
   "cell_type": "code",
   "execution_count": 57,
   "metadata": {},
   "outputs": [
    {
     "name": "stdout",
     "output_type": "stream",
     "text": [
      "Bark\n",
      "Meow\n"
     ]
    }
   ],
   "source": [
    "class Animal:\n",
    "    def sound(self):\n",
    "        return \"Some generic animal sound\"\n",
    "class Dog(Animal):\n",
    "    def sound(self):\n",
    "        return \"Bark\"\n",
    "class Cat(Animal):\n",
    "    def sound(self):\n",
    "        return \"Meow\"\n",
    "def make_animal_sound(animal):\n",
    "    print(animal.sound())\n",
    "dog = Dog()\n",
    "cat = Cat()\n",
    "make_animal_sound(dog)\n",
    "make_animal_sound(cat)\n"
   ]
  },
  {
   "cell_type": "markdown",
   "metadata": {},
   "source": [
    "5. How is polymorphism different from method overloading in Python? Provide examples for both."
   ]
  },
  {
   "cell_type": "code",
   "execution_count": 58,
   "metadata": {},
   "outputs": [
    {
     "name": "stdout",
     "output_type": "stream",
     "text": [
      "Bark\n",
      "Meow\n"
     ]
    }
   ],
   "source": [
    "class Animal:\n",
    "    def sound(self):\n",
    "        return \"Some sound\"\n",
    "class Dog(Animal):\n",
    "    def sound(self):\n",
    "        return \"Bark\"\n",
    "class Cat(Animal):\n",
    "    def sound(self):\n",
    "        return \"Meow\"\n",
    "def make_sound(animal):\n",
    "    print(animal.sound())\n",
    "dog = Dog()\n",
    "cat = Cat()\n",
    "make_sound(dog)\n",
    "make_sound(cat)"
   ]
  },
  {
   "cell_type": "code",
   "execution_count": 59,
   "metadata": {},
   "outputs": [
    {
     "name": "stdout",
     "output_type": "stream",
     "text": [
      "15\n",
      "30\n",
      "5\n"
     ]
    }
   ],
   "source": [
    "class MathOperations:\n",
    "    def add(self, a, b=0, c=0):\n",
    "        return a + b + c\n",
    "math_op = MathOperations()\n",
    "print(math_op.add(5, 10))\n",
    "print(math_op.add(5, 10, 15))\n",
    "print(math_op.add(5))\n"
   ]
  },
  {
   "cell_type": "code",
   "execution_count": 61,
   "metadata": {},
   "outputs": [
    {
     "name": "stdout",
     "output_type": "stream",
     "text": [
      "Bark\n",
      "Meow\n"
     ]
    }
   ],
   "source": [
    "class Animal:\n",
    "    def sound(self):\n",
    "        return \"Some sound\"\n",
    "class Dog(Animal):\n",
    "    def sound(self):\n",
    "        return \"Bark\"\n",
    "class Cat(Animal):\n",
    "    def sound(self):\n",
    "        return \"Meow\"\n",
    "def make_sound(animal):\n",
    "    print(animal.sound())\n",
    "dog = Dog()\n",
    "cat = Cat()\n",
    "make_sound(dog)\n",
    "make_sound(cat)"
   ]
  },
  {
   "cell_type": "code",
   "execution_count": 60,
   "metadata": {},
   "outputs": [
    {
     "name": "stdout",
     "output_type": "stream",
     "text": [
      "15\n",
      "30\n",
      "5\n"
     ]
    }
   ],
   "source": [
    "class MathOperations:\n",
    "    def add(self, a, b=0, c=0):\n",
    "        return a + b + c\n",
    "math_op = MathOperations()\n",
    "print(math_op.add(5, 10))\n",
    "print(math_op.add(5, 10, 15))\n",
    "print(math_op.add(5))"
   ]
  },
  {
   "cell_type": "markdown",
   "metadata": {},
   "source": [
    "6. Create a Python class called `Animal` with a method `speak()`. Then, create child classes like `Dog`, `Cat`, and `Bird`, each with their own `speak()` method. Demonstrate polymorphism by calling the `speak()` method \n",
    "on objects of different subclasses."
   ]
  },
  {
   "cell_type": "code",
   "execution_count": 62,
   "metadata": {},
   "outputs": [
    {
     "name": "stdout",
     "output_type": "stream",
     "text": [
      "Bark\n",
      "Meow\n",
      "Chirp\n"
     ]
    }
   ],
   "source": [
    "class Animal:\n",
    "    def speak(self):\n",
    "        return \"Animal makes a sound\"\n",
    "class Dog(Animal):\n",
    "    def speak(self):\n",
    "        return \"Bark\"\n",
    "class Cat(Animal):\n",
    "    def speak(self):\n",
    "        return \"Meow\"\n",
    "class Bird(Animal):\n",
    "    def speak(self):\n",
    "        return \"Chirp\"\n",
    "def animal_speak(animal):\n",
    "    print(animal.speak())\n",
    "dog = Dog()\n",
    "cat = Cat()\n",
    "bird = Bird()\n",
    "animal_speak(dog)\n",
    "animal_speak(cat)\n",
    "animal_speak(bird)\n"
   ]
  },
  {
   "cell_type": "markdown",
   "metadata": {},
   "source": [
    "7. Discuss the use of abstract methods and classes in achieving polymorphism in Python. Provide an example \n",
    "using the `abc` module."
   ]
  },
  {
   "cell_type": "code",
   "execution_count": 63,
   "metadata": {},
   "outputs": [
    {
     "name": "stdout",
     "output_type": "stream",
     "text": [
      "Bark\n",
      "Meow\n",
      "Chirp\n"
     ]
    }
   ],
   "source": [
    "from abc import ABC, abstractmethod\n",
    "class Animal(ABC):\n",
    "    @abstractmethod\n",
    "    def speak(self):\n",
    "        pass\n",
    "class Dog(Animal):\n",
    "    def speak(self):\n",
    "        return \"Bark\"\n",
    "class Cat(Animal):\n",
    "    def speak(self):\n",
    "        return \"Meow\"\n",
    "class Bird(Animal):\n",
    "    def speak(self):\n",
    "        return \"Chirp\"\n",
    "def animal_speak(animal):\n",
    "    print(animal.speak())\n",
    "dog = Dog()\n",
    "cat = Cat()\n",
    "bird = Bird()\n",
    "animal_speak(dog)\n",
    "animal_speak(cat)\n",
    "animal_speak(bird)\n"
   ]
  },
  {
   "cell_type": "markdown",
   "metadata": {},
   "source": [
    "8. Create a Python class hierarchy for a vehicle system (e.g., car, bicycle, boat) and implement a polymorphic `start()` method that prints a message specific to each vehicle type."
   ]
  },
  {
   "cell_type": "code",
   "execution_count": 64,
   "metadata": {},
   "outputs": [
    {
     "name": "stdout",
     "output_type": "stream",
     "text": [
      "Car is starting with an ignition key.\n",
      "Bicycle is starting by pedaling.\n",
      "Boat is starting by turning the throttle.\n"
     ]
    }
   ],
   "source": [
    "class Vehicle:\n",
    "    def start(self):\n",
    "        raise NotImplementedError(\"Subclasses must implement this method\")\n",
    "class Car(Vehicle):\n",
    "    def start(self):\n",
    "        return \"Car is starting with an ignition key.\"\n",
    "class Bicycle(Vehicle):\n",
    "    def start(self):\n",
    "        return \"Bicycle is starting by pedaling.\"\n",
    "class Boat(Vehicle):\n",
    "    def start(self):\n",
    "        return \"Boat is starting by turning the throttle.\"\n",
    "def start_vehicle(vehicle):\n",
    "    print(vehicle.start())\n",
    "car = Car()\n",
    "bicycle = Bicycle()\n",
    "boat = Boat()\n",
    "start_vehicle(car)\n",
    "start_vehicle(bicycle)\n",
    "start_vehicle(boat)\n"
   ]
  },
  {
   "cell_type": "code",
   "execution_count": 67,
   "metadata": {},
   "outputs": [
    {
     "name": "stdout",
     "output_type": "stream",
     "text": [
      "True\n",
      "True\n",
      "False\n"
     ]
    }
   ],
   "source": [
    "class Vehicle:\n",
    "    def start(self):\n",
    "        pass\n",
    "class Car(Vehicle):\n",
    "    def start(self):\n",
    "        return \"Car is starting.\"\n",
    "class Boat(Vehicle):\n",
    "    def start(self):\n",
    "        return \"Boat is starting.\"\n",
    "print(issubclass(Car, Vehicle))\n",
    "print(issubclass(Boat, Vehicle))\n",
    "print(issubclass(Car, Boat))"
   ]
  },
  {
   "cell_type": "markdown",
   "metadata": {},
   "source": [
    "9. Explain the significance of the `isinstance()` and `issubclass()` functions in Python polymorphism."
   ]
  },
  {
   "cell_type": "code",
   "execution_count": 65,
   "metadata": {},
   "outputs": [
    {
     "name": "stdout",
     "output_type": "stream",
     "text": [
      "Car is starting with an ignition key.\n",
      "Bicycle is starting by pedaling.\n",
      "Boat is starting by turning the throttle.\n"
     ]
    }
   ],
   "source": [
    "class Animal:\n",
    "    def speak(self):\n",
    "        pass\n",
    "class Dog(Animal):\n",
    "    def speak(self):\n",
    "        return \"Bark\"\n",
    "class Cat(Animal):\n",
    "    def speak(self):\n",
    "        return \"Meow\"\n",
    "def animal_sound(animal):\n",
    "    if isinstance(animal, Animal):\n",
    "        print(animal.speak())\n",
    "    else:\n",
    "        print(\"Not an Animal!\")\n",
    "dog = Dog()\n",
    "cat = Cat()\n",
    "animal_sound(dog)\n",
    "animal_sound(cat)\n"
   ]
  },
  {
   "cell_type": "markdown",
   "metadata": {},
   "source": [
    "10. What is the role of the `@abstractmethod` decorator in achieving polymorphism in Python? Provide an \n",
    "example."
   ]
  },
  {
   "cell_type": "code",
   "execution_count": 68,
   "metadata": {},
   "outputs": [
    {
     "name": "stdout",
     "output_type": "stream",
     "text": [
      "Car is starting with an ignition key.\n",
      "Bicycle is starting by pedaling.\n",
      "Boat is starting by turning the throttle.\n"
     ]
    }
   ],
   "source": [
    "from abc import ABC, abstractmethod\n",
    "class Vehicle(ABC):\n",
    "    @abstractmethod\n",
    "    def start(self):\n",
    "        pass\n",
    "class Car(Vehicle):\n",
    "    def start(self):\n",
    "        return \"Car is starting with an ignition key.\"\n",
    "class Bicycle(Vehicle):\n",
    "    def start(self):\n",
    "        return \"Bicycle is starting by pedaling.\"\n",
    "class Boat(Vehicle):\n",
    "    def start(self):\n",
    "        return \"Boat is starting by turning the throttle.\"\n",
    "def start_vehicle(vehicle):\n",
    "    print(vehicle.start())\n",
    "car = Car()\n",
    "bicycle = Bicycle()\n",
    "boat = Boat()\n",
    "start_vehicle(car)\n",
    "start_vehicle(bicycle)\n",
    "start_vehicle(boat)\n"
   ]
  },
  {
   "cell_type": "markdown",
   "metadata": {},
   "source": [
    "11. Create a Python class called `Shape` with a  polymorphic method `area()` that calculates the area of different shapes (e.g., circle, rectangle, triangle). "
   ]
  },
  {
   "cell_type": "code",
   "execution_count": 69,
   "metadata": {},
   "outputs": [
    {
     "name": "stdout",
     "output_type": "stream",
     "text": [
      "The area of the Circle is: 78.53981633974483\n",
      "The area of the Rectangle is: 24\n",
      "The area of the Triangle is: 6.0\n"
     ]
    }
   ],
   "source": [
    "import math\n",
    "class Shape:\n",
    "    def area(self):\n",
    "        raise NotImplementedError(\"This method should be overridden in subclasses\")\n",
    "class Circle(Shape):\n",
    "    def __init__(self, radius):\n",
    "        self.radius = radius   \n",
    "    def area(self):\n",
    "        return math.pi * (self.radius ** 2)\n",
    "class Rectangle(Shape):\n",
    "    def __init__(self, width, height):\n",
    "        self.width = width\n",
    "        self.height = height\n",
    "    def area(self):\n",
    "        return self.width * self.height\n",
    "class Triangle(Shape):\n",
    "    def __init__(self, base, height):\n",
    "        self.base = base\n",
    "        self.height = height\n",
    "    def area(self):\n",
    "        return 0.5 * self.base * self.height\n",
    "def print_area(shape):\n",
    "    print(f\"The area of the {shape.__class__.__name__} is: {shape.area()}\")\n",
    "circle = Circle(radius=5)\n",
    "rectangle = Rectangle(width=4, height=6)\n",
    "triangle = Triangle(base=3, height=4)\n",
    "print_area(circle)\n",
    "print_area(rectangle)\n",
    "print_area(triangle)\n"
   ]
  },
  {
   "cell_type": "markdown",
   "metadata": {},
   "source": [
    "12. Discuss the benefits of polymorphism in terms of code reusability and flexibility in Python programs."
   ]
  },
  {
   "cell_type": "markdown",
   "metadata": {},
   "source": [
    "1. Code Reusability\n",
    "Common Interfaces"
   ]
  },
  {
   "cell_type": "code",
   "execution_count": 70,
   "metadata": {},
   "outputs": [],
   "source": [
    "def print_area(shape):\n",
    "    print(f\"The area is: {shape.area()}\")"
   ]
  },
  {
   "cell_type": "markdown",
   "metadata": {},
   "source": [
    "Reduced Code Duplication\n",
    "2. Flexibility\n",
    "Dynamic Behavior"
   ]
  },
  {
   "cell_type": "code",
   "execution_count": 71,
   "metadata": {},
   "outputs": [
    {
     "name": "stdout",
     "output_type": "stream",
     "text": [
      "The area is: 78.53981633974483\n",
      "The area is: 24\n",
      "The area is: 6.0\n"
     ]
    }
   ],
   "source": [
    "shapes = [Circle(5), Rectangle(4, 6), Triangle(3, 4)]\n",
    "for shape in shapes:\n",
    "    print_area(shape)"
   ]
  },
  {
   "cell_type": "markdown",
   "metadata": {},
   "source": [
    "3. Improved Readability\n",
    "Clear Intentions\n",
    "4. Support for Interfaces and Abstract Classes\n",
    "5. Facilitates Testing and Mocking"
   ]
  },
  {
   "cell_type": "markdown",
   "metadata": {},
   "source": [
    "13. Explain the use of the `super()` function in Python polymorphism. How does it help call methods of parent \n",
    "classes?"
   ]
  },
  {
   "cell_type": "code",
   "execution_count": 72,
   "metadata": {},
   "outputs": [
    {
     "name": "stdout",
     "output_type": "stream",
     "text": [
      "Animal speaks - Bark\n",
      "Animal speaks - Meow\n"
     ]
    }
   ],
   "source": [
    "class Animal:\n",
    "    def speak(self):\n",
    "        return \"Animal speaks\"\n",
    "class Dog(Animal):\n",
    "    def speak(self):\n",
    "        parent_speak = super().speak()\n",
    "        return f\"{parent_speak} - Bark\"\n",
    "class Cat(Animal):\n",
    "    def speak(self):\n",
    "        parent_speak = super().speak()\n",
    "        return f\"{parent_speak} - Meow\"\n",
    "def animal_sound(animal):\n",
    "    print(animal.speak())\n",
    "dog = Dog()\n",
    "cat = Cat()\n",
    "animal_sound(dog)\n",
    "animal_sound(cat) \n"
   ]
  },
  {
   "cell_type": "markdown",
   "metadata": {},
   "source": [
    "14. Create a Python class hierarchy for a banking system with various account types (e.g., savings, checking, credit card) and demonstrate polymorphism by implementing a common `withdraw()` method."
   ]
  },
  {
   "cell_type": "code",
   "execution_count": 74,
   "metadata": {},
   "outputs": [
    {
     "name": "stdout",
     "output_type": "stream",
     "text": [
      "AAloke withdrew INR 200 from Savings Account. New balance: INR 800.\n",
      "Rudra withdrew INR 600 from Checking Account. New balance: INR -100.\n",
      "Tanay charged INR 700 on Credit Card Account. New balance: INR -400.\n"
     ]
    }
   ],
   "source": [
    "class BankAccount:\n",
    "    def __init__(self, account_holder, balance):\n",
    "        self.account_holder = account_holder\n",
    "        self.balance = balance\n",
    "    def withdraw(self, amount):\n",
    "        raise NotImplementedError(\"This method should be overridden in subclasses\")\n",
    "class SavingsAccount(BankAccount):\n",
    "    def __init__(self, account_holder, balance, interest_rate):\n",
    "        super().__init__(account_holder, balance)\n",
    "        self.interest_rate = interest_rate\n",
    "    def withdraw(self, amount):\n",
    "        if amount > self.balance:\n",
    "            print(f\"Insufficient funds in Savings Account for {self.account_holder}.\")\n",
    "        else:\n",
    "            self.balance -= amount\n",
    "            print(f\"{self.account_holder} withdrew INR {amount} from Savings Account. New balance: INR {self.balance}.\")\n",
    "class CheckingAccount(BankAccount):\n",
    "    def __init__(self, account_holder, balance, overdraft_limit):\n",
    "        super().__init__(account_holder, balance)\n",
    "        self.overdraft_limit = overdraft_limit\n",
    "    def withdraw(self, amount):\n",
    "        if amount > self.balance + self.overdraft_limit:\n",
    "            print(f\"Insufficient funds in Checking Account for {self.account_holder}.\")\n",
    "        else:\n",
    "            self.balance -= amount\n",
    "            print(f\"{self.account_holder} withdrew INR {amount} from Checking Account. New balance: INR {self.balance}.\")\n",
    "class CreditCardAccount(BankAccount):\n",
    "    def __init__(self, account_holder, balance, credit_limit):\n",
    "        super().__init__(account_holder, balance)\n",
    "        self.credit_limit = credit_limit\n",
    "    def withdraw(self, amount):\n",
    "        if amount > self.balance + self.credit_limit:\n",
    "            print(f\"Credit limit exceeded for {self.account_holder} in Credit Card Account.\")\n",
    "        else:\n",
    "            self.balance -= amount\n",
    "            print(f\"{self.account_holder} charged INR {amount} on Credit Card Account. New balance: INR {self.balance}.\")\n",
    "def perform_withdrawal(account, amount):\n",
    "    account.withdraw(amount)\n",
    "savings_account = SavingsAccount(\"AAloke\", 1000, 0.05)\n",
    "checking_account = CheckingAccount(\"Rudra\", 500, 200)\n",
    "credit_card_account = CreditCardAccount(\"Tanay\", 300, 500)\n",
    "perform_withdrawal(savings_account, 200)\n",
    "perform_withdrawal(checking_account, 600)\n",
    "perform_withdrawal(credit_card_account, 700)\n"
   ]
  },
  {
   "cell_type": "markdown",
   "metadata": {},
   "source": [
    "15. Describe the concept of operator overloading in Python and how it relates to polymorphism. Provide \n",
    "examples using operators like `+` and `*`."
   ]
  },
  {
   "cell_type": "code",
   "execution_count": 75,
   "metadata": {},
   "outputs": [
    {
     "name": "stdout",
     "output_type": "stream",
     "text": [
      "Vector(6, 8)\n"
     ]
    }
   ],
   "source": [
    "class Vector:\n",
    "    def __init__(self, x, y):\n",
    "        self.x = x\n",
    "        self.y = y\n",
    "\n",
    "    def __add__(self, other):\n",
    "        if isinstance(other, Vector):\n",
    "            return Vector(self.x + other.x, self.y + other.y)\n",
    "        return NotImplemented\n",
    "\n",
    "    def __repr__(self):\n",
    "        return f\"Vector({self.x}, {self.y})\"\n",
    "v1 = Vector(2, 3)\n",
    "v2 = Vector(4, 5)\n",
    "result_vector = v1 + v2\n",
    "print(result_vector)"
   ]
  },
  {
   "cell_type": "code",
   "execution_count": 76,
   "metadata": {},
   "outputs": [
    {
     "name": "stdout",
     "output_type": "stream",
     "text": [
      "Vector(6, 9)\n"
     ]
    }
   ],
   "source": [
    "class Vector:\n",
    "    def __init__(self, x, y):\n",
    "        self.x = x\n",
    "        self.y = y\n",
    "    def __add__(self, other):\n",
    "        if isinstance(other, Vector):\n",
    "            return Vector(self.x + other.x, self.y + other.y)\n",
    "        return NotImplemented\n",
    "    def __mul__(self, scalar):\n",
    "        if isinstance(scalar, (int, float)):\n",
    "            return Vector(self.x * scalar, self.y * scalar)\n",
    "        return NotImplemented\n",
    "    def __repr__(self):\n",
    "        return f\"Vector({self.x}, {self.y})\"\n",
    "v = Vector(2, 3)\n",
    "scaled_vector = v * 3\n",
    "print(scaled_vector)"
   ]
  },
  {
   "cell_type": "markdown",
   "metadata": {},
   "source": [
    "16. What is dynamic polymorphism, and how is it achieved in Python?"
   ]
  },
  {
   "cell_type": "code",
   "execution_count": 77,
   "metadata": {},
   "outputs": [
    {
     "name": "stdout",
     "output_type": "stream",
     "text": [
      "Dog barks.\n",
      "Cat meows.\n"
     ]
    }
   ],
   "source": [
    "class Animal:\n",
    "    def speak(self):\n",
    "        print(\"Animal is making a sound.\")\n",
    "class Dog(Animal):\n",
    "    def speak(self):\n",
    "        print(\"Dog barks.\")\n",
    "class Cat(Animal):\n",
    "    def speak(self):\n",
    "        print(\"Cat meows.\")\n",
    "dog = Dog()\n",
    "cat = Cat()\n",
    "def animal_speak(animal):\n",
    "    animal.speak()\n",
    "animal_speak(dog)\n",
    "animal_speak(cat)\n"
   ]
  },
  {
   "cell_type": "markdown",
   "metadata": {},
   "source": [
    "17. Create a Python class hierarchy for employees in a company (e.g., manager, developer, designer) and implement polymorphism through a common `calculate_salary()` method."
   ]
  },
  {
   "cell_type": "code",
   "execution_count": 79,
   "metadata": {},
   "outputs": [
    {
     "name": "stdout",
     "output_type": "stream",
     "text": [
      "Aaloke's salary is: 60000\n",
      "Rudra's salary is: 45000\n",
      "Tanay's salary is: 38000\n"
     ]
    }
   ],
   "source": [
    "class Employee:\n",
    "    def __init__(self, name, base_salary):\n",
    "        self.name = name\n",
    "        self.base_salary = base_salary\n",
    "    def calculate_salary(self):\n",
    "        return self.base_salary\n",
    "class Manager(Employee):\n",
    "    def __init__(self, name, base_salary, bonus):\n",
    "        super().__init__(name, base_salary)\n",
    "        self.bonus = bonus\n",
    "    def calculate_salary(self):\n",
    "        return self.base_salary + self.bonus\n",
    "class Developer(Employee):\n",
    "    def __init__(self, name, base_salary, overtime_pay):\n",
    "        super().__init__(name, base_salary)\n",
    "        self.overtime_pay = overtime_pay\n",
    "    def calculate_salary(self):\n",
    "        return self.base_salary + self.overtime_pay\n",
    "class Designer(Employee):\n",
    "    def __init__(self, name, base_salary, design_bonus):\n",
    "        super().__init__(name, base_salary)\n",
    "        self.design_bonus = design_bonus\n",
    "    def calculate_salary(self):\n",
    "        return self.base_salary + self.design_bonus\n",
    "def display_salary(employee):\n",
    "    print(f\"{employee.name}'s salary is: {employee.calculate_salary()}\")\n",
    "manager = Manager(\"Aaloke\", 50000, 10000)\n",
    "developer = Developer(\"Rudra\", 40000, 5000)\n",
    "designer = Designer(\"Tanay\", 35000, 3000)\n",
    "display_salary(manager)\n",
    "display_salary(developer)\n",
    "display_salary(designer)\n"
   ]
  },
  {
   "cell_type": "markdown",
   "metadata": {},
   "source": [
    "18. Discuss the concept of function pointers and how they can be used to achieve polymorphism in Python."
   ]
  },
  {
   "cell_type": "code",
   "execution_count": 80,
   "metadata": {},
   "outputs": [
    {
     "name": "stdout",
     "output_type": "stream",
     "text": [
      "Addition: 15\n",
      "Subtraction: 5\n",
      "Multiplication: 50\n"
     ]
    }
   ],
   "source": [
    "def add(x, y):\n",
    "    return x + y\n",
    "def subtract(x, y):\n",
    "    return x - y\n",
    "def multiply(x, y):\n",
    "    return x * y\n",
    "def perform_operation(func, a, b):\n",
    "    return func(a, b)\n",
    "result_add = perform_operation(add, 10, 5)\n",
    "result_subtract = perform_operation(subtract, 10, 5)\n",
    "result_multiply = perform_operation(multiply, 10, 5)\n",
    "print(f\"Addition: {result_add}\") \n",
    "print(f\"Subtraction: {result_subtract}\")\n",
    "print(f\"Multiplication: {result_multiply}\")\n"
   ]
  },
  {
   "cell_type": "code",
   "execution_count": 82,
   "metadata": {},
   "outputs": [
    {
     "name": "stdout",
     "output_type": "stream",
     "text": [
      "File saved!\n",
      "File loaded!\n"
     ]
    }
   ],
   "source": [
    "class Button:\n",
    "    def __init__(self, label, action):\n",
    "        self.label = label\n",
    "        self.action = action  \n",
    "    def click(self):\n",
    "        self.action()\n",
    "def save_file():\n",
    "    print(\"File saved!\")\n",
    "def load_file():\n",
    "    print(\"File loaded!\")\n",
    "save_button = Button(\"Save\", save_file)\n",
    "load_button = Button(\"Load\", load_file)\n",
    "save_button.click()\n",
    "load_button.click()\n"
   ]
  },
  {
   "cell_type": "markdown",
   "metadata": {},
   "source": [
    "19. Explain the role of interfaces and abstract classes in polymorphism, drawing comparisons between them."
   ]
  },
  {
   "cell_type": "code",
   "execution_count": 88,
   "metadata": {},
   "outputs": [
    {
     "name": "stdout",
     "output_type": "stream",
     "text": [
      "Area: 78.53999999999999\n",
      "Area: 24\n"
     ]
    }
   ],
   "source": [
    "from abc import ABC, abstractmethod\n",
    "class Shape(ABC):\n",
    "    @abstractmethod\n",
    "    def area(self):\n",
    "        pass\n",
    "class Circle(Shape):\n",
    "    def __init__(self, radius):\n",
    "        self.radius = radius\n",
    "    def area(self):\n",
    "        return 3.1416 * (self.radius ** 2)\n",
    "class Rectangle(Shape):\n",
    "    def __init__(self, width, height):\n",
    "        self.width = width\n",
    "        self.height = height\n",
    "    def area(self):\n",
    "        return self.width * self.height\n",
    "shapes = [Circle(5), Rectangle(4, 6)]\n",
    "for shape in shapes:\n",
    "    print(f\"Area: {shape.area()}\")\n"
   ]
  },
  {
   "cell_type": "code",
   "execution_count": 87,
   "metadata": {},
   "outputs": [
    {
     "name": "stdout",
     "output_type": "stream",
     "text": [
      "Processing credit card payment of 100\n",
      "Processing PayPal payment of 100\n"
     ]
    }
   ],
   "source": [
    "from abc import ABC, abstractmethod\n",
    "class Payment(ABC):\n",
    "    @abstractmethod\n",
    "    def process_payment(self, amount):\n",
    "        pass\n",
    "class CreditCardPayment(Payment):\n",
    "    def process_payment(self, amount):\n",
    "        print(f\"Processing credit card payment of {amount}\")\n",
    "class PayPalPayment(Payment):\n",
    "    def process_payment(self, amount):\n",
    "        print(f\"Processing PayPal payment of {amount}\")\n",
    "payments = [CreditCardPayment(), PayPalPayment()]\n",
    "for payment in payments:\n",
    "    payment.process_payment(100)\n"
   ]
  },
  {
   "cell_type": "markdown",
   "metadata": {},
   "source": [
    "20. Create a Python class for a zoo simulation, demonstrating polymorphism with different animal types (e.g., mammals, birds, reptiles) and their behavior (e.g., eating, sleeping, making sounds)."
   ]
  },
  {
   "cell_type": "code",
   "execution_count": 89,
   "metadata": {},
   "outputs": [
    {
     "name": "stdout",
     "output_type": "stream",
     "text": [
      "The mammal is eating.\n",
      "The mammal is sleeping.\n",
      "The mammal makes a sound.\n",
      "------\n",
      "The bird is eating seeds.\n",
      "The bird is sleeping.\n",
      "The bird chirps.\n",
      "------\n",
      "The reptile is eating insects.\n",
      "The reptile is sleeping.\n",
      "The reptile hisses.\n",
      "------\n"
     ]
    }
   ],
   "source": [
    "from abc import ABC, abstractmethod\n",
    "class Animal(ABC):\n",
    "    @abstractmethod\n",
    "    def eat(self):\n",
    "        pass\n",
    "    @abstractmethod\n",
    "    def sleep(self):\n",
    "        pass\n",
    "    @abstractmethod\n",
    "    def make_sound(self):\n",
    "        pass\n",
    "class Mammal(Animal):\n",
    "    def eat(self):\n",
    "        return \"The mammal is eating.\"\n",
    "    def sleep(self):\n",
    "        return \"The mammal is sleeping.\"\n",
    "    def make_sound(self):\n",
    "        return \"The mammal makes a sound.\"\n",
    "class Bird(Animal):\n",
    "    def eat(self):\n",
    "        return \"The bird is eating seeds.\"\n",
    "    def sleep(self):\n",
    "        return \"The bird is sleeping.\"\n",
    "    def make_sound(self):\n",
    "        return \"The bird chirps.\"\n",
    "class Reptile(Animal):\n",
    "    def eat(self):\n",
    "        return \"The reptile is eating insects.\"\n",
    "    def sleep(self):\n",
    "        return \"The reptile is sleeping.\"\n",
    "    def make_sound(self):\n",
    "        return \"The reptile hisses.\"\n",
    "def zoo_simulation(animals):\n",
    "    for animal in animals:\n",
    "        print(animal.eat())\n",
    "        print(animal.sleep())\n",
    "        print(animal.make_sound())\n",
    "        print(\"------\")\n",
    "zoo_animals = [\n",
    "    Mammal(),\n",
    "    Bird(),\n",
    "    Reptile()\n",
    "]\n",
    "zoo_simulation(zoo_animals)\n"
   ]
  },
  {
   "cell_type": "markdown",
   "metadata": {},
   "source": [
    " # Abstraction:"
   ]
  },
  {
   "cell_type": "markdown",
   "metadata": {},
   "source": [
    "1. What is abstraction in Python, and how does it relate to object-oriented programming?"
   ]
  },
  {
   "cell_type": "code",
   "execution_count": 93,
   "metadata": {},
   "outputs": [
    {
     "name": "stdout",
     "output_type": "stream",
     "text": [
      "The animal makes a sound: Bark\n",
      "The animal moves by: Runs\n",
      "The animal makes a sound: Chirp\n",
      "The animal moves by: Flies\n"
     ]
    }
   ],
   "source": [
    "from abc import ABC, abstractmethod\n",
    "class Animal(ABC):\n",
    "    @abstractmethod\n",
    "    def sound(self):\n",
    "        pass\n",
    "    @abstractmethod\n",
    "    def move(self):\n",
    "        pass\n",
    "class Dog(Animal):\n",
    "    def sound(self):\n",
    "        return \"Bark\"\n",
    "    def move(self):\n",
    "        return \"Runs\"\n",
    "class Bird(Animal):\n",
    "    def sound(self):\n",
    "        return \"Chirp\"\n",
    "    def move(self):\n",
    "        return \"Flies\"\n",
    "def animal_actions(animal: Animal):\n",
    "    print(f\"The animal makes a sound: {animal.sound()}\")\n",
    "    print(f\"The animal moves by: {animal.move()}\")\n",
    "dog = Dog()\n",
    "bird = Bird()\n",
    "animal_actions(dog)\n",
    "animal_actions(bird)\n"
   ]
  },
  {
   "cell_type": "markdown",
   "metadata": {},
   "source": [
    "2. Describe the benefits of abstraction in terms of code organization and complexity reduction."
   ]
  },
  {
   "cell_type": "markdown",
   "metadata": {},
   "source": [
    "1. Improved Code Organization\n",
    "Modular Design: Abstraction encourages a modular approach to software design. By separating functionality into abstract classes and concrete implementations, developers can organize code more logically. Each class can represent a distinct concept or functionality, making it easier to understand and navigate the codebase.\n",
    "\n",
    "Clear Interfaces: Abstraction allows the creation of clear interfaces, which define the methods that classes must implement. This helps in setting clear expectations for how different parts of the system should interact, enhancing overall organization.\n",
    "\n",
    "Reduced Dependencies: By using abstract classes, developers can reduce dependencies between different parts of the code. Concrete implementations can change without affecting other parts of the code that depend on the abstract interface, promoting better organization.\n",
    "\n",
    "2. Complexity Reduction\n",
    "Simplified Interactions: Abstraction hides the complex implementation details, exposing only the necessary functionalities through public methods. This simplifies interactions with the objects, allowing developers to focus on what an object does rather than how it does it.\n",
    "\n",
    "Easier Maintenance: When code is abstracted properly, it becomes easier to maintain. Changes in the implementation of a particular class do not require changes to the classes that use it, reducing the risk of introducing bugs and minimizing the effort needed for maintenance.\n",
    "\n",
    "Enhanced Readability: By abstracting complex functionalities into well-defined classes and methods, the code becomes more readable. Developers can grasp the overall functionality without getting bogged down by the intricacies of each implementation.\n",
    "\n",
    "Support for Future Changes: Abstraction makes it easier to adapt the codebase to future requirements. New functionalities can be added by creating new concrete classes that implement the existing abstract interfaces without disturbing the existing code.\n",
    "\n",
    "3. Encouragement of Reusability\n",
    "Code Reuse: Abstract classes can be reused across different parts of the application or in different applications. By defining common functionalities in an abstract class, developers can implement those functionalities in multiple concrete classes, promoting code reuse.\n",
    "\n",
    "Flexible Implementations: Since multiple concrete classes can implement the same abstract interface, developers can create various implementations that suit different contexts or requirements. This flexibility leads to better-organized code that can adapt to changing needs.\n",
    "\n",
    "4. Facilitation of Collaboration\n",
    "Team Development: In team settings, abstraction allows different developers to work on different parts of the codebase simultaneously. For example, one developer can work on an abstract class while others implement specific behaviors, promoting collaboration and parallel development.\n",
    "\n",
    "Standardized Development: When working with abstract classes, teams can establish standardized methods and interfaces. This consistency across different modules enhances code organization and makes it easier for new team members to understand and contribute to the project.\n",
    "\n",
    "Conclusion\n",
    "In summary, abstraction is a powerful concept that significantly enhances code organization and reduces complexity in software development. By providing clear interfaces, promoting modular design, and simplifying interactions, abstraction helps create maintainable, reusable, and adaptable code. These benefits are particularly valuable in large and complex systems, where managing complexity and fostering collaboration among developers are essential for success.\n",
    "\n",
    "\n",
    "\n",
    "\n",
    "\n",
    "\n"
   ]
  },
  {
   "cell_type": "markdown",
   "metadata": {},
   "source": [
    "3. Create a Python class called `Shape` with an abstract method `calculate_area()`. Then, create child classes (e.g., `Circle`, `Rectangle`) that implement the `calculate_area()` method. Provide an example of \n",
    "using these classes."
   ]
  },
  {
   "cell_type": "code",
   "execution_count": 94,
   "metadata": {},
   "outputs": [
    {
     "name": "stdout",
     "output_type": "stream",
     "text": [
      "Area of the Circle: 78.54\n",
      "Area of the Rectangle: 24.00\n"
     ]
    }
   ],
   "source": [
    "from abc import ABC, abstractmethod\n",
    "import math\n",
    "class Shape(ABC):\n",
    "    @abstractmethod\n",
    "    def calculate_area(self):\n",
    "        pass\n",
    "class Circle(Shape):\n",
    "    def __init__(self, radius):\n",
    "        self.radius = radius\n",
    "    def calculate_area(self):\n",
    "        return math.pi * (self.radius ** 2)\n",
    "class Rectangle(Shape):\n",
    "    def __init__(self, width, height):\n",
    "        self.width = width\n",
    "        self.height = height\n",
    "    def calculate_area(self):\n",
    "        return self.width * self.height\n",
    "def main():\n",
    "    circle = Circle(radius=5)\n",
    "    rectangle = Rectangle(width=4, height=6)\n",
    "    print(f\"Area of the Circle: {circle.calculate_area():.2f}\")  \n",
    "    print(f\"Area of the Rectangle: {rectangle.calculate_area():.2f}\")  \n",
    "if __name__ == \"__main__\":\n",
    "    main()\n"
   ]
  },
  {
   "cell_type": "markdown",
   "metadata": {},
   "source": [
    "4. Explain the concept of abstract classes in Python and how they are defined using the `abc` module. Provide \n",
    "an example."
   ]
  },
  {
   "cell_type": "code",
   "execution_count": 95,
   "metadata": {},
   "outputs": [
    {
     "name": "stdout",
     "output_type": "stream",
     "text": [
      "The animal makes a sound: Bark\n",
      "The animal moves by: Runs\n",
      "The animal makes a sound: Meow\n",
      "The animal moves by: Walks\n"
     ]
    }
   ],
   "source": [
    "from abc import ABC, abstractmethod\n",
    "class Animal(ABC):\n",
    "    @abstractmethod\n",
    "    def sound(self):\n",
    "        pass\n",
    "    @abstractmethod\n",
    "    def move(self):\n",
    "        pass\n",
    "class Dog(Animal):\n",
    "    def sound(self):\n",
    "        return \"Bark\"\n",
    "    def move(self):\n",
    "        return \"Runs\"\n",
    "class Cat(Animal):\n",
    "    def sound(self):\n",
    "        return \"Meow\"\n",
    "    def move(self):\n",
    "        return \"Walks\"\n",
    "def animal_actions(animal: Animal):\n",
    "    print(f\"The animal makes a sound: {animal.sound()}\")\n",
    "    print(f\"The animal moves by: {animal.move()}\")\n",
    "dog = Dog()\n",
    "cat = Cat()\n",
    "animal_actions(dog)\n",
    "animal_actions(cat)\n"
   ]
  },
  {
   "cell_type": "markdown",
   "metadata": {},
   "source": [
    "5. How do abstract classes differ from regular classes in Python? Discuss their use cases."
   ]
  },
  {
   "cell_type": "markdown",
   "metadata": {},
   "source": [
    "Differences Between Abstract Classes and Regular Classes\n",
    "Instantiation:\n",
    "\n",
    "Abstract Classes: Cannot be instantiated directly. You cannot create objects from an abstract class. They are meant to be subclassed, and their abstract methods must be implemented in the subclasses.\n",
    "Regular Classes: Can be instantiated to create objects. You can directly create instances of regular classes.\n",
    "Abstract Methods:\n",
    "\n",
    "Abstract Classes: May contain one or more abstract methods, which are declared using the @abstractmethod decorator. These methods do not have any implementation in the abstract class and must be implemented by any concrete subclass.\n",
    "Regular Classes: Can have both implemented methods and abstract methods, but they do not enforce the implementation of methods in subclasses.\n",
    "Purpose:\n",
    "\n",
    "Abstract Classes: Serve as a blueprint for other classes, defining a common interface for a group of related classes. They are used to enforce consistency and provide a framework for subclasses.\n",
    "Regular Classes: Implement specific functionalities and behavior. They can be used independently without the need for subclassing.\n",
    "Use of Inheritance:\n",
    "\n",
    "Abstract Classes: Require subclasses to implement their abstract methods, promoting a clear contract for what methods the subclasses must provide.\n",
    "Regular Classes: Can be inherited from, but there is no enforcement of method implementation unless specified.\n",
    "Use Cases for Abstract Classes\n",
    "Defining Interfaces:\n",
    "\n",
    "When you want to create a common interface for a set of classes that share certain behaviors. For example, a Shape class with abstract methods like area() and perimeter() can be used to define the interface for various shapes (e.g., Circle, Rectangle).\n",
    "Code Reusability:\n",
    "\n",
    "Abstract classes allow you to define methods that can be reused across multiple subclasses. For example, an abstract class Animal with an abstract method speak() can provide a common method for all animal subclasses while allowing each to define its own sound.\n",
    "Enforcing Implementation:\n",
    "\n",
    "Abstract classes are useful when you want to enforce that certain methods are implemented in every subclass. This ensures that all subclasses adhere to a particular structure and implement necessary functionalities.\n",
    "Providing Default Behavior:\n",
    "\n",
    "Abstract classes can also provide concrete methods that can be shared across subclasses while leaving some methods abstract. This allows subclasses to inherit common functionality while defining their specific behaviors.\n",
    "Use Cases for Regular Classes\n",
    "Encapsulation of Functionality:\n",
    "\n",
    "Regular classes are used when you want to encapsulate specific behaviors and functionalities in a standalone manner. For example, a Car class that implements properties like speed and methods like accelerate().\n",
    "Creating Concrete Instances:\n",
    "\n",
    "Use regular classes when you need to create objects with specific data and behavior. For example, a User class representing a user with attributes like username and password and methods for user actions.\n",
    "Simpler Structures:\n",
    "\n",
    "Regular classes are suitable for simpler structures where you do not need the level of abstraction provided by abstract classes. They are often used for classes that do not need a strict interface.\n",
    "\n",
    "Conclusion\n",
    "\n",
    "In summary, abstract classes and regular classes in Python serve different purposes. Abstract classes provide a way to define a common interface and enforce certain method implementations across subclasses, while regular classes focus on encapsulating specific behaviors and can be instantiated directly. Choosing between the two depends on the design requirements and whether you need to enforce a common structure among related classes."
   ]
  },
  {
   "cell_type": "markdown",
   "metadata": {},
   "source": [
    "6. Create a Python class for a bank account and demonstrate abstraction by hiding the account balance and \n",
    "providing methods to deposit and withdraw funds."
   ]
  },
  {
   "cell_type": "code",
   "execution_count": 98,
   "metadata": {},
   "outputs": [
    {
     "name": "stdout",
     "output_type": "stream",
     "text": [
      "Deposited: INR 500.00. New Balance: INR 500.00\n",
      "Deposited: INR 150.00. New Balance: INR 650.00\n",
      "Withdrew: INR 200.00. New Balance: INR 450.00\n",
      "Insufficient funds or invalid amount.\n",
      "Current Balance (via method): $450.00\n"
     ]
    }
   ],
   "source": [
    "class BankAccount:\n",
    "    def __init__(self, account_number: str):\n",
    "        self.__account_number = account_number\n",
    "        self.__balance = 0.0\n",
    "    def deposit(self, amount: float):\n",
    "        if amount > 0:\n",
    "            self.__balance += amount\n",
    "            print(f\"Deposited: INR {amount:.2f}. New Balance: INR {self.__balance:.2f}\")\n",
    "        else:\n",
    "            print(\"Deposit amount must be positive.\")\n",
    "    def withdraw(self, amount: float):\n",
    "        if 0 < amount <= self.__balance:\n",
    "            self.__balance -= amount\n",
    "            print(f\"Withdrew: INR {amount:.2f}. New Balance: INR {self.__balance:.2f}\")\n",
    "        else:\n",
    "            print(\"Insufficient funds or invalid amount.\")\n",
    "    def get_balance(self):\n",
    "        \"\"\"Get the current balance of the account.\"\"\"\n",
    "        return self.__balance\n",
    "if __name__ == \"__main__\":\n",
    "    account = BankAccount(\"12345678\")\n",
    "    account.deposit(500.0)\n",
    "    account.deposit(150.0)\n",
    "    account.withdraw(200.0)\n",
    "    account.withdraw(1000.0)\n",
    "    print(f\"Current Balance (via method): ${account.get_balance():.2f}\")\n"
   ]
  },
  {
   "cell_type": "markdown",
   "metadata": {},
   "source": [
    "7. Discuss the concept of interface classes in Python and their role in achieving abstraction."
   ]
  },
  {
   "cell_type": "code",
   "execution_count": 99,
   "metadata": {},
   "outputs": [
    {
     "name": "stdout",
     "output_type": "stream",
     "text": [
      "Area: 78.5\n",
      "Perimeter: 31.400000000000002\n",
      "Area: 24\n",
      "Perimeter: 20\n"
     ]
    }
   ],
   "source": [
    "from abc import ABC, abstractmethod\n",
    "class Shape(ABC):\n",
    "    @abstractmethod\n",
    "    def calculate_area(self):\n",
    "        pass\n",
    "    @abstractmethod\n",
    "    def calculate_perimeter(self):\n",
    "        pass\n",
    "class Circle(Shape):\n",
    "    def __init__(self, radius):\n",
    "        self.radius = radius\n",
    "    def calculate_area(self):\n",
    "        return 3.14 * (self.radius ** 2)\n",
    "    def calculate_perimeter(self):\n",
    "        return 2 * 3.14 * self.radius\n",
    "class Rectangle(Shape):\n",
    "    def __init__(self, width, height):\n",
    "        self.width = width\n",
    "        self.height = height\n",
    "    def calculate_area(self):\n",
    "        return self.width * self.height\n",
    "    def calculate_perimeter(self):\n",
    "        return 2 * (self.width + self.height)\n",
    "if __name__ == \"__main__\":\n",
    "    shapes = [Circle(5), Rectangle(4, 6)]\n",
    "    for shape in shapes:\n",
    "        print(f\"Area: {shape.calculate_area()}\")\n",
    "        print(f\"Perimeter: {shape.calculate_perimeter()}\")\n"
   ]
  },
  {
   "cell_type": "markdown",
   "metadata": {},
   "source": [
    "8. Create a Python class hierarchy for animals and implement abstraction by defining common methods (e.g., `eat()`, `sleep()`) in an abstract base class."
   ]
  },
  {
   "cell_type": "code",
   "execution_count": 100,
   "metadata": {},
   "outputs": [
    {
     "name": "stdout",
     "output_type": "stream",
     "text": [
      "The dog eats dog food.\n",
      "The dog sleeps in its kennel.\n",
      "The cat eats cat food.\n",
      "The cat sleeps on the windowsill.\n",
      "The bird eats seeds.\n",
      "The bird sleeps in its nest.\n"
     ]
    }
   ],
   "source": [
    "from abc import ABC, abstractmethod\n",
    "class Animal(ABC):\n",
    "    @abstractmethod\n",
    "    def eat(self):\n",
    "        \"\"\"Method for eating behavior.\"\"\"\n",
    "        pass\n",
    "    @abstractmethod\n",
    "    def sleep(self):\n",
    "        \"\"\"Method for sleeping behavior.\"\"\"\n",
    "        pass\n",
    "class Dog(Animal):\n",
    "    def eat(self):\n",
    "        return \"The dog eats dog food.\"\n",
    "    def sleep(self):\n",
    "        return \"The dog sleeps in its kennel.\"\n",
    "class Cat(Animal):\n",
    "    def eat(self):\n",
    "        return \"The cat eats cat food.\"\n",
    "    def sleep(self):\n",
    "        return \"The cat sleeps on the windowsill.\"\n",
    "class Bird(Animal):\n",
    "    def eat(self):\n",
    "        return \"The bird eats seeds.\"\n",
    "    def sleep(self):\n",
    "        return \"The bird sleeps in its nest.\"\n",
    "if __name__ == \"__main__\":\n",
    "    animals = [Dog(), Cat(), Bird()]\n",
    "\n",
    "    for animal in animals:\n",
    "        print(animal.eat())\n",
    "        print(animal.sleep())"
   ]
  },
  {
   "cell_type": "markdown",
   "metadata": {},
   "source": [
    "9. Explain the significance of encapsulation in achieving abstraction. Provide examples."
   ]
  },
  {
   "cell_type": "code",
   "execution_count": 101,
   "metadata": {},
   "outputs": [
    {
     "name": "stdout",
     "output_type": "stream",
     "text": [
      "Deposited 200. New balance is 700.\n",
      "Withdrew 100. New balance is 600.\n",
      "Current balance: 600\n"
     ]
    }
   ],
   "source": [
    "class BankAccount:\n",
    "    def __init__(self, account_number, balance):\n",
    "        self.__account_number = account_number\n",
    "        self.__balance = balance\n",
    "    def deposit(self, amount):\n",
    "        if amount > 0:\n",
    "            self.__balance += amount\n",
    "            print(f\"Deposited {amount}. New balance is {self.__balance}.\")\n",
    "        else:\n",
    "            print(\"Deposit amount must be positive.\")\n",
    "    def withdraw(self, amount):\n",
    "        if 0 < amount <= self.__balance:\n",
    "            self.__balance -= amount\n",
    "            print(f\"Withdrew {amount}. New balance is {self.__balance}.\")\n",
    "        else:\n",
    "            print(\"Insufficient funds or invalid amount.\")\n",
    "    def get_balance(self):\n",
    "        return self.__balance\n",
    "account = BankAccount(\"12345\", 500)\n",
    "account.deposit(200)\n",
    "account.withdraw(100)\n",
    "print(f\"Current balance: {account.get_balance()}\")\n"
   ]
  },
  {
   "cell_type": "markdown",
   "metadata": {},
   "source": [
    "10. What is the purpose of abstract methods, and how do they enforce abstraction in Python classes?"
   ]
  },
  {
   "cell_type": "code",
   "execution_count": 103,
   "metadata": {},
   "outputs": [
    {
     "name": "stdout",
     "output_type": "stream",
     "text": [
      "Area of Circle: 78.5\n",
      "Area of Rectangle: 24\n"
     ]
    }
   ],
   "source": [
    "from abc import ABC, abstractmethod\n",
    "class Shape(ABC):\n",
    "    @abstractmethod\n",
    "    def calculate_area(self):\n",
    "        pass\n",
    "class Circle(Shape):\n",
    "    def __init__(self, radius):\n",
    "        self.radius = radius\n",
    "    def calculate_area(self):\n",
    "        return 3.14 * (self.radius ** 2)\n",
    "class Rectangle(Shape):\n",
    "    def __init__(self, length, width):\n",
    "        self.length = length\n",
    "        self.width = width\n",
    "    def calculate_area(self):\n",
    "        return self.length * self.width\n",
    "circle = Circle(5)\n",
    "rectangle = Rectangle(4, 6)\n",
    "print(f\"Area of Circle: {circle.calculate_area()}\")\n",
    "print(f\"Area of Rectangle: {rectangle.calculate_area()}\")"
   ]
  },
  {
   "cell_type": "markdown",
   "metadata": {},
   "source": [
    "11. Create a Python class for a vehicle system and demonstrate abstraction by defining common methods (e.g., `start()`, `stop()`) in an abstract base class."
   ]
  },
  {
   "cell_type": "code",
   "execution_count": 104,
   "metadata": {},
   "outputs": [
    {
     "name": "stdout",
     "output_type": "stream",
     "text": [
      "The car Tesla Model S is starting.\n",
      "The car Tesla Model S is stopping.\n",
      "The bike Yamaha R15 is starting.\n",
      "The bike Yamaha R15 is stopping.\n"
     ]
    }
   ],
   "source": [
    "from abc import ABC, abstractmethod\n",
    "class Vehicle(ABC):\n",
    "    @abstractmethod\n",
    "    def start(self):\n",
    "        pass\n",
    "    @abstractmethod\n",
    "    def stop(self):\n",
    "        pass\n",
    "class Car(Vehicle):\n",
    "    def __init__(self, brand, model):\n",
    "        self.brand = brand\n",
    "        self.model = model\n",
    "    def start(self):\n",
    "        print(f\"The car {self.brand} {self.model} is starting.\")\n",
    "    def stop(self):\n",
    "        print(f\"The car {self.brand} {self.model} is stopping.\")\n",
    "class Bike(Vehicle):\n",
    "    def __init__(self, brand, model):\n",
    "        self.brand = brand\n",
    "        self.model = model\n",
    "    def start(self):\n",
    "        print(f\"The bike {self.brand} {self.model} is starting.\")\n",
    "    def stop(self):\n",
    "        print(f\"The bike {self.brand} {self.model} is stopping.\")\n",
    "car = Car(\"Tesla\", \"Model S\")\n",
    "bike = Bike(\"Yamaha\", \"R15\")\n",
    "car.start()\n",
    "car.stop()\n",
    "bike.start()\n",
    "bike.stop()\n"
   ]
  },
  {
   "cell_type": "markdown",
   "metadata": {},
   "source": [
    "12. Describe the use of abstract properties in Python and how they can be employed in abstract classes."
   ]
  },
  {
   "cell_type": "code",
   "execution_count": 105,
   "metadata": {},
   "outputs": [
    {
     "name": "stdout",
     "output_type": "stream",
     "text": [
      "Circle Area: 78.5\n",
      "Circle Perimeter: 31.400000000000002\n",
      "Square Area: 16\n",
      "Square Perimeter: 16\n"
     ]
    }
   ],
   "source": [
    "from abc import ABC, abstractmethod\n",
    "class Shape(ABC):\n",
    "    @property\n",
    "    @abstractmethod\n",
    "    def area(self):\n",
    "        \"\"\"Abstract property to get the area of the shape\"\"\"\n",
    "        pass\n",
    "    @property\n",
    "    @abstractmethod\n",
    "    def perimeter(self):\n",
    "        pass\n",
    "class Circle(Shape):\n",
    "    def __init__(self, radius):\n",
    "        self.radius = radius\n",
    "    @property\n",
    "    def area(self):\n",
    "        return 3.14 * self.radius ** 2\n",
    "    @property\n",
    "    def perimeter(self):\n",
    "        return 2 * 3.14 * self.radius\n",
    "class Square(Shape):\n",
    "    def __init__(self, side):\n",
    "        self.side = side\n",
    "    @property\n",
    "    def area(self):\n",
    "        return self.side ** 2\n",
    "    @property\n",
    "    def perimeter(self):\n",
    "        return 4 * self.side\n",
    "circle = Circle(5)\n",
    "square = Square(4)\n",
    "print(f\"Circle Area: {circle.area}\")\n",
    "print(f\"Circle Perimeter: {circle.perimeter}\")  \n",
    "print(f\"Square Area: {square.area}\")\n",
    "print(f\"Square Perimeter: {square.perimeter}\")\n"
   ]
  },
  {
   "cell_type": "code",
   "execution_count": 106,
   "metadata": {},
   "outputs": [
    {
     "name": "stdout",
     "output_type": "stream",
     "text": [
      "16\n",
      "25.0\n"
     ]
    }
   ],
   "source": [
    "from abc import ABC, abstractmethod\n",
    "class Shape(ABC):\n",
    "    @property\n",
    "    @abstractmethod\n",
    "    def area(self):\n",
    "        pass\n",
    "    @area.setter\n",
    "    @abstractmethod\n",
    "    def area(self, value):\n",
    "        pass\n",
    "class Square(Shape):\n",
    "    def __init__(self, side):\n",
    "        self._side = side\n",
    "    @property\n",
    "    def area(self):\n",
    "        return self._side ** 2\n",
    "    @area.setter\n",
    "    def area(self, value):\n",
    "        self._side = value ** 0.5\n",
    "square = Square(4)\n",
    "print(square.area)\n",
    "square.area = 25\n",
    "print(square.area)"
   ]
  },
  {
   "cell_type": "markdown",
   "metadata": {},
   "source": [
    "13. Create a Python class hierarchy for employees in a company (e.g., manager, developer, designer) and implement abstraction by defining a common `get_salary()` method."
   ]
  },
  {
   "cell_type": "code",
   "execution_count": 108,
   "metadata": {},
   "outputs": [
    {
     "name": "stdout",
     "output_type": "stream",
     "text": [
      "Aaloke's Salary: INR 6200\n",
      "Rudra's Salary: INR 4500\n",
      "Tanay's Salary: INR 4300\n"
     ]
    }
   ],
   "source": [
    "from abc import ABC, abstractmethod\n",
    "class Employee(ABC):\n",
    "    def __init__(self, name, base_salary):\n",
    "        self.name = name\n",
    "        self.base_salary = base_salary\n",
    "    @abstractmethod\n",
    "    def get_salary(self):\n",
    "        pass\n",
    "class Manager(Employee):\n",
    "    def __init__(self, name, base_salary, bonus):\n",
    "        super().__init__(name, base_salary)\n",
    "        self.bonus = bonus\n",
    "    def get_salary(self):\n",
    "        return self.base_salary + self.bonus\n",
    "class Developer(Employee):\n",
    "    def __init__(self, name, base_salary, overtime_hours, overtime_rate):\n",
    "        super().__init__(name, base_salary)\n",
    "        self.overtime_hours = overtime_hours\n",
    "        self.overtime_rate = overtime_rate\n",
    "    def get_salary(self):\n",
    "        return self.base_salary + (self.overtime_hours * self.overtime_rate)\n",
    "class Designer(Employee):\n",
    "    def __init__(self, name, base_salary, project_incentive):\n",
    "        super().__init__(name, base_salary)\n",
    "        self.project_incentive = project_incentive\n",
    "    def get_salary(self):\n",
    "        return self.base_salary + self.project_incentive\n",
    "manager = Manager(\"Aaloke\", 5000, 1200)\n",
    "developer = Developer(\"Rudra\", 4000, 10, 50)\n",
    "designer = Designer(\"Tanay\", 3500, 800)\n",
    "print(f\"{manager.name}'s Salary: INR {manager.get_salary()}\") \n",
    "print(f\"{developer.name}'s Salary: INR {developer.get_salary()}\")\n",
    "print(f\"{designer.name}'s Salary: INR {designer.get_salary()}\")\n"
   ]
  },
  {
   "cell_type": "markdown",
   "metadata": {},
   "source": [
    "14. Discuss the differences between abstract classes and concrete classes in Python, including their \n",
    "instantiation."
   ]
  },
  {
   "cell_type": "code",
   "execution_count": null,
   "metadata": {},
   "outputs": [],
   "source": [
    "from abc import ABC, abstractmethod\n",
    "class Animal(ABC):\n",
    "    @abstractmethod\n",
    "    def make_sound(self):\n",
    "        pass\n",
    "animal = Animal()\n"
   ]
  },
  {
   "cell_type": "code",
   "execution_count": 110,
   "metadata": {},
   "outputs": [
    {
     "name": "stdout",
     "output_type": "stream",
     "text": [
      "Bark\n"
     ]
    }
   ],
   "source": [
    "class Dog:\n",
    "    def make_sound(self):\n",
    "        return \"Bark\"\n",
    "dog = Dog()\n",
    "print(dog.make_sound())\n"
   ]
  },
  {
   "cell_type": "code",
   "execution_count": 111,
   "metadata": {},
   "outputs": [
    {
     "name": "stdout",
     "output_type": "stream",
     "text": [
      "Bark\n",
      "Sleeping...\n"
     ]
    }
   ],
   "source": [
    "from abc import ABC, abstractmethod\n",
    "class Animal(ABC):\n",
    "    @abstractmethod\n",
    "    def make_sound(self):\n",
    "        pass\n",
    "\n",
    "    def sleep(self):\n",
    "        print(\"Sleeping...\")\n",
    "\n",
    "class Dog(Animal):\n",
    "    def make_sound(self):\n",
    "        print(\"Bark\")\n",
    "dog = Dog()\n",
    "dog.make_sound()\n",
    "dog.sleep()"
   ]
  },
  {
   "cell_type": "code",
   "execution_count": 112,
   "metadata": {},
   "outputs": [
    {
     "name": "stdout",
     "output_type": "stream",
     "text": [
      "Meow\n"
     ]
    }
   ],
   "source": [
    "class Cat:\n",
    "    def make_sound(self):\n",
    "        return \"Meow\"\n",
    "cat = Cat()\n",
    "print(cat.make_sound())"
   ]
  },
  {
   "cell_type": "markdown",
   "metadata": {},
   "source": [
    "15. Explain the concept of abstract data types (ADTs) and their role in achieving abstraction in Python."
   ]
  },
  {
   "cell_type": "code",
   "execution_count": 114,
   "metadata": {},
   "outputs": [
    {
     "name": "stdout",
     "output_type": "stream",
     "text": [
      "20\n",
      "10\n"
     ]
    }
   ],
   "source": [
    "class Stack:\n",
    "    def __init__(self):\n",
    "        self._items = []\n",
    "    def push(self, item):\n",
    "        self._items.append(item)\n",
    "    def pop(self):\n",
    "        if not self.is_empty():\n",
    "            return self._items.pop()\n",
    "        else:\n",
    "            raise IndexError(\"Pop from an empty stack\")\n",
    "    def peek(self):\n",
    "        if not self.is_empty():\n",
    "            return self._items[-1]\n",
    "        else:\n",
    "            raise IndexError(\"Peek from an empty stack\")\n",
    "    def is_empty(self):\n",
    "        return len(self._items) == 0\n",
    "\n",
    "    def size(self):\n",
    "        return len(self._items)\n",
    "stack = Stack()\n",
    "stack.push(10)\n",
    "stack.push(20)\n",
    "print(stack.peek())  # Output: 20\n",
    "stack.pop()\n",
    "print(stack.peek())  # Output: 10\n"
   ]
  },
  {
   "cell_type": "markdown",
   "metadata": {},
   "source": [
    "16. Create a Python class for a computer system, demonstrating abstraction by defining common methods (e.g., `power_on()`, `shutdown()`) in an abstract base class."
   ]
  },
  {
   "cell_type": "code",
   "execution_count": 116,
   "metadata": {},
   "outputs": [
    {
     "name": "stdout",
     "output_type": "stream",
     "text": [
      "Desktop is Powering on....\n",
      "Laptop is Shut Down\n",
      "Server is Powering on....\n"
     ]
    }
   ],
   "source": [
    "from abc import ABC, abstractmethod\n",
    "class ComputerSystem(ABC):\n",
    "    @abstractmethod\n",
    "    def power_on(self):\n",
    "        pass\n",
    "    def shutdown(self):\n",
    "        pass\n",
    "class Desktop(ComputerSystem):\n",
    "    def power_on(self):\n",
    "        print(\"Desktop is Powering on....\")\n",
    "    def shutdown(self):\n",
    "       print(\"Desktop is Shut Down\")\n",
    "class Laptop(ComputerSystem):\n",
    "    def power_on(self):\n",
    "        print(\"Laptop is Powering on....\")\n",
    "    def shutdown(self):\n",
    "       print(\"Laptop is Shut Down\")\n",
    "class Server(ComputerSystem):\n",
    "    def power_on(self):\n",
    "        print(\"Server is Powering on....\")\n",
    "    def shutdown(self):\n",
    "       print(\"Server is Shut Down\")\n",
    "desktop = Desktop()\n",
    "laptop = Laptop()\n",
    "server = Server()\n",
    "desktop.power_on()\n",
    "laptop.shutdown()\n",
    "server.power_on() "
   ]
  },
  {
   "cell_type": "markdown",
   "metadata": {},
   "source": [
    "17. Discuss the benefits of using abstraction in large-scale software development projects."
   ]
  },
  {
   "cell_type": "markdown",
   "metadata": {},
   "source": [
    "1. Simplified Interface for Complex Systems\n",
    "Benefit: Abstraction allows developers to focus on the what (interface) rather than the how (implementation). Complex systems can be broken down into simpler components with well-defined interfaces, making it easier for teams to work on different parts of a system without needing to understand the full complexity.\n",
    "Example: In a large e-commerce platform, abstraction can define general interfaces for services like payment, shipping, or customer authentication. Teams working on these services only need to interact with abstract methods, while the underlying implementation can be hidden and optimized later.\n",
    "2. Improved Code Reusability\n",
    "Benefit: Abstract classes provide a way to define common functionality once and reuse it across multiple concrete classes. This reduces code duplication, promotes modularity, and makes it easier to extend the system without rewriting code.\n",
    "Example: A software system for managing different types of vehicles (e.g., cars, buses, bikes) could define an abstract class Vehicle with common methods like start() or stop(). Concrete subclasses (e.g., Car, Bus, Bike) would implement these methods differently, but the core functionality is reused.\n",
    "3. Separation of Concerns\n",
    "Benefit: Abstraction helps separate the high-level logic from low-level implementation details. Developers can work on different layers of a system independently, improving collaboration in large development teams and ensuring that different system components evolve without interference.\n",
    "Example: In a web development project, the data access layer, business logic layer, and user interface layer can each be abstracted and developed independently, leading to better organization and easier changes.\n",
    "4. Easier Maintenance and Updates\n",
    "Benefit: By using abstraction, the system becomes more flexible to changes. When internal implementation details need to change (for example, optimizing an algorithm), it can be done without affecting other parts of the system, as long as the abstract interfaces remain the same.\n",
    "Example: In a database management system, if you abstract the data storage logic, you can switch from a relational database (e.g., MySQL) to a NoSQL database (e.g., MongoDB) without affecting other parts of the application.\n",
    "5. Enhanced Scalability\n",
    "Benefit: Abstraction allows a system to scale easily by adding new classes or functionalities without affecting the existing system. New features can be introduced by simply creating new concrete classes that adhere to the abstract interfaces.\n",
    "Example: In a cloud computing system, a base class CloudService can define common methods like deploy(), start(), and terminate(). As the system grows, new services (e.g., ComputeService, StorageService) can be introduced by extending this abstract class without modifying existing services.\n",
    "6. Increased Security through Information Hiding\n",
    "Benefit: Abstraction helps hide sensitive or unnecessary details from external components. By exposing only the essential interfaces, it ensures that parts of the system that should not be accessible (such as private data or critical infrastructure logic) are properly encapsulated and protected.\n",
    "Example: In a banking application, abstraction can be used to hide sensitive transaction processing details, only exposing safe and high-level operations like deposit(), withdraw(), or check_balance().\n",
    "7. Better Testing and Debugging\n",
    "Benefit: Abstraction helps create modular systems where each component can be tested independently using mock objects or abstract interfaces. This makes it easier to isolate problems and conduct unit tests without needing to test the entire system.\n",
    "Example: If you're working on a payment system, you can test the abstract interface PaymentGateway without needing to interact with real payment providers, thus simplifying debugging and testing.\n",
    "Conclusion:\n",
    "Abstraction is vital in large-scale software development projects because it provides clear interfaces, promotes reusability, encourages modularity, and simplifies both collaboration and maintenance. It makes systems more flexible, scalable, and secure, enabling better long-term development."
   ]
  },
  {
   "cell_type": "markdown",
   "metadata": {},
   "source": [
    "18. Explain how abstraction enhances code reusability and modularity in Python programs."
   ]
  },
  {
   "cell_type": "code",
   "execution_count": 117,
   "metadata": {},
   "outputs": [
    {
     "name": "stdout",
     "output_type": "stream",
     "text": [
      "78.5\n",
      "24\n"
     ]
    }
   ],
   "source": [
    "from abc import ABC, abstractmethod\n",
    "class Shape(ABC):\n",
    "    @abstractmethod\n",
    "    def calculate_area(self):\n",
    "        pass\n",
    "class Circle(Shape):\n",
    "    def __init__(self, radius):\n",
    "        self.radius = radius\n",
    "    def calculate_area(self):\n",
    "        return 3.14 * self.radius * self.radius\n",
    "class Rectangle(Shape):\n",
    "    def __init__(self, width, height):\n",
    "        self.width = width\n",
    "        self.height = height\n",
    "    def calculate_area(self):\n",
    "        return self.width * self.height\n",
    "shapes = [Circle(5), Rectangle(4, 6)]\n",
    "for shape in shapes:\n",
    "    print(shape.calculate_area())\n"
   ]
  },
  {
   "cell_type": "code",
   "execution_count": 119,
   "metadata": {},
   "outputs": [
    {
     "name": "stdout",
     "output_type": "stream",
     "text": [
      "Connecting to MySQL database...\n",
      "Disconnecting from MySQL database...\n",
      "Connecting to PostgreSQL database...\n",
      "Disconnecting from PostgreSQL database...\n"
     ]
    }
   ],
   "source": [
    "from abc import ABC, abstractmethod\n",
    "class Database(ABC):\n",
    "    @abstractmethod\n",
    "    def connect(self):\n",
    "        pass\n",
    "    @abstractmethod\n",
    "    def disconnect(self):\n",
    "        pass\n",
    "class MySQLDatabase(Database):\n",
    "    def connect(self):\n",
    "        print(\"Connecting to MySQL database...\")\n",
    "    def disconnect(self):\n",
    "        print(\"Disconnecting from MySQL database...\")\n",
    "class PostgreSQLDatabase(Database):\n",
    "    def connect(self):\n",
    "        print(\"Connecting to PostgreSQL database...\")\n",
    "    def disconnect(self):\n",
    "        print(\"Disconnecting from PostgreSQL database...\")\n",
    "def database_operations(db: Database):\n",
    "    db.connect()\n",
    "    db.disconnect()\n",
    "db = MySQLDatabase()\n",
    "database_operations(db)\n",
    "db = PostgreSQLDatabase()\n",
    "database_operations(db)\n"
   ]
  },
  {
   "cell_type": "code",
   "execution_count": 118,
   "metadata": {},
   "outputs": [
    {
     "name": "stdout",
     "output_type": "stream",
     "text": [
      "Developer salary calculation\n",
      "Manager salary calculation\n"
     ]
    }
   ],
   "source": [
    "from abc import ABC, abstractmethod\n",
    "class Employee(ABC):\n",
    "    @abstractmethod\n",
    "    def calculate_salary(self):\n",
    "        pass\n",
    "class Developer(Employee):\n",
    "    def calculate_salary(self):\n",
    "        return \"Developer salary calculation\"\n",
    "class Manager(Employee):\n",
    "    def calculate_salary(self):\n",
    "        return \"Manager salary calculation\"\n",
    "employees = [Developer(), Manager()]\n",
    "for emp in employees:\n",
    "    print(emp.calculate_salary())"
   ]
  },
  {
   "cell_type": "markdown",
   "metadata": {},
   "source": [
    "19. Create a Python class for a library system, implementing abstraction by defining common methods (e.g., `add_book()`, `borrow_book()`) in an abstract base class."
   ]
  },
  {
   "cell_type": "code",
   "execution_count": 121,
   "metadata": {},
   "outputs": [
    {
     "name": "stdout",
     "output_type": "stream",
     "text": [
      "Book '1984' by George Orwell added to the Public Library.\n",
      "Book 'To Kill a Mockingbird' by Harper Lee added to the Public Library.\n",
      "Available books in Public Library:\n",
      "1984 by George Orwell - 1 copies\n",
      "To Kill a Mockingbird by Harper Lee - 1 copies\n",
      "Book 'Introduction to Algorithms' by Thomas H. Cormen added to the University Library.\n",
      "Available books in University Library:\n",
      "Introduction to Algorithms by Thomas H. Cormen - 1 copies\n",
      "Book '1984' has been borrowed.\n",
      "Book '1984' has been returned.\n",
      "Available books in Public Library:\n",
      "1984 by George Orwell - 1 copies\n",
      "To Kill a Mockingbird by Harper Lee - 1 copies\n"
     ]
    }
   ],
   "source": [
    "from abc import ABC, abstractmethod\n",
    "class LibrarySystem(ABC):\n",
    "    @abstractmethod\n",
    "    def add_book(self, book_title, author):\n",
    "        pass\n",
    "    @abstractmethod\n",
    "    def borrow_book(self, book_title):\n",
    "        pass\n",
    "    @abstractmethod\n",
    "    def return_book(self, book_title):\n",
    "        pass\n",
    "    @abstractmethod\n",
    "    def display_books(self):\n",
    "        pass\n",
    "class PublicLibrary(LibrarySystem):\n",
    "    def __init__(self):\n",
    "        self.books = {}\n",
    "    def add_book(self, book_title, author):\n",
    "        if book_title in self.books:\n",
    "            self.books[book_title]['quantity'] += 1\n",
    "        else:\n",
    "            self.books[book_title] = {'author': author, 'quantity': 1}\n",
    "        print(f\"Book '{book_title}' by {author} added to the Public Library.\")\n",
    "    def borrow_book(self, book_title):\n",
    "        if book_title in self.books and self.books[book_title]['quantity'] > 0:\n",
    "            self.books[book_title]['quantity'] -= 1\n",
    "            print(f\"Book '{book_title}' has been borrowed.\")\n",
    "        else:\n",
    "            print(f\"Book '{book_title}' is not available.\")\n",
    "    def return_book(self, book_title):\n",
    "        if book_title in self.books:\n",
    "            self.books[book_title]['quantity'] += 1\n",
    "            print(f\"Book '{book_title}' has been returned.\")\n",
    "        else:\n",
    "            print(f\"Book '{book_title}' does not belong to this library.\")\n",
    "    def display_books(self):\n",
    "        print(\"Available books in Public Library:\")\n",
    "        for title, details in self.books.items():\n",
    "            print(f\"{title} by {details['author']} - {details['quantity']} copies\")\n",
    "class UniversityLibrary(LibrarySystem):   \n",
    "    def __init__(self):\n",
    "        self.books = {}\n",
    "    def add_book(self, book_title, author):\n",
    "        if book_title in self.books:\n",
    "            self.books[book_title]['quantity'] += 1\n",
    "        else:\n",
    "            self.books[book_title] = {'author': author, 'quantity': 1}\n",
    "        print(f\"Book '{book_title}' by {author} added to the University Library.\")\n",
    "    def borrow_book(self, book_title):\n",
    "        if book_title in self.books and self.books[book_title]['quantity'] > 0:\n",
    "            self.books[book_title]['quantity'] -= 1\n",
    "            print(f\"Book '{book_title}' has been borrowed.\")\n",
    "        else:\n",
    "            print(f\"Book '{book_title}' is not available.\")\n",
    "    def return_book(self, book_title):\n",
    "        if book_title in self.books:\n",
    "            self.books[book_title]['quantity'] += 1\n",
    "            print(f\"Book '{book_title}' has been returned.\")\n",
    "        else:\n",
    "            print(f\"Book '{book_title}' does not belong to this library.\")\n",
    "    def display_books(self):\n",
    "        print(\"Available books in University Library:\")\n",
    "        for title, details in self.books.items():\n",
    "            print(f\"{title} by {details['author']} - {details['quantity']} copies\")\n",
    "public_lib = PublicLibrary()\n",
    "public_lib.add_book(\"1984\", \"George Orwell\")\n",
    "public_lib.add_book(\"To Kill a Mockingbird\", \"Harper Lee\")\n",
    "public_lib.display_books()\n",
    "university_lib = UniversityLibrary()\n",
    "university_lib.add_book(\"Introduction to Algorithms\", \"Thomas H. Cormen\")\n",
    "university_lib.display_books()\n",
    "public_lib.borrow_book(\"1984\")\n",
    "public_lib.return_book(\"1984\")\n",
    "public_lib.display_books()\n"
   ]
  },
  {
   "cell_type": "markdown",
   "metadata": {},
   "source": [
    "20. Describe the concept of method abstraction in Python and how it relates to polymorphism."
   ]
  },
  {
   "cell_type": "code",
   "execution_count": 122,
   "metadata": {},
   "outputs": [
    {
     "name": "stdout",
     "output_type": "stream",
     "text": [
      "The area is: 78.5\n",
      "The area is: 24\n"
     ]
    }
   ],
   "source": [
    "from abc import ABC, abstractmethod\n",
    "class Shape(ABC):\n",
    "    @abstractmethod\n",
    "    def calculate_area(self):\n",
    "        pass\n",
    "class Circle(Shape):\n",
    "    def __init__(self, radius):\n",
    "        self.radius = radius\n",
    "    def calculate_area(self):\n",
    "        return 3.14 * (self.radius ** 2)\n",
    "class Rectangle(Shape): \n",
    "    def __init__(self, length, width):\n",
    "        self.length = length\n",
    "        self.width = width\n",
    "    def calculate_area(self):\n",
    "        return self.length * self.width \n",
    "def print_area(shape):\n",
    "    print(f\"The area is: {shape.calculate_area()}\")\n",
    "circle = Circle(5)\n",
    "rectangle = Rectangle(4, 6)\n",
    "print_area(circle)\n",
    "print_area(rectangle)"
   ]
  },
  {
   "cell_type": "markdown",
   "metadata": {},
   "source": [
    "# Composition:"
   ]
  },
  {
   "cell_type": "markdown",
   "metadata": {},
   "source": [
    "1. Explain the concept of composition in Python and how it is used to build complex objects from simpler ones."
   ]
  },
  {
   "cell_type": "code",
   "execution_count": 123,
   "metadata": {},
   "outputs": [
    {
     "name": "stdout",
     "output_type": "stream",
     "text": [
      "Engine with 150 horsepower started.\n",
      "4 wheels are rolling.\n",
      "Car is moving.\n"
     ]
    }
   ],
   "source": [
    "class Engine:\n",
    "    def __init__(self, horsepower):\n",
    "        self.horsepower = horsepower\n",
    "    def start(self):\n",
    "        return \"Engine with {} horsepower started.\".format(self.horsepower)\n",
    "class Wheels:\n",
    "    def __init__(self, count):\n",
    "        self.count = count\n",
    "    def roll(self):\n",
    "        return \"{} wheels are rolling.\".format(self.count)\n",
    "class Car:\n",
    "    def __init__(self, horsepower, wheel_count):\n",
    "        self.engine = Engine(horsepower)\n",
    "        self.wheels = Wheels(wheel_count)\n",
    "    def drive(self):\n",
    "        engine_status = self.engine.start()\n",
    "        wheels_status = self.wheels.roll()\n",
    "        return f\"{engine_status}\\n{wheels_status}\\nCar is moving.\"\n",
    "my_car = Car(150, 4)\n",
    "print(my_car.drive())\n"
   ]
  },
  {
   "cell_type": "markdown",
   "metadata": {},
   "source": [
    "2. Describe the difference between composition and inheritance in object-oriented programming."
   ]
  },
  {
   "cell_type": "markdown",
   "metadata": {},
   "source": [
    "Relationship\t\"Has-a\" relationship (e.g., a car has an engine).\t\"Is-a\" relationship (e.g., a car is a vehicle)."
   ]
  },
  {
   "cell_type": "markdown",
   "metadata": {},
   "source": [
    "Flexibility\tMore flexible: you can change components dynamically.\tLess flexible: tightly couples parent and child classes."
   ]
  },
  {
   "cell_type": "markdown",
   "metadata": {},
   "source": [
    "Coupling\tLooser coupling: classes are more independent.\tTighter coupling: child class is dependent on the parent class."
   ]
  },
  {
   "cell_type": "markdown",
   "metadata": {},
   "source": [
    "Code Reuse\tAchieves reuse by containing objects from other classes.\tAchieves reuse by inheriting attributes and methods from a base class."
   ]
  },
  {
   "cell_type": "markdown",
   "metadata": {},
   "source": [
    "Modification\tComponents can be easily replaced or swapped out.\tChanging behavior requires modifying the base or child class."
   ]
  },
  {
   "cell_type": "markdown",
   "metadata": {},
   "source": [
    "Class Hierarchy\tDoes not lead to complex hierarchies.\tCan lead to deep, complex hierarchies."
   ]
  },
  {
   "cell_type": "markdown",
   "metadata": {},
   "source": [
    "Polymorphism\tDoesn't inherently support polymorphism.\tSupports polymorphism, allowing the child class to override parent methods."
   ]
  },
  {
   "cell_type": "markdown",
   "metadata": {},
   "source": [
    "Purpose\tUsed to build objects with different functionalities by combining multiple components.\tUsed when one class should inherit common behaviors and attributes from another."
   ]
  },
  {
   "cell_type": "markdown",
   "metadata": {},
   "source": [
    "Method Resolution\tMethods belong to the contained classes and are explicitly invoked through their instances.\tMethods are inherited and resolved automatically through the inheritance chain."
   ]
  },
  {
   "cell_type": "code",
   "execution_count": 124,
   "metadata": {},
   "outputs": [
    {
     "name": "stdout",
     "output_type": "stream",
     "text": [
      "Engine started. Car is moving.\n"
     ]
    }
   ],
   "source": [
    "class Engine:\n",
    "    def start(self):\n",
    "        return \"Engine started.\"\n",
    "class Car:\n",
    "    def __init__(self):\n",
    "        self.engine = Engine()  \n",
    "    def drive(self):\n",
    "        return self.engine.start() + \" Car is moving.\"\n",
    "my_car = Car()\n",
    "print(my_car.drive())"
   ]
  },
  {
   "cell_type": "code",
   "execution_count": 125,
   "metadata": {},
   "outputs": [
    {
     "name": "stdout",
     "output_type": "stream",
     "text": [
      "Vehicle started. Car is now running.\n"
     ]
    }
   ],
   "source": [
    "class Vehicle:\n",
    "    def start(self):\n",
    "        return \"Vehicle started.\"\n",
    "class Car(Vehicle):\n",
    "    def start(self):\n",
    "        return super().start() + \" Car is now running.\"\n",
    "my_car = Car()\n",
    "print(my_car.start())"
   ]
  },
  {
   "cell_type": "markdown",
   "metadata": {},
   "source": [
    "3. Create a Python class called `Author` with attributes for name and birthdate. Then, create a `Book` class \n",
    "that contains an instance of `Author` as a composition. Provide an example of creating a `Book` object."
   ]
  },
  {
   "cell_type": "code",
   "execution_count": 126,
   "metadata": {},
   "outputs": [
    {
     "name": "stdout",
     "output_type": "stream",
     "text": [
      "Book: 1984, Published: 1949, Author: George Orwell, Born: June 25, 1903\n"
     ]
    }
   ],
   "source": [
    "class Author:\n",
    "    def __init__(self, name, birthdate):\n",
    "        self.name = name\n",
    "        self.birthdate = birthdate\n",
    "\n",
    "    def get_info(self):\n",
    "        return f\"Author: {self.name}, Born: {self.birthdate}\"\n",
    "class Book:\n",
    "    def __init__(self, title, author, published_year):\n",
    "        self.title = title\n",
    "        self.author = author\n",
    "        self.published_year = published_year\n",
    "    def get_book_info(self):\n",
    "        return f\"Book: {self.title}, Published: {self.published_year}, {self.author.get_info()}\"\n",
    "author = Author(\"George Orwell\", \"June 25, 1903\")\n",
    "book = Book(\"1984\", author, 1949)\n",
    "print(book.get_book_info())\n"
   ]
  },
  {
   "cell_type": "markdown",
   "metadata": {},
   "source": [
    "4. Discuss the benefits of using composition over inheritance in Python, especially in terms of code flexibility \n",
    "and reusability."
   ]
  },
  {
   "cell_type": "markdown",
   "metadata": {},
   "source": [
    "1. Flexibility\n",
    "Dynamic Composition: Composition allows for more dynamic and flexible code. Components can be easily added, removed, or replaced without altering the overall structure of the class. For instance, if you want to change how a particular functionality works, you can swap out a component (e.g., changing an engine in a car) without modifying the main class.\n",
    "\n",
    "Behavioral Changes: By using composition, you can easily alter the behavior of a class at runtime by changing its components. This is particularly useful in scenarios where behavior should vary according to certain conditions.\n",
    "\n",
    "Encapsulation of Changes: With composition, changes to a component class do not affect other classes directly. This encapsulation helps in isolating changes and ensures that modifications can be made with minimal impact on the rest of the system.\n",
    "\n",
    "2. Reusability\n",
    "Modular Design: Composition promotes a modular design where components can be reused across different classes. For example, a logging component can be used in multiple classes without rewriting the logging code.\n",
    "\n",
    "Reduction of Code Duplication: By creating independent components that encapsulate specific functionalities, you reduce code duplication. For instance, if you have a logging class, you can use it in multiple classes rather than having logging functionality repeated in each one.\n",
    "\n",
    "Single Responsibility Principle: Composition aligns well with the Single Responsibility Principle, which states that a class should only have one reason to change. By using separate classes for different functionalities, each component can evolve independently, improving maintainability.\n",
    "\n",
    "3. Loose Coupling\n",
    "Independent Components: In composition, components are generally loosely coupled. This means that changes to one component will have minimal impact on other components or the classes that use them. This decoupling makes it easier to work on individual components without worrying about breaking others.\n",
    "\n",
    "Simplified Testing: Because components are separate, they can be tested independently. This makes unit testing simpler and helps ensure that each component behaves as expected before integrating it into larger systems.\n",
    "\n",
    "4. Avoiding the Fragile Base Class Problem\n",
    "Safe Modifications: Inheritance can lead to the fragile base class problem, where changes in a base class can inadvertently break derived classes. With composition, since classes rely on distinct components rather than a hierarchy, this issue is minimized. You can modify or extend components without risking the stability of the entire class structure.\n",
    "5. Better Expressiveness\n",
    "Intuitive Relationships: Composition often provides a more intuitive understanding of the relationships between classes. Instead of saying a Car is a Vehicle (inheritance), you can say a Car has an Engine (composition), which can clarify the design intent.\n",
    "6. Performance Considerations\n",
    "Potential for Performance Gains: In some cases, composition can lead to better performance, especially when reusing components. Instead of instantiating several derived classes, a single instance of a component can be shared among multiple classes, saving memory and potentially improving execution speed.\n",
    "Conclusion\n",
    "While inheritance can be powerful and is useful for establishing clear hierarchies and shared behaviors, composition offers greater flexibility, reusability, and maintainability in many scenarios. It encourages cleaner designs and promotes a modular approach to programming, which can lead to more robust and adaptable codebases. When designing systems, considering composition first can often lead to more effective and sustainable software architecture."
   ]
  },
  {
   "cell_type": "markdown",
   "metadata": {},
   "source": [
    "5. How can you implement composition in Python classes? Provide examples of using composition to create \n",
    "complex objects."
   ]
  },
  {
   "cell_type": "code",
   "execution_count": 128,
   "metadata": {},
   "outputs": [
    {
     "name": "stdout",
     "output_type": "stream",
     "text": [
      "CPU: Intel, Cores: 8, RAM: 16 GB, Storage: 512 GB\n"
     ]
    }
   ],
   "source": [
    "class CPU:\n",
    "    def __init__(self, brand, cores):\n",
    "        self.brand = brand\n",
    "        self.cores = cores\n",
    "    def get_info(self):\n",
    "        return f\"CPU: {self.brand}, Cores: {self.cores}\"\n",
    "class RAM:\n",
    "    def __init__(self, size):\n",
    "        self.size = size\n",
    "    def get_info(self):\n",
    "        return f\"RAM: {self.size} GB\"\n",
    "class Storage:\n",
    "    def __init__(self, capacity):\n",
    "        self.capacity = capacity\n",
    "\n",
    "    def get_info(self):\n",
    "        return f\"Storage: {self.capacity} GB\"\n",
    "class Computer:\n",
    "    def __init__(self, cpu, ram, storage):\n",
    "        self.cpu = cpu\n",
    "        self.ram = ram\n",
    "        self.storage = storage\n",
    "    def get_computer_info(self):\n",
    "        return f\"{self.cpu.get_info()}, {self.ram.get_info()}, {self.storage.get_info()}\"\n",
    "cpu = CPU(\"Intel\", 8)\n",
    "ram = RAM(16)\n",
    "storage = Storage(512)\n",
    "computer = Computer(cpu, ram, storage)\n",
    "print(computer.get_computer_info())\n"
   ]
  },
  {
   "cell_type": "code",
   "execution_count": 129,
   "metadata": {},
   "outputs": [
    {
     "name": "stdout",
     "output_type": "stream",
     "text": [
      "Title: 1984, Author: George Orwell\n",
      "Title: To Kill a Mockingbird, Author: Harper Lee\n"
     ]
    }
   ],
   "source": [
    "class Book:\n",
    "    def __init__(self, title, author):\n",
    "        self.title = title\n",
    "        self.author = author\n",
    "    def get_info(self):\n",
    "        return f\"Title: {self.title}, Author: {self.author}\"\n",
    "class Library:\n",
    "    def __init__(self):\n",
    "        self.books = []\n",
    "    def add_book(self, book):\n",
    "        self.books.append(book)\n",
    "    def get_books_info(self):\n",
    "        return [book.get_info() for book in self.books]\n",
    "book1 = Book(\"1984\", \"George Orwell\")\n",
    "book2 = Book(\"To Kill a Mockingbird\", \"Harper Lee\")\n",
    "library = Library()\n",
    "library.add_book(book1)\n",
    "library.add_book(book2)\n",
    "for book_info in library.get_books_info():\n",
    "    print(book_info)\n"
   ]
  },
  {
   "cell_type": "markdown",
   "metadata": {},
   "source": [
    "6. Create a Python class hierarchy for a music player system, using composition to represent playlists and \n",
    "songs."
   ]
  },
  {
   "cell_type": "code",
   "execution_count": 130,
   "metadata": {},
   "outputs": [],
   "source": [
    "class Song:\n",
    "    def __init__(self, title, artist):\n",
    "        self.title = title\n",
    "        self.artist = artist\n",
    "    def get_info(self):\n",
    "        return f\"{self.title} by {self.artist}\"\n",
    "class Playlist:\n",
    "    def __init__(self, name):\n",
    "        self.name = name\n",
    "        self.songs = []\n",
    "    def add_song(self, song):\n",
    "        self.songs.append(song)\n",
    "    def remove_song(self, song):\n",
    "        self.songs.remove(song)\n",
    "    def get_playlist_info(self):\n",
    "        return [song.get_info() for song in self.songs]\n",
    "class MusicPlayer:\n",
    "    def __init__(self):\n",
    "        self.playlists = {}\n",
    "    def add_playlist(self, playlist):\n",
    "        self.playlists[playlist.name] = playlist\n",
    "    def play_playlist(self, playlist_name):\n",
    "        playlist = self.playlists.get(playlist_name)\n",
    "        if playlist:\n",
    "            print(f\"Playing Playlist: {playlist.name}\")\n",
    "            for song_info in playlist.get_playlist_info():\n",
    "                print(f\" - {song_info}\")\n",
    "        else:\n",
    "            print(f\"Playlist '{playlist_name}' not found.\")\n",
    "song1 = Song(\"Shape of You\", \"Ed Sheeran\")\n",
    "song2 = Song(\"Blinding Lights\", \"The Weeknd\")\n",
    "song3 = Song(\"Levitating\", \"Dua Lipa\")\n"
   ]
  },
  {
   "cell_type": "markdown",
   "metadata": {},
   "source": [
    "7. Explain the concept of \"has-a\" relationships in composition and how it helps design software systems."
   ]
  },
  {
   "cell_type": "code",
   "execution_count": 131,
   "metadata": {},
   "outputs": [
    {
     "name": "stdout",
     "output_type": "stream",
     "text": [
      "Engine with 300 HP is starting. Toyota Supra is now running.\n"
     ]
    }
   ],
   "source": [
    "class Engine:\n",
    "    def __init__(self, horsepower):\n",
    "        self.horsepower = horsepower\n",
    "    def start(self):\n",
    "        return f\"Engine with {self.horsepower} HP is starting.\"\n",
    "class Car:\n",
    "    def __init__(self, make, model, engine):\n",
    "        self.make = make\n",
    "        self.model = model\n",
    "        self.engine = engine  \n",
    "    def start(self):\n",
    "        engine_info = self.engine.start()\n",
    "        return f\"{engine_info} {self.make} {self.model} is now running.\"\n",
    "my_engine = Engine(300)\n",
    "my_car = Car(\"Toyota\", \"Supra\", my_engine)\n",
    "print(my_car.start())\n"
   ]
  },
  {
   "cell_type": "markdown",
   "metadata": {},
   "source": [
    "8. Create a Python class for a computer system, using composition to represent components like CPU, RAM, \n",
    "and storage devices."
   ]
  },
  {
   "cell_type": "code",
   "execution_count": 132,
   "metadata": {},
   "outputs": [
    {
     "name": "stdout",
     "output_type": "stream",
     "text": [
      "Computer System Information:\n",
      "CPU: Intel i7-11700K, Cores: 8, Clock Speed: 3.6 GHz\n",
      "RAM: 16 GB, Speed: 3200 MHz\n",
      "Storage: SSD, Capacity: 512 GB\n"
     ]
    }
   ],
   "source": [
    "class CPU:\n",
    "    def __init__(self, model, cores, clock_speed):\n",
    "        self.model = model\n",
    "        self.cores = cores\n",
    "        self.clock_speed = clock_speed\n",
    "    def get_info(self):\n",
    "        return f\"CPU: {self.model}, Cores: {self.cores}, Clock Speed: {self.clock_speed} GHz\"\n",
    "class RAM:\n",
    "    def __init__(self, size, speed):\n",
    "        self.size = size\n",
    "        self.speed = speed\n",
    "    def get_info(self):\n",
    "        return f\"RAM: {self.size} GB, Speed: {self.speed} MHz\"\n",
    "class StorageDevice:\n",
    "    def __init__(self, type, capacity):\n",
    "        self.type = type\n",
    "        self.capacity = capacity\n",
    "    def get_info(self):\n",
    "        return f\"Storage: {self.type}, Capacity: {self.capacity} GB\"\n",
    "class ComputerSystem:\n",
    "    def __init__(self, cpu, ram, storage):\n",
    "        self.cpu = cpu\n",
    "        self.ram = ram\n",
    "        self.storage = storage\n",
    "    def get_system_info(self):\n",
    "        return (\n",
    "            f\"Computer System Information:\\n\"\n",
    "            f\"{self.cpu.get_info()}\\n\"\n",
    "            f\"{self.ram.get_info()}\\n\"\n",
    "            f\"{self.storage.get_info()}\"\n",
    "        )\n",
    "cpu = CPU(\"Intel i7-11700K\", 8, 3.6)\n",
    "ram = RAM(16, 3200)\n",
    "storage = StorageDevice(\"SSD\", 512)\n",
    "computer = ComputerSystem(cpu, ram, storage)\n",
    "print(computer.get_system_info())\n"
   ]
  },
  {
   "cell_type": "markdown",
   "metadata": {},
   "source": [
    "9. Describe the concept of \"delegation\" in composition and how it simplifies the design of complex systems."
   ]
  },
  {
   "cell_type": "code",
   "execution_count": 133,
   "metadata": {},
   "outputs": [
    {
     "name": "stdout",
     "output_type": "stream",
     "text": [
      "Printing: Delegation in Composition Example\n"
     ]
    }
   ],
   "source": [
    "class PrintJob:\n",
    "    def __init__(self, content):\n",
    "        self.content = content\n",
    "    def execute(self):\n",
    "        print(f\"Printing: {self.content}\")\n",
    "class Printer:\n",
    "    def __init__(self):\n",
    "        self.current_job = None\n",
    "    def set_print_job(self, print_job):\n",
    "        self.current_job = print_job\n",
    "    def print(self):\n",
    "        if self.current_job:\n",
    "            self.current_job.execute()\n",
    "        else:\n",
    "            print(\"No print job to execute.\")\n",
    "job = PrintJob(\"Delegation in Composition Example\")\n",
    "printer = Printer()\n",
    "printer.set_print_job(job)\n",
    "printer.print()"
   ]
  },
  {
   "cell_type": "markdown",
   "metadata": {},
   "source": [
    "10. Create a Python class for a car, using composition to represent components like the engine, wheels, and \n",
    "transmission."
   ]
  },
  {
   "cell_type": "code",
   "execution_count": 134,
   "metadata": {},
   "outputs": [
    {
     "name": "stdout",
     "output_type": "stream",
     "text": [
      "Starting the Tesla car...\n",
      "Engine with 670 horsepower is starting...\n",
      "Wheels of size 19 inches are rotating...\n",
      "Transmission of type Automatic is shifting gears...\n",
      "Stopping the Tesla car...\n",
      "Engine is stopping...\n"
     ]
    }
   ],
   "source": [
    "class Engine:\n",
    "    def __init__(self, horsepower):\n",
    "        self.horsepower = horsepower\n",
    "    def start(self):\n",
    "        print(f\"Engine with {self.horsepower} horsepower is starting...\")\n",
    "    def stop(self):\n",
    "        print(\"Engine is stopping...\")\n",
    "class Wheels:\n",
    "    def __init__(self, size):\n",
    "        self.size = size\n",
    "    def rotate(self):\n",
    "        print(f\"Wheels of size {self.size} inches are rotating...\")\n",
    "class Transmission:\n",
    "    def __init__(self, type):\n",
    "        self.type = type\n",
    "    def shift(self):\n",
    "        print(f\"Transmission of type {self.type} is shifting gears...\")\n",
    "class Car:\n",
    "    def __init__(self, brand, horsepower, wheel_size, transmission_type):\n",
    "        self.brand = brand\n",
    "        self.engine = Engine(horsepower)\n",
    "        self.wheels = Wheels(wheel_size)\n",
    "        self.transmission = Transmission(transmission_type)\n",
    "    def start_car(self):\n",
    "        print(f\"Starting the {self.brand} car...\")\n",
    "        self.engine.start()\n",
    "        self.wheels.rotate()\n",
    "        self.transmission.shift()\n",
    "    def stop_car(self):\n",
    "        print(f\"Stopping the {self.brand} car...\")\n",
    "        self.engine.stop()\n",
    "my_car = Car(brand=\"Tesla\", horsepower=670, wheel_size=19, transmission_type=\"Automatic\")\n",
    "my_car.start_car()\n",
    "my_car.stop_car()\n"
   ]
  },
  {
   "cell_type": "markdown",
   "metadata": {},
   "source": [
    "11. How can you encapsulate and hide the details of composed objects in Python classes to maintain \n",
    "abstraction?"
   ]
  },
  {
   "cell_type": "code",
   "execution_count": 136,
   "metadata": {},
   "outputs": [
    {
     "name": "stdout",
     "output_type": "stream",
     "text": [
      "Starting the Tesla car...\n",
      "Engine with 670 horsepower is starting...\n",
      "Wheels of size 19 inches are rotating...\n",
      "Transmission of type Automatic is shifting gears...\n",
      "Stopping the Tesla car...\n",
      "Engine is stopping...\n"
     ]
    }
   ],
   "source": [
    "class Engine:\n",
    "    def __init__(self, horsepower):\n",
    "        self.horsepower = horsepower\n",
    "    def _start(self):\n",
    "        print(f\"Engine with {self.horsepower} horsepower is starting...\")\n",
    "    def _stop(self):\n",
    "        print(\"Engine is stopping...\")\n",
    "class Wheels:\n",
    "    def __init__(self, size):\n",
    "        self.size = size\n",
    "    def _rotate(self):\n",
    "        print(f\"Wheels of size {self.size} inches are rotating...\")\n",
    "class Transmission:\n",
    "    def __init__(self, type):\n",
    "        self.type = type\n",
    "    def _shift(self):\n",
    "        print(f\"Transmission of type {self.type} is shifting gears...\")\n",
    "class Car:\n",
    "    def __init__(self, brand, horsepower, wheel_size, transmission_type):\n",
    "        self.brand = brand\n",
    "        self.__engine = Engine(horsepower)\n",
    "        self.__wheels = Wheels(wheel_size)\n",
    "        self.__transmission = Transmission(transmission_type)\n",
    "    def start_car(self):\n",
    "        print(f\"Starting the {self.brand} car...\")\n",
    "        self.__engine._start()\n",
    "        self.__wheels._rotate()\n",
    "        self.__transmission._shift()\n",
    "    def stop_car(self):\n",
    "        print(f\"Stopping the {self.brand} car...\")\n",
    "        self.__engine._stop()\n",
    "my_car = Car(brand=\"Tesla\", horsepower=670, wheel_size=19, transmission_type=\"Automatic\")\n",
    "my_car.start_car()\n",
    "my_car.stop_car()"
   ]
  },
  {
   "cell_type": "markdown",
   "metadata": {},
   "source": [
    "12. Create a Python class for a university course, using composition to represent students, instructors, and \n",
    "course materials."
   ]
  },
  {
   "cell_type": "code",
   "execution_count": 137,
   "metadata": {},
   "outputs": [
    {
     "name": "stdout",
     "output_type": "stream",
     "text": [
      "Course: CS101 - Introduction to Computer Science\n",
      "Instructors:\n",
      "Instructor: Dr. Emily Brown, Employee ID: E2001\n",
      "\n",
      "Students:\n",
      "Student: John Doe, ID: S1001\n",
      "Student: Jane Smith, ID: S1002\n",
      "\n",
      "Course Materials:\n",
      "Material: Introduction to Python, Type: Lecture Slide\n",
      "Material: Data Structures and Algorithms, Type: Textbook\n"
     ]
    }
   ],
   "source": [
    "class Student:\n",
    "    def __init__(self, name, student_id):\n",
    "        self.name = name\n",
    "        self.student_id = student_id\n",
    "    def get_details(self):\n",
    "        return f\"Student: {self.name}, ID: {self.student_id}\"\n",
    "class Instructor:\n",
    "    def __init__(self, name, employee_id):\n",
    "        self.name = name\n",
    "        self.employee_id = employee_id\n",
    "    def get_details(self):\n",
    "        return f\"Instructor: {self.name}, Employee ID: {self.employee_id}\"\n",
    "class CourseMaterial:\n",
    "    def __init__(self, title, material_type):\n",
    "        self.title = title\n",
    "        self.material_type = material_type\n",
    "    def get_details(self):\n",
    "        return f\"Material: {self.title}, Type: {self.material_type}\"\n",
    "class Course:\n",
    "    def __init__(self, course_name):\n",
    "        self.course_name = course_name\n",
    "        self.__students = []\n",
    "        self.__instructors = []\n",
    "        self.__course_materials = []\n",
    "    def add_student(self, student):\n",
    "        self.__students.append(student)\n",
    "    def add_instructor(self, instructor):\n",
    "        self.__instructors.append(instructor)\n",
    "    def add_material(self, material):\n",
    "        self.__course_materials.append(material)\n",
    "    def get_course_details(self):\n",
    "        print(f\"Course: {self.course_name}\")\n",
    "        print(\"Instructors:\")\n",
    "        for instructor in self.__instructors:\n",
    "            print(instructor.get_details())\n",
    "        print(\"\\nStudents:\")\n",
    "        for student in self.__students:\n",
    "            print(student.get_details())\n",
    "        print(\"\\nCourse Materials:\")\n",
    "        for material in self.__course_materials:\n",
    "            print(material.get_details())\n",
    "student1 = Student(name=\"John Doe\", student_id=\"S1001\")\n",
    "student2 = Student(name=\"Jane Smith\", student_id=\"S1002\")\n",
    "instructor1 = Instructor(name=\"Dr. Emily Brown\", employee_id=\"E2001\")\n",
    "material1 = CourseMaterial(title=\"Introduction to Python\", material_type=\"Lecture Slide\")\n",
    "material2 = CourseMaterial(title=\"Data Structures and Algorithms\", material_type=\"Textbook\")\n",
    "course = Course(course_name=\"CS101 - Introduction to Computer Science\")\n",
    "course.add_student(student1)\n",
    "course.add_student(student2)\n",
    "course.add_instructor(instructor1)\n",
    "course.add_material(material1)\n",
    "course.add_material(material2)\n",
    "course.get_course_details()\n"
   ]
  },
  {
   "cell_type": "markdown",
   "metadata": {},
   "source": [
    "13. Discuss the challenges and drawbacks of composition, such as increased complexity and potential for \n",
    "tight coupling between objects."
   ]
  },
  {
   "cell_type": "markdown",
   "metadata": {},
   "source": [
    "1. Increased Complexity\n",
    "Challenge: As more classes are composed of other classes, the relationships between them become more intricate, increasing the overall complexity of the system.\n",
    "Explanation: A system with numerous composed objects can be harder to understand, maintain, and debug. If the composition is deep (i.e., many layers of objects composing other objects), it may lead to a complex and hard-to-follow structure.\n",
    "Example: If a class Car is composed of objects like Engine, Transmission, Wheels, Seats, etc., and each of these components is further composed of subcomponents, tracking the interactions between these objects can become cumbersome.\n",
    "2. Potential for Tight Coupling\n",
    "Challenge: Composition can sometimes lead to tight coupling between objects, making it harder to modify or replace individual components without affecting others.\n",
    "Explanation: If an object heavily relies on the implementation details of its composed objects, it becomes tightly coupled to those objects. This tight coupling can reduce flexibility and make it harder to change one component without breaking the whole system.\n",
    "Example: If a Car class is too dependent on the specifics of an Engine class and the Engine class undergoes significant changes (such as a redesign or a change in how it operates), the Car class will also need to be updated, even if the changes don't affect the car's overall behavior.\n",
    "3. Increased Communication Overhead\n",
    "Challenge: Composition can result in a lot of communication and interaction between objects, which can be harder to manage, especially when the system grows.\n",
    "Explanation: In a highly compositional system, objects often need to pass messages or data back and forth. Managing this flow of communication can lead to convoluted code, especially when the interactions are not well-documented or structured.\n",
    "Example: In a course management system, if the Course object communicates with the Student, Instructor, and CourseMaterial objects in an unstructured way, understanding the flow of logic and data within the system can become challenging.\n",
    "4. Increased Memory Usage\n",
    "Challenge: Composition can lead to increased memory usage because each composed object is a separate entity, which could introduce overhead in terms of storage and memory management.\n",
    "Explanation: Every time a new instance of a class is created, it consumes memory. If the system is built using deep composition (where objects contain several other objects), it can lead to higher memory consumption, which could become an issue in resource-constrained environments.\n",
    "Example: A system that models a city might have City composed of Buildings, which are composed of Rooms, which are composed of Furniture. This deep hierarchy can consume a lot of memory, especially when multiple instances are created.\n",
    "5. Difficulties in Testing and Debugging\n",
    "Challenge: Testing and debugging a system that uses composition can be harder, especially if there are many interactions between the composed objects.\n",
    "Explanation: Since objects in a composition rely on other objects to function, writing isolated unit tests for each component can be tricky. Changes in one component might inadvertently break other components that depend on it.\n",
    "Example: If a Book class is composed of an Author class and several other classes, and a bug arises in the Book class, you may need to investigate all the components that make up the Book (such as Author, Publisher, etc.) to determine the root cause.\n",
    "6. Difficulty in Substituting Components\n",
    "Challenge: While composition is intended to promote flexibility, it can sometimes be challenging to substitute one component with another, especially if the objects are not designed with proper interfaces or abstraction layers.\n",
    "Explanation: If composed objects don't adhere to a common interface or follow proper abstraction principles, swapping one object for another (e.g., changing the type of Engine in a Car) can lead to errors or require significant changes to the code.\n",
    "Example: In a music player system, if the Song object is tightly coupled to a specific audio format (e.g., MP3), replacing it with another format (e.g., WAV) might require significant refactoring.\n",
    "7. Too Many Dependencies\n",
    "Challenge: Excessive use of composition can lead to a large number of dependencies between classes, making the system harder to maintain.\n",
    "Explanation: When one class depends on several other classes, maintaining and updating the system becomes more difficult. Developers need to ensure that all composed objects are correctly initialized and interact as expected, which can lead to errors if not managed carefully.\n",
    "Example: In a course management system, the Course class might depend on the Student, Instructor, Schedule, and Grade classes. If any of these classes changes or introduces a bug, the entire system may malfunction.\n",
    "Conclusion:\n",
    "While composition offers many benefits, such as better modularity and flexibility compared to inheritance, it also introduces certain challenges. Increased complexity, potential tight coupling, and communication overhead can make composition harder to manage in large systems. To mitigate these drawbacks, developers should follow best practices, such as adhering to proper interfaces, designing loosely coupled components, and keeping the composition hierarchy shallow whenever possible."
   ]
  },
  {
   "cell_type": "markdown",
   "metadata": {},
   "source": [
    "14. Create a Python class hierarchy for a restaurant system, using composition to represent menus, dishes, \n",
    "and ingredients."
   ]
  },
  {
   "cell_type": "code",
   "execution_count": 138,
   "metadata": {},
   "outputs": [
    {
     "name": "stdout",
     "output_type": "stream",
     "text": [
      "Restaurant: Gourmet Delight\n",
      "Menu:\n",
      "Dish: Chicken Burger, Ingredients: ['2 slices of Tomato', '1 leaf of Lettuce', '1 slice of Cheese', '200g of Chicken']\n",
      "Dish: Beef Steak, Ingredients: ['300g of Beef']\n"
     ]
    }
   ],
   "source": [
    "class Ingredient:\n",
    "    def __init__(self, name, quantity):\n",
    "        self.name = name\n",
    "        self.quantity = quantity\n",
    "    def __str__(self):\n",
    "        return f\"{self.quantity} of {self.name}\"\n",
    "class Dish:\n",
    "    def __init__(self, name, ingredients):\n",
    "        self.name = name\n",
    "        self.ingredients = ingredients\n",
    "    def __str__(self):\n",
    "        return f\"Dish: {self.name}, Ingredients: {[str(ingredient) for ingredient in self.ingredients]}\"\n",
    "class Menu:\n",
    "    def __init__(self, dishes):\n",
    "        self.dishes = dishes  \n",
    "    def show_menu(self):\n",
    "        print(\"Menu:\")\n",
    "        for dish in self.dishes:\n",
    "            print(dish)\n",
    "class Restaurant:\n",
    "    def __init__(self, name, menu):\n",
    "        self.name = name\n",
    "        self.menu = menu\n",
    "    def display_restaurant_menu(self):\n",
    "        print(f\"Restaurant: {self.name}\")\n",
    "        self.menu.show_menu()\n",
    "ingredient1 = Ingredient(\"Tomato\", \"2 slices\")\n",
    "ingredient2 = Ingredient(\"Lettuce\", \"1 leaf\")\n",
    "ingredient3 = Ingredient(\"Cheese\", \"1 slice\")\n",
    "ingredient4 = Ingredient(\"Chicken\", \"200g\")\n",
    "ingredient5 = Ingredient(\"Beef\", \"300g\")\n",
    "dish1 = Dish(\"Chicken Burger\", [ingredient1, ingredient2, ingredient3, ingredient4])\n",
    "dish2 = Dish(\"Beef Steak\", [ingredient5])\n",
    "menu = Menu([dish1, dish2])\n",
    "restaurant = Restaurant(\"Gourmet Delight\", menu)\n",
    "restaurant.display_restaurant_menu()\n"
   ]
  },
  {
   "cell_type": "markdown",
   "metadata": {},
   "source": [
    "15. Explain how composition enhances code maintainability and modularity in Python programs."
   ]
  },
  {
   "cell_type": "markdown",
   "metadata": {},
   "source": [
    "1. Separation of Concerns:\n",
    "Composition breaks down a complex object into smaller, manageable components, each responsible for a specific task or feature. This separation allows individual components to be updated or modified independently, improving maintainability.\n",
    "Example: In a restaurant system, you can modify the Menu class without affecting the Restaurant class, as Restaurant only interacts with Menu as a composed object.\n",
    "python\n",
    "Copy code\n",
    "class Restaurant:\n",
    "    def __init__(self, name, menu):\n",
    "        self.name = name\n",
    "        self.menu = menu  # 'Restaurant' has a 'Menu'\n",
    "2. Flexibility and Reusability:\n",
    "Components built through composition are reusable across different contexts. For instance, a Menu object in one restaurant can be reused in another restaurant class, or a Dish object can be reused across different menus.\n",
    "Example: A Dish like \"Chicken Burger\" can be reused in various Menu objects for different restaurants.\n",
    "\n",
    "3. Ease of Modification:\n",
    "Since the components in composition are independent of each other, you can easily replace or modify one without impacting others. For example, you can update the Dish class (add new features) without changing the Restaurant or Menu classes.\n",
    "Example: You can add a new attribute to Dish (e.g., calorie count) without modifying the rest of the system.\n",
    "\n",
    "4. Reduced Tight Coupling:\n",
    "Inheritance often leads to tight coupling between the parent and child classes, where changes in the parent class affect all its child classes. Composition reduces this tight coupling because components are loosely connected through objects.\n",
    "Example: A Restaurant doesn't inherit from Menu; instead, it \"has\" a Menu. This allows you to change how Menu works internally without affecting Restaurant.\n",
    "\n",
    "5. Improved Testability:\n",
    "Composition allows individual components to be tested in isolation, which simplifies debugging and unit testing. Since the components are self-contained, you can mock or stub them easily in tests.\n",
    "Example: You can test the Dish class or Menu class individually, without needing to instantiate the entire Restaurant system.\n",
    "\n",
    "6. Modularity:\n",
    "Each class is responsible for a single aspect of the system, making the overall program modular. This modularity allows developers to build systems by composing simple, interchangeable parts. If a system needs to evolve, new parts can be added or existing ones can be extended.\n",
    "Example: If you want to extend the Restaurant system to support OnlineMenu, you can create a new OnlineMenu class and use it in place of Menu without changing the Restaurant class."
   ]
  },
  {
   "cell_type": "markdown",
   "metadata": {},
   "source": [
    "16. Create a Python class for a computer game character, using composition to represent attributes like \n",
    "weapons, armor, and inventory."
   ]
  },
  {
   "cell_type": "code",
   "execution_count": 139,
   "metadata": {},
   "outputs": [
    {
     "name": "stdout",
     "output_type": "stream",
     "text": [
      "Using Sword, dealing 50 damage.\n",
      "Equipped Shield, providing 20 defense.\n",
      "Inventory contains: Potion, Magic Scroll\n"
     ]
    }
   ],
   "source": [
    "class Weapon:\n",
    "    def __init__(self,name,damage):\n",
    "        self.name=name\n",
    "        self.damage=damage\n",
    "    def use(self):\n",
    "        return f\"Using {self.name}, dealing {self.damage} damage.\"\n",
    "class Armor:\n",
    "    def __init__(self,name,defense):\n",
    "        self.name=name\n",
    "        self.defense=defense\n",
    "    def equip(self):\n",
    "        return f\"Equipped {self.name}, providing {self.defense} defense.\"\n",
    "class Inventory:\n",
    "    def __init__(self):\n",
    "        self.items = []\n",
    "    def add_item(self, item):\n",
    "        self.items.append(item)\n",
    "    def show_items(self):\n",
    "        return f\"Inventory contains: {', '.join(self.items)}\"\n",
    "class GameCharacter:\n",
    "    def __init__(self, name, weapon, armor):\n",
    "        self.name = name\n",
    "        self.weapon = weapon\n",
    "        self.armor = armor\n",
    "        self.inventory = Inventory()\n",
    "    def attack(self):\n",
    "        return self.weapon.use()\n",
    "    def defend(self):\n",
    "        return self.armor.equip()\n",
    "    def add_to_inventory(self, item):\n",
    "        self.inventory.add_item(item)\n",
    "    def show_inventory(self):\n",
    "        return self.inventory.show_items()\n",
    "if __name__ == \"__main__\":\n",
    "    sword = Weapon(\"Sword\", 50)\n",
    "    shield = Armor(\"Shield\", 20)\n",
    "    hero = GameCharacter(\"Hero\", sword, shield)\n",
    "    print(hero.attack())\n",
    "    print(hero.defend())\n",
    "    hero.add_to_inventory(\"Potion\")\n",
    "    hero.add_to_inventory(\"Magic Scroll\")\n",
    "    print(hero.show_inventory())"
   ]
  },
  {
   "cell_type": "markdown",
   "metadata": {},
   "source": [
    "17. Describe the concept of \"aggregation\" in composition and how it differs from simple composition."
   ]
  },
  {
   "cell_type": "code",
   "execution_count": 5,
   "metadata": {},
   "outputs": [
    {
     "name": "stdout",
     "output_type": "stream",
     "text": [
      "['Professor Rick, Expertise: Computer Science', 'Professor Rob, Expertise: Mathematics']\n"
     ]
    }
   ],
   "source": [
    "class Professor:\n",
    "    def __init__(self, name, expertise):\n",
    "        self.name = name\n",
    "        self.expertise = expertise\n",
    "    def get_details(self):\n",
    "        return f\"Professor {self.name}, Expertise: {self.expertise}\"\n",
    "class Department:\n",
    "    def __init__(self, name):\n",
    "        self.name = name\n",
    "        self.professors = []\n",
    "    def add_professor(self, professor):\n",
    "        self.professors.append(professor) \n",
    "    def get_professors(self):\n",
    "        return [prof.get_details() for prof in self.professors]\n",
    "if __name__ == \"__main__\":\n",
    "    prof_john = Professor(\"Rick\", \"Computer Science\")\n",
    "    prof_jane = Professor(\"Rob\", \"Mathematics\")\n",
    "    cs_department = Department(\"Computer Science\")\n",
    "    cs_department.add_professor(prof_john)\n",
    "    cs_department.add_professor(prof_jane)\n",
    "    print(cs_department.get_professors())"
   ]
  },
  {
   "cell_type": "markdown",
   "metadata": {},
   "source": [
    "18. Create a Python class for a house, using composition to represent rooms, furniture, and appliances."
   ]
  },
  {
   "cell_type": "code",
   "execution_count": 6,
   "metadata": {},
   "outputs": [
    {
     "name": "stdout",
     "output_type": "stream",
     "text": [
      "House at: 123 Maple Street\n",
      "Room: Living Room\n",
      "  Furniture:\n",
      "    - Furniture: Sofa, Material: Leather\n",
      "  Appliances:\n",
      "    - Appliance: Fridge, Power: 150W\n",
      "\n",
      "Room: Bedroom\n",
      "  Furniture:\n",
      "    - Furniture: Bed, Material: Wood\n",
      "  Appliances:\n",
      "    - Appliance: Oven, Power: 1200W\n",
      "\n",
      "\n"
     ]
    }
   ],
   "source": [
    "class Furniture:\n",
    "    def __init__(self, name, material):\n",
    "        self.name = name\n",
    "        self.material = material\n",
    "    def get_details(self):\n",
    "        return f\"Furniture: {self.name}, Material: {self.material}\"\n",
    "class Appliance:\n",
    "    def __init__(self, name, power):\n",
    "        self.name = name\n",
    "        self.power = power\n",
    "    def get_details(self):\n",
    "        return f\"Appliance: {self.name}, Power: {self.power}W\"\n",
    "class Room:\n",
    "    def __init__(self, name):\n",
    "        self.name = name\n",
    "        self.furniture = []\n",
    "        self.appliances = [] \n",
    "    def add_furniture(self, furniture):\n",
    "        self.furniture.append(furniture)\n",
    "    def add_appliance(self, appliance):\n",
    "        self.appliances.append(appliance)\n",
    "    def get_details(self):\n",
    "        details = f\"Room: {self.name}\\n\"\n",
    "        details += \"  Furniture:\\n\"\n",
    "        for furn in self.furniture:\n",
    "            details += f\"    - {furn.get_details()}\\n\"\n",
    "        details += \"  Appliances:\\n\"\n",
    "        for appl in self.appliances:\n",
    "            details += f\"    - {appl.get_details()}\\n\"\n",
    "        return details\n",
    "class House:\n",
    "    def __init__(self, address):\n",
    "        self.address = address\n",
    "        self.rooms = [] \n",
    "    def add_room(self, room):\n",
    "        self.rooms.append(room)\n",
    "    def get_details(self):\n",
    "        details = f\"House at: {self.address}\\n\"\n",
    "        for room in self.rooms:\n",
    "            details += f\"{room.get_details()}\\n\"\n",
    "        return details\n",
    "if __name__ == \"__main__\":\n",
    "    sofa = Furniture(\"Sofa\", \"Leather\")\n",
    "    bed = Furniture(\"Bed\", \"Wood\")\n",
    "    fridge = Appliance(\"Fridge\", 150)\n",
    "    oven = Appliance(\"Oven\", 1200)\n",
    "    living_room = Room(\"Living Room\")\n",
    "    living_room.add_furniture(sofa)\n",
    "    living_room.add_appliance(fridge)\n",
    "    bedroom = Room(\"Bedroom\")\n",
    "    bedroom.add_furniture(bed)\n",
    "    bedroom.add_appliance(oven)\n",
    "    my_house = House(\"123 Maple Street\")\n",
    "    my_house.add_room(living_room)\n",
    "    my_house.add_room(bedroom)\n",
    "    print(my_house.get_details())\n"
   ]
  },
  {
   "cell_type": "markdown",
   "metadata": {},
   "source": [
    "19. How can you achieve flexibility in composed objects by allowing them to be replaced or modified \n",
    "dynamically at runtime?"
   ]
  },
  {
   "cell_type": "code",
   "execution_count": 7,
   "metadata": {},
   "outputs": [
    {
     "name": "stdout",
     "output_type": "stream",
     "text": [
      "Initial House Details:\n",
      "House at: 123 Maple Street\n",
      "Room: Living Room\n",
      "  Furniture:\n",
      "    - Furniture: Sofa, Material: Leather\n",
      "  Appliances:\n",
      "    - Appliance: Fridge, Power: 150W\n",
      "\n",
      "\n",
      "\n",
      "Replacing sofa with a table in the living room...\n",
      "\n",
      "Updated House Details:\n",
      "House at: 123 Maple Street\n",
      "Room: Living Room\n",
      "  Furniture:\n",
      "    - Furniture: Table, Material: Glass\n",
      "  Appliances:\n",
      "    - Appliance: Fridge, Power: 150W\n",
      "\n",
      "\n",
      "\n",
      "Adding oven to the livingroom...\n",
      "\n",
      "Final House Details:\n",
      "House at: 123 Maple Street\n",
      "Room: Living Room\n",
      "  Furniture:\n",
      "    - Furniture: Table, Material: Glass\n",
      "  Appliances:\n",
      "    - Appliance: Fridge, Power: 150W\n",
      "    - Appliance: Oven, Power: 1200W\n",
      "\n",
      "\n"
     ]
    }
   ],
   "source": [
    "class Furniture:\n",
    "    def __init__(self, name, material):\n",
    "        self.name = name\n",
    "        self.material = material\n",
    "\n",
    "    def get_details(self):\n",
    "        return f\"Furniture: {self.name}, Material: {self.material}\"\n",
    "class Appliance:\n",
    "    def __init__(self, name, power):\n",
    "        self.name = name\n",
    "        self.power = power\n",
    "    def get_details(self):\n",
    "        return f\"Appliance: {self.name}, Power: {self.power}W\"\n",
    "class Room:\n",
    "    def __init__(self, name):\n",
    "        self.name = name\n",
    "        self.furniture = []\n",
    "        self.appliances = [] \n",
    "    def add_furniture(self, furniture):\n",
    "        self.furniture.append(furniture)\n",
    "    def remove_furniture(self, furniture_name):\n",
    "        self.furniture = [furn for furn in self.furniture if furn.name != furniture_name]\n",
    "    def replace_furniture(self, old_furniture_name, new_furniture):\n",
    "        self.remove_furniture(old_furniture_name)\n",
    "        self.add_furniture(new_furniture)\n",
    "    def add_appliance(self, appliance):\n",
    "        self.appliances.append(appliance)\n",
    "    def get_details(self):\n",
    "        details = f\"Room: {self.name}\\n\"\n",
    "        details += \"  Furniture:\\n\"\n",
    "        for furn in self.furniture:\n",
    "            details += f\"    - {furn.get_details()}\\n\"\n",
    "        details += \"  Appliances:\\n\"\n",
    "        for appl in self.appliances:\n",
    "            details += f\"    - {appl.get_details()}\\n\"\n",
    "        return details\n",
    "class House:\n",
    "    def __init__(self, address):\n",
    "        self.address = address\n",
    "        self.rooms = [] \n",
    "    def add_room(self, room):\n",
    "        self.rooms.append(room)\n",
    "    def get_details(self):\n",
    "        details = f\"House at: {self.address}\\n\"\n",
    "        for room in self.rooms:\n",
    "            details += f\"{room.get_details()}\\n\"\n",
    "        return details\n",
    "if __name__ == \"__main__\":\n",
    "    sofa = Furniture(\"Sofa\", \"Leather\")\n",
    "    bed = Furniture(\"Bed\", \"Wood\")\n",
    "    table = Furniture(\"Table\", \"Glass\")\n",
    "    fridge = Appliance(\"Fridge\", 150)\n",
    "    oven = Appliance(\"Oven\", 1200)\n",
    "    living_room = Room(\"Living Room\")\n",
    "    living_room.add_furniture(sofa)\n",
    "    living_room.add_appliance(fridge)\n",
    "    my_house = House(\"123 Maple Street\")\n",
    "    my_house.add_room(living_room)\n",
    "    print(\"Initial House Details:\")\n",
    "    print(my_house.get_details())\n",
    "    print(\"\\nReplacing sofa with a table in the living room...\")\n",
    "    living_room.replace_furniture(\"Sofa\", table)\n",
    "    print(\"\\nUpdated House Details:\")\n",
    "    print(my_house.get_details())\n",
    "    print(\"\\nAdding oven to the livingroom...\")\n",
    "    living_room.add_appliance(oven)\n",
    "    print(\"\\nFinal House Details:\")\n",
    "    print(my_house.get_details())"
   ]
  },
  {
   "cell_type": "markdown",
   "metadata": {},
   "source": [
    "20. Create a Python class for a social media application, using composition to represent users, posts, and \n",
    "comments."
   ]
  },
  {
   "cell_type": "code",
   "execution_count": 8,
   "metadata": {},
   "outputs": [
    {
     "name": "stdout",
     "output_type": "stream",
     "text": [
      "User: alice\n",
      "Posts:\n",
      "Post: My First Post by alice\n",
      "Content: This is the content of my first post!\n",
      "Comments:\n",
      "  - bob commented: Great post, Alice!\n",
      "\n",
      "Post: My Second Post by alice\n",
      "Content: Another post with some content.\n",
      "Comments:\n",
      "  - alice commented: This is my own comment on my second post.\n",
      "\n",
      "\n"
     ]
    }
   ],
   "source": [
    "class Comment:\n",
    "    def __init__(self, username, text):\n",
    "        self.username = username\n",
    "        self.text = text\n",
    "    def get_details(self):\n",
    "        return f\"{self.username} commented: {self.text}\"\n",
    "class Post:\n",
    "    def __init__(self, title, content, author):\n",
    "        self.title = title\n",
    "        self.content = content\n",
    "        self.author = author\n",
    "        self.comments = []\n",
    "    def add_comment(self, comment):\n",
    "        self.comments.append(comment)\n",
    "    def get_details(self):\n",
    "        details = f\"Post: {self.title} by {self.author}\\n\"\n",
    "        details += f\"Content: {self.content}\\n\"\n",
    "        details += \"Comments:\\n\"\n",
    "        for comment in self.comments:\n",
    "            details += f\"  - {comment.get_details()}\\n\"\n",
    "        return details\n",
    "class User:\n",
    "    def __init__(self, username):\n",
    "        self.username = username\n",
    "        self.posts = []\n",
    "    def create_post(self, title, content):\n",
    "        new_post = Post(title, content, self.username)\n",
    "        self.posts.append(new_post)\n",
    "        return new_post\n",
    "    def comment_on_post(self, post, comment_text):\n",
    "        new_comment = Comment(self.username, comment_text)\n",
    "        post.add_comment(new_comment)\n",
    "    def get_posts(self):\n",
    "        details = f\"User: {self.username}\\n\"\n",
    "        details += \"Posts:\\n\"\n",
    "        for post in self.posts:\n",
    "            details += post.get_details() + \"\\n\"\n",
    "        return details\n",
    "if __name__ == \"__main__\":\n",
    "    user1 = User(\"alice\")\n",
    "    user2 = User(\"bob\")\n",
    "    post1 = user1.create_post(\"My First Post\", \"This is the content of my first post!\")\n",
    "    user2.comment_on_post(post1, \"Great post, Alice!\")\n",
    "    post2 = user1.create_post(\"My Second Post\", \"Another post with some content.\")\n",
    "    user1.comment_on_post(post2, \"This is my own comment on my second post.\")\n",
    "    print(user1.get_posts())\n"
   ]
  }
 ],
 "metadata": {
  "kernelspec": {
   "display_name": "Python 3",
   "language": "python",
   "name": "python3"
  },
  "language_info": {
   "codemirror_mode": {
    "name": "ipython",
    "version": 3
   },
   "file_extension": ".py",
   "mimetype": "text/x-python",
   "name": "python",
   "nbconvert_exporter": "python",
   "pygments_lexer": "ipython3",
   "version": "3.9.6"
  }
 },
 "nbformat": 4,
 "nbformat_minor": 2
}
